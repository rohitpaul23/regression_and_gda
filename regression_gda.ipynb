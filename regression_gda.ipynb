{
  "cells": [
    {
      "cell_type": "markdown",
      "metadata": {
        "id": "view-in-github",
        "colab_type": "text"
      },
      "source": [
        "<a href=\"https://colab.research.google.com/github/rohitpaul23/regression_and_gda/blob/main/regression_gda.ipynb\" target=\"_parent\"><img src=\"https://colab.research.google.com/assets/colab-badge.svg\" alt=\"Open In Colab\"/></a>"
      ]
    },
    {
      "cell_type": "markdown",
      "metadata": {
        "id": "-WC-0e9Qoi-c"
      },
      "source": [
        "Linear Regression\n",
        "\n",
        "\n",
        "In this problem, will implement least squares linear regression to predict density of wine based on its\n",
        "acidity. \n",
        "\n",
        "The files linearX.csv and linearY.csv contain the acidity of the wine (x (i) ’s, x (i) ∈ R) and its density (y (i) ’s, y (i) ∈ R), respectively, with one training example per row. Here, least squares linear regression is implemented to learn the relationship between x (i) ’s and y (i) ’s."
      ]
    },
    {
      "cell_type": "markdown",
      "metadata": {
        "id": "bzZJU4CXoi-i"
      },
      "source": [
        "(a) Implement batch gradient descent method for optimizing J(θ). Choose an appropriate learning rate and the stopping criteria (as a function of the change in the value of J(θ)). Report your learning rate, stopping criteria and the final set of parameters obtained by your\n",
        "algorithm."
      ]
    },
    {
      "cell_type": "code",
      "execution_count": 1,
      "metadata": {
        "id": "YeU7WQ1Moi-j"
      },
      "outputs": [],
      "source": [
        "import pandas as pd\n",
        "import numpy as np\n",
        "import matplotlib.pyplot as plt\n",
        "from mpl_toolkits import mplot3d"
      ]
    },
    {
      "cell_type": "code",
      "source": [
        "from google.colab import drive\n",
        "drive.mount(\"/content/gdrive\")"
      ],
      "metadata": {
        "colab": {
          "base_uri": "https://localhost:8080/"
        },
        "id": "8TrXZqZYsVv3",
        "outputId": "d5834697-1c29-440d-bb3a-03ca7efd184a"
      },
      "execution_count": 2,
      "outputs": [
        {
          "output_type": "stream",
          "name": "stdout",
          "text": [
            "Mounted at /content/gdrive\n"
          ]
        }
      ]
    },
    {
      "cell_type": "code",
      "execution_count": 5,
      "metadata": {
        "id": "9Os9lk7Toi-k"
      },
      "outputs": [],
      "source": [
        "dataX_df = pd.read_csv('/content/gdrive/My Drive/projectData/ass1/data/q1/linearX.csv', header=None, names=['X'])\n",
        "dataY_df = pd.read_csv('/content/gdrive/My Drive/projectData/ass1/data/q1/linearY.csv', header=None, names=['y'])"
      ]
    },
    {
      "cell_type": "code",
      "execution_count": 6,
      "metadata": {
        "id": "9Cpb5KTPoi-l",
        "colab": {
          "base_uri": "https://localhost:8080/"
        },
        "outputId": "8680a47e-a5b1-4072-faef-af208b776acf"
      },
      "outputs": [
        {
          "output_type": "execute_result",
          "data": {
            "text/plain": [
              "(100, 1)"
            ]
          },
          "metadata": {},
          "execution_count": 6
        }
      ],
      "source": [
        "dataX_df.shape"
      ]
    },
    {
      "cell_type": "code",
      "execution_count": 7,
      "metadata": {
        "id": "u9dNQcC0oi-n",
        "colab": {
          "base_uri": "https://localhost:8080/"
        },
        "outputId": "784702ed-9f26-4bc6-f7c4-d0774fb0adcb"
      },
      "outputs": [
        {
          "output_type": "execute_result",
          "data": {
            "text/plain": [
              "100"
            ]
          },
          "metadata": {},
          "execution_count": 7
        }
      ],
      "source": [
        "q1_m = dataX_df.shape[0]\n",
        "q1_m"
      ]
    },
    {
      "cell_type": "markdown",
      "metadata": {
        "id": "HfuliF_woi-o"
      },
      "source": [
        "Converting the data to an array with one being added as X0 to X"
      ]
    },
    {
      "cell_type": "code",
      "execution_count": 8,
      "metadata": {
        "id": "kHOgpanfoi-p",
        "colab": {
          "base_uri": "https://localhost:8080/"
        },
        "outputId": "d0f5703e-1675-44df-cef0-2a848eb1cfc4"
      },
      "outputs": [
        {
          "output_type": "execute_result",
          "data": {
            "text/plain": [
              "((100, 2), (100, 1))"
            ]
          },
          "metadata": {},
          "execution_count": 8
        }
      ],
      "source": [
        "q1_X = dataX_df['X'].to_numpy().reshape(q1_m, 1)\n",
        "ones = np.ones((q1_m, 1))\n",
        "q1_X = np.concatenate((ones, q1_X), axis=1)\n",
        "q1_y = dataY_df['y'].to_numpy().reshape(q1_m, 1)\n",
        "q1_X.shape, q1_y.shape"
      ]
    },
    {
      "cell_type": "markdown",
      "metadata": {
        "id": "hkpWiT6qoi-q"
      },
      "source": [
        "First 5 elements of X and y"
      ]
    },
    {
      "cell_type": "code",
      "execution_count": 9,
      "metadata": {
        "id": "HOC-OloBoi-r",
        "colab": {
          "base_uri": "https://localhost:8080/"
        },
        "outputId": "e8c964de-914c-4c66-fc99-d9b76a37a582"
      },
      "outputs": [
        {
          "output_type": "execute_result",
          "data": {
            "text/plain": [
              "(array([[1. , 9.1],\n",
              "        [1. , 8. ],\n",
              "        [1. , 9.1],\n",
              "        [1. , 8.4],\n",
              "        [1. , 6.9]]), array([[0.99523],\n",
              "        [0.99007],\n",
              "        [0.99769],\n",
              "        [0.99386],\n",
              "        [0.99508]]))"
            ]
          },
          "metadata": {},
          "execution_count": 9
        }
      ],
      "source": [
        "q1_X[:5], q1_y[:5]"
      ]
    },
    {
      "cell_type": "code",
      "execution_count": 10,
      "metadata": {
        "id": "4UhLwvMCoi-s",
        "colab": {
          "base_uri": "https://localhost:8080/",
          "height": 312
        },
        "outputId": "9ef0f9c9-e112-4525-d64b-683609bab3a9"
      },
      "outputs": [
        {
          "output_type": "execute_result",
          "data": {
            "text/plain": [
              "Text(0.5, 1.0, 'Traning Dataset')"
            ]
          },
          "metadata": {},
          "execution_count": 10
        },
        {
          "output_type": "display_data",
          "data": {
            "text/plain": [
              "<Figure size 432x288 with 1 Axes>"
            ],
            "image/png": "[encoded data removed]"
          },
          "metadata": {
            "needs_background": "light"
          }
        }
      ],
      "source": [
        "plt.scatter(dataX_df, dataY_df)\n",
        "plt.xlabel('X')\n",
        "plt.ylabel('y')\n",
        "plt.title('Traning Dataset')"
      ]
    },
    {
      "cell_type": "markdown",
      "metadata": {
        "id": "sLEn0UiYoi-t"
      },
      "source": [
        "Function to predict y based on x and theta value"
      ]
    },
    {
      "cell_type": "code",
      "execution_count": 11,
      "metadata": {
        "id": "7dd6ER80oi-t"
      },
      "outputs": [],
      "source": [
        "def predicted_y(data, theta=np.array([[0], [0]])):\n",
        "    return data@theta"
      ]
    },
    {
      "cell_type": "markdown",
      "metadata": {
        "id": "fJ-H0Wsuoi-u"
      },
      "source": [
        "Early prediction taking theta as [0, 0]"
      ]
    },
    {
      "cell_type": "code",
      "execution_count": 12,
      "metadata": {
        "id": "xPRph6K_oi-u",
        "colab": {
          "base_uri": "https://localhost:8080/"
        },
        "outputId": "9877dccb-b064-40cd-fee5-4ebd52d49dae"
      },
      "outputs": [
        {
          "output_type": "execute_result",
          "data": {
            "text/plain": [
              "array([[0.],\n",
              "       [0.],\n",
              "       [0.],\n",
              "       [0.],\n",
              "       [0.]])"
            ]
          },
          "metadata": {},
          "execution_count": 12
        }
      ],
      "source": [
        "predicted_y(q1_X)[:5]"
      ]
    },
    {
      "cell_type": "markdown",
      "metadata": {
        "id": "VFPKTX-ooi-v"
      },
      "source": [
        "Cost function "
      ]
    },
    {
      "cell_type": "code",
      "execution_count": 13,
      "metadata": {
        "id": "woVXcDuCoi-v"
      },
      "outputs": [],
      "source": [
        "def cost_function(X, Y, theta= np.array([[0], [0]])):\n",
        "    m = len(Y)\n",
        "    predictedY = predicted_y(X, theta)\n",
        "    diff = (Y - predictedY)\n",
        "    sum_ = diff.T@diff\n",
        "    return sum_[0][0]/(2*m)"
      ]
    },
    {
      "cell_type": "markdown",
      "metadata": {
        "id": "-yvLMIe-oi-w"
      },
      "source": [
        "Initial Cost"
      ]
    },
    {
      "cell_type": "code",
      "execution_count": 14,
      "metadata": {
        "id": "QnmEyQ-9oi-w",
        "colab": {
          "base_uri": "https://localhost:8080/"
        },
        "outputId": "b8972fe2-fc5e-45ae-c14e-4b21128d8253"
      },
      "outputs": [
        {
          "output_type": "execute_result",
          "data": {
            "text/plain": [
              "0.4966279047145001"
            ]
          },
          "metadata": {},
          "execution_count": 14
        }
      ],
      "source": [
        "cost_function(q1_X, q1_y)"
      ]
    },
    {
      "cell_type": "markdown",
      "metadata": {
        "id": "tnLQVWnWoi-x"
      },
      "source": [
        "Update theta based on the predicted y and real y"
      ]
    },
    {
      "cell_type": "code",
      "execution_count": 15,
      "metadata": {
        "id": "7gPwW3lfoi-x"
      },
      "outputs": [],
      "source": [
        "def updateParameter(X, Y, learning_rate, theta = np.array([[0],[0]])):\n",
        "    m = X.shape[0]\n",
        "    n = X.shape[1]\n",
        "    predY = predicted_y(X, theta)\n",
        "    sum = (Y - predY).T@X\n",
        "    sum = sum.reshape(n, 1)\n",
        "    updation = (learning_rate*sum)/m\n",
        "    theta = theta + updation\n",
        "    return theta"
      ]
    },
    {
      "cell_type": "code",
      "execution_count": 16,
      "metadata": {
        "id": "jHE5-Qy6oi-y",
        "colab": {
          "base_uri": "https://localhost:8080/"
        },
        "outputId": "ac877d39-71a5-47f7-aee1-ad2a417d62b8"
      },
      "outputs": [
        {
          "output_type": "execute_result",
          "data": {
            "text/plain": [
              "array([[0.04983101],\n",
              "       [0.40185303]])"
            ]
          },
          "metadata": {},
          "execution_count": 16
        }
      ],
      "source": [
        "updateParameter(q1_X, q1_y, 0.05)"
      ]
    },
    {
      "cell_type": "markdown",
      "metadata": {
        "id": "s8vI0bfGoi-y"
      },
      "source": [
        "Batch Gradient Descent\n",
        "\n",
        "Input:\n",
        "X - Training Input data \n",
        "y - Training Output data\n",
        "learningRate - Learning Rate\n",
        "epoch - Number of times parameter will be update\n",
        "\n",
        "Output:\n",
        "theta - Updated Theta parameter"
      ]
    },
    {
      "cell_type": "code",
      "execution_count": 17,
      "metadata": {
        "id": "9Rkv9M2Aoi-z"
      },
      "outputs": [],
      "source": [
        "def batchGradientDescent(X, Y, learningRate, epoch, convergence):\n",
        "    theta = np.array([[0.0], [0.0]])\n",
        "    thetaList = []\n",
        "    cost_list = []\n",
        "    for turn in range(epoch):\n",
        "        theta = updateParameter(X, Y, learningRate, theta)\n",
        "        thetaList.append(theta)\n",
        "        cost_ = cost_function(X, Y, theta)\n",
        "        perUpdate = 1\n",
        "        if turn != 0:\n",
        "           costDiff = abs(cost_ - cost_list[-1])\n",
        "           perUpdate = costDiff/cost_list[-1]\n",
        "        if perUpdate < convergence:\n",
        "            return thetaList[:-1], cost_list\n",
        "        cost_list.append(cost_)\n",
        "    return thetaList, cost_list"
      ]
    },
    {
      "cell_type": "markdown",
      "metadata": {
        "id": "x_Sm3fPMoi-z"
      },
      "source": [
        "Batch Gradient Descent for learning rate 0.1"
      ]
    },
    {
      "cell_type": "code",
      "execution_count": 18,
      "metadata": {
        "id": "eOYxi0Nuoi-z"
      },
      "outputs": [],
      "source": [
        "thetaPara1, costList1 = batchGradientDescent(q1_X, q1_y, 0.1, 100, 0)"
      ]
    },
    {
      "cell_type": "code",
      "execution_count": 19,
      "metadata": {
        "id": "bmSfi671oi-0"
      },
      "outputs": [],
      "source": [
        "q1_y_1 = predicted_y(q1_X, thetaPara1[-1])"
      ]
    },
    {
      "cell_type": "code",
      "execution_count": 20,
      "metadata": {
        "id": "dQ0aAWvhoi-0",
        "colab": {
          "base_uri": "https://localhost:8080/"
        },
        "outputId": "529cb74f-7f8b-4641-e3e1-f7d3769d5e1e"
      },
      "outputs": [
        {
          "output_type": "execute_result",
          "data": {
            "text/plain": [
              "5.405059534761875e+153"
            ]
          },
          "metadata": {},
          "execution_count": 20
        }
      ],
      "source": [
        "cost_function(q1_X, q1_y, thetaPara1[-1])"
      ]
    },
    {
      "cell_type": "markdown",
      "metadata": {
        "id": "yI5YU1fKoi-0"
      },
      "source": [
        "Batch Gradient Descent for learning rate 0.025"
      ]
    },
    {
      "cell_type": "code",
      "execution_count": 21,
      "metadata": {
        "id": "ZhayxNOYoi-1"
      },
      "outputs": [],
      "source": [
        "thetaPara2, costList2 = batchGradientDescent(q1_X, q1_y, 0.025, 10000, 0.001)"
      ]
    },
    {
      "cell_type": "code",
      "execution_count": 22,
      "metadata": {
        "id": "eQhwWK1Yoi-1"
      },
      "outputs": [],
      "source": [
        "q1_y_2 = predicted_y(q1_X, thetaPara2[-1])"
      ]
    },
    {
      "cell_type": "code",
      "execution_count": 23,
      "metadata": {
        "id": "deE9Sd20oi-1",
        "colab": {
          "base_uri": "https://localhost:8080/"
        },
        "outputId": "d0efd6de-7965-4f67-b50d-daad386cf418"
      },
      "outputs": [
        {
          "output_type": "execute_result",
          "data": {
            "text/plain": [
              "array([[0.98346529],\n",
              "       [0.00159492]])"
            ]
          },
          "metadata": {},
          "execution_count": 23
        }
      ],
      "source": [
        "thetaPara2[-1]"
      ]
    },
    {
      "cell_type": "code",
      "execution_count": 24,
      "metadata": {
        "id": "9I6pxSE8oi-2",
        "colab": {
          "base_uri": "https://localhost:8080/"
        },
        "outputId": "f67a344f-68dc-41d1-b26f-f4e39ae658cf"
      },
      "outputs": [
        {
          "output_type": "execute_result",
          "data": {
            "text/plain": [
              "2.2300654835395997e-06"
            ]
          },
          "metadata": {},
          "execution_count": 24
        }
      ],
      "source": [
        "cost_function(q1_X, q1_y, thetaPara2[-1])"
      ]
    },
    {
      "cell_type": "markdown",
      "metadata": {
        "id": "eDJ-4iGtoi-2"
      },
      "source": [
        "Batch Gradient Descent for learning rate 0.001"
      ]
    },
    {
      "cell_type": "code",
      "execution_count": 25,
      "metadata": {
        "id": "ujNvv91Aoi-2"
      },
      "outputs": [],
      "source": [
        "thetaPara3, costList3 = batchGradientDescent(q1_X, q1_y, 0.001, 100000, 0.000075)"
      ]
    },
    {
      "cell_type": "code",
      "execution_count": 26,
      "metadata": {
        "id": "zjCRnj_moi-3"
      },
      "outputs": [],
      "source": [
        "q1_y_3 = predicted_y(q1_X, thetaPara3[-1])"
      ]
    },
    {
      "cell_type": "code",
      "execution_count": 27,
      "metadata": {
        "id": "9FrjPPg6oi-3",
        "colab": {
          "base_uri": "https://localhost:8080/"
        },
        "outputId": "4a2dc180-83eb-4d53-bc52-4ec536eebccf"
      },
      "outputs": [
        {
          "output_type": "execute_result",
          "data": {
            "text/plain": [
              "array([[0.9711762 ],\n",
              "       [0.00305357]])"
            ]
          },
          "metadata": {},
          "execution_count": 27
        }
      ],
      "source": [
        "thetaPara3[-1]"
      ]
    },
    {
      "cell_type": "code",
      "execution_count": 28,
      "metadata": {
        "id": "vLe9WG90oi-3",
        "colab": {
          "base_uri": "https://localhost:8080/"
        },
        "outputId": "9b8d6c22-1878-43a5-9d7c-9cb62fb15142"
      },
      "outputs": [
        {
          "output_type": "execute_result",
          "data": {
            "text/plain": [
              "9.224961797159204e-06"
            ]
          },
          "metadata": {},
          "execution_count": 28
        }
      ],
      "source": [
        "cost_function(q1_X, q1_y, thetaPara3[-1])"
      ]
    },
    {
      "cell_type": "markdown",
      "metadata": {
        "id": "LuFb0Iouoi-3"
      },
      "source": [
        "Graph based Analysis with respect to different learning rate"
      ]
    },
    {
      "cell_type": "code",
      "execution_count": 29,
      "metadata": {
        "id": "zZRBsVWKoi-4"
      },
      "outputs": [],
      "source": [
        "def comparePredictedY(X, Y, Y_pred):\n",
        "    X_i = [ele[1] for ele in X]\n",
        "    plt.scatter(X_i, Y, label='real')\n",
        "    plt.plot(X_i, Y_pred, label='predicted')\n",
        "    plt.xlabel('x-axis')\n",
        "    plt.ylabel('y-axis')\n",
        "    plt.title('Comparison')\n",
        "    plt.legend()\n",
        "    plt.show()\n"
      ]
    },
    {
      "cell_type": "markdown",
      "metadata": {
        "id": "8NH_f70Voi-4"
      },
      "source": [
        "Comparing predicted y with real y for learning rate 0.1"
      ]
    },
    {
      "cell_type": "code",
      "execution_count": 30,
      "metadata": {
        "id": "OsuKOCYxoi-4",
        "colab": {
          "base_uri": "https://localhost:8080/",
          "height": 295
        },
        "outputId": "c43b6156-ba31-46a2-a001-6bec257c7b24"
      },
      "outputs": [
        {
          "output_type": "display_data",
          "data": {
            "text/plain": [
              "<Figure size 432x288 with 1 Axes>"
            ],
            "image/png": "[encoded data removed]"
          },
          "metadata": {
            "needs_background": "light"
          }
        }
      ],
      "source": [
        "comparePredictedY(q1_X, q1_y, q1_y_1)"
      ]
    },
    {
      "cell_type": "markdown",
      "metadata": {
        "id": "u2aXrGX9oi-4"
      },
      "source": [
        "Comparing predicted y with real y for learning rate 0.025"
      ]
    },
    {
      "cell_type": "code",
      "execution_count": 31,
      "metadata": {
        "id": "jHQEFu-xoi-5",
        "colab": {
          "base_uri": "https://localhost:8080/",
          "height": 295
        },
        "outputId": "3d466611-a257-4080-a57b-a7a9b69f6e9d"
      },
      "outputs": [
        {
          "output_type": "display_data",
          "data": {
            "text/plain": [
              "<Figure size 432x288 with 1 Axes>"
            ],
            "image/png": "[encoded data removed]"
          },
          "metadata": {
            "needs_background": "light"
          }
        }
      ],
      "source": [
        "comparePredictedY(q1_X, q1_y, q1_y_2)"
      ]
    },
    {
      "cell_type": "markdown",
      "metadata": {
        "id": "dEVKlPoFoi-5"
      },
      "source": [
        "Comparing predicted y with real y for learning rate 0.001"
      ]
    },
    {
      "cell_type": "code",
      "execution_count": 32,
      "metadata": {
        "id": "E5PKvsAXoi-5",
        "colab": {
          "base_uri": "https://localhost:8080/",
          "height": 295
        },
        "outputId": "7a647153-555c-47aa-d4f2-ad085f99e097"
      },
      "outputs": [
        {
          "output_type": "display_data",
          "data": {
            "text/plain": [
              "<Figure size 432x288 with 1 Axes>"
            ],
            "image/png": "[encoded data removed]"
          },
          "metadata": {
            "needs_background": "light"
          }
        }
      ],
      "source": [
        "comparePredictedY(q1_X, q1_y, q1_y_3)"
      ]
    },
    {
      "cell_type": "markdown",
      "metadata": {
        "id": "dj_yMqXFoi-6"
      },
      "source": [
        "Cost Function vs Epoch for different learning parameter"
      ]
    },
    {
      "cell_type": "code",
      "execution_count": 33,
      "metadata": {
        "id": "sURKOlscoi-6"
      },
      "outputs": [],
      "source": [
        "def costGraphh(alist):\n",
        "    len_ = len(alist)\n",
        "    xVal = [ele for ele in range(1, len_ + 1)]    \n",
        "    plt.plot(xVal, alist)\n",
        "    plt.xlabel('x-axis')\n",
        "    plt.ylabel('y-axis')\n",
        "    plt.title('Cost graph')\n",
        "    plt.show()"
      ]
    },
    {
      "cell_type": "code",
      "execution_count": 34,
      "metadata": {
        "id": "Nu-tp8tCoi-6",
        "colab": {
          "base_uri": "https://localhost:8080/",
          "height": 295
        },
        "outputId": "6c81855a-d01e-4994-9d3c-e570d5facfb5"
      },
      "outputs": [
        {
          "output_type": "display_data",
          "data": {
            "text/plain": [
              "<Figure size 432x288 with 1 Axes>"
            ],
            "image/png": "[encoded data removed]"
          },
          "metadata": {
            "needs_background": "light"
          }
        }
      ],
      "source": [
        "costGraphh(costList1)"
      ]
    },
    {
      "cell_type": "code",
      "execution_count": 35,
      "metadata": {
        "id": "aMWu83SKoi-7",
        "colab": {
          "base_uri": "https://localhost:8080/",
          "height": 295
        },
        "outputId": "96a7b4c9-d0af-46e3-ebc9-1f3a77e7d66c"
      },
      "outputs": [
        {
          "output_type": "display_data",
          "data": {
            "text/plain": [
              "<Figure size 432x288 with 1 Axes>"
            ],
            "image/png": "[encoded data removed]"
          },
          "metadata": {
            "needs_background": "light"
          }
        }
      ],
      "source": [
        "costGraphh(costList2)"
      ]
    },
    {
      "cell_type": "code",
      "execution_count": 36,
      "metadata": {
        "id": "tfQNr29aoi-7",
        "colab": {
          "base_uri": "https://localhost:8080/",
          "height": 295
        },
        "outputId": "c5bea625-db07-4c27-c70c-946aabc5814a"
      },
      "outputs": [
        {
          "output_type": "display_data",
          "data": {
            "text/plain": [
              "<Figure size 432x288 with 1 Axes>"
            ],
            "image/png": "[encoded data removed]"
          },
          "metadata": {
            "needs_background": "light"
          }
        }
      ],
      "source": [
        "costGraphh(costList3)"
      ]
    },
    {
      "cell_type": "code",
      "execution_count": 37,
      "metadata": {
        "id": "q7xnA0iloi_A"
      },
      "outputs": [],
      "source": [
        "def costFunc(theta1, theta2):\n",
        "    costArray = list()\n",
        "    len_ = len(theta1)\n",
        "    for rowIndex in range(len_):\n",
        "        intLen = len(theta1[rowIndex])\n",
        "        rowCost = []\n",
        "        for colIndex in range(intLen):\n",
        "            thetapara = np.array([theta1[rowIndex][colIndex], theta2[rowIndex][colIndex]])\n",
        "            cost = cost_function(q1_X, q1_y, thetapara)\n",
        "            rowCost.append(cost)\n",
        "        costArray.append(rowCost)\n",
        "    return costArray"
      ]
    },
    {
      "cell_type": "code",
      "execution_count": 38,
      "metadata": {
        "id": "stOB1XfQoi_B"
      },
      "outputs": [],
      "source": [
        "def plot3D(start, end, division, aFunc, thetaPara, costList):\n",
        "    the1 = [ele[0] for ele in thetaPara]\n",
        "    the2 = [ele[1] for ele in thetaPara]\n",
        "    theta1 = np.linspace(start, end, division)\n",
        "    theta2 = np.linspace(start, end, division)\n",
        "    THETA1, THETA2 = np.meshgrid(theta1, theta2)\n",
        "    Z = np.array(aFunc(THETA1, THETA2))\n",
        "    fig = plt.figure()\n",
        "    ax = plt.axes(projection = '3d')\n",
        "    ax.plot3D(the1[0], the2[0], costList[0], color = 'red')\n",
        "    ax.plot_wireframe(THETA1, THETA2, Z, color ='green')\n",
        "    ax.set_title('Cost Function per theta parameter')"
      ]
    },
    {
      "cell_type": "code",
      "execution_count": 39,
      "metadata": {
        "id": "UQqxlm72oi_B",
        "colab": {
          "base_uri": "https://localhost:8080/",
          "height": 248
        },
        "outputId": "b1f528fd-1229-43ab-8f7f-66edc30528d7"
      },
      "outputs": [
        {
          "output_type": "display_data",
          "data": {
            "text/plain": [
              "<Figure size 432x288 with 1 Axes>"
            ],
            "image/png": "[encoded data removed]"
          },
          "metadata": {
            "needs_background": "light"
          }
        }
      ],
      "source": [
        "plot3D(-10, 10, 100, costFunc, thetaPara1, costList1)"
      ]
    },
    {
      "cell_type": "markdown",
      "metadata": {
        "id": "b5EF-t-0oi_B"
      },
      "source": [
        "-------------------------------------------------------------------------------------------------------------------"
      ]
    },
    {
      "cell_type": "markdown",
      "metadata": {
        "id": "nVq5jh7aoi_B"
      },
      "source": [
        "SAMPLING AND STOCHASTIC GRADIENT DESCENT\n",
        "\n",
        "In this problem, Introducing the idea of $sampling$ by adding Gaussian noise to the prediction of a\n",
        "hypothesis and generate synthetic training data. Consider a given hypothesis hθ (i.e. known θ0 , θ1 , θ2 )\n",
        "Adding Gaussian noise, equation becomes\n",
        "\n",
        "y = θ0 + θ1 x1 + θ2 x2 + e\n",
        "where e ∼ N (0, σ^2 )\n",
        "\n",
        "To gain deeper understanding behind $Stochastic$ $Gradient$ $Descent$ (SGD), will use the SGD algorithm\n",
        "to learn the original hypothesis from the data generated using sampling, for varying batch sizes. Will\n",
        "also implement the version where we make a complete pass through the data in a round robin fashion (after\n",
        "initially shuffling the examples). If there are r examples in each batch, then there is a total of m\n",
        "r batches assuming m training examples."
      ]
    },
    {
      "cell_type": "markdown",
      "metadata": {
        "id": "2qBXvBs9oi_C"
      },
      "source": [
        "a) Sample 1 million data points taking values of θ = [θ1 θ2 θ3].T = [3 2 1].T, x1 ∼ N (3, 4) and x2 ∼ N (−1, 4) independently, and noise variance in y, σ^2 = 2."
      ]
    },
    {
      "cell_type": "code",
      "execution_count": 40,
      "metadata": {
        "id": "0P-2Zn6qoi_C"
      },
      "outputs": [],
      "source": [
        "mu1, sigma1= 3, 4\n",
        "mu2, sigma2= -1, 4\n",
        "randX0 = np.ones((1000000))\n",
        "randX1 = np.random.normal(mu1, sigma1, 1000000)\n",
        "randX2 = np.random.normal(mu2, sigma2, 1000000)"
      ]
    },
    {
      "cell_type": "code",
      "execution_count": 41,
      "metadata": {
        "id": "ni3OB42Noi_C",
        "colab": {
          "base_uri": "https://localhost:8080/",
          "height": 424
        },
        "outputId": "46bed163-ae36-430e-d124-c183344978a6"
      },
      "outputs": [
        {
          "output_type": "execute_result",
          "data": {
            "text/plain": [
              "         X0        X1        X2\n",
              "0       1.0 -0.862657  5.104127\n",
              "1       1.0  7.739003 -0.345948\n",
              "2       1.0  2.911955 -6.522389\n",
              "3       1.0 -0.918509  0.822365\n",
              "4       1.0  4.415772  2.442373\n",
              "...     ...       ...       ...\n",
              "999995  1.0  9.998286  0.615928\n",
              "999996  1.0  3.845580 -4.124029\n",
              "999997  1.0  1.593314 -1.103240\n",
              "999998  1.0 -6.103484  1.812352\n",
              "999999  1.0  1.657762 -6.616552\n",
              "\n",
              "[1000000 rows x 3 columns]"
            ],
            "text/html": [
              "\n",
              "  <div id=\"df-15cdf041-1564-428b-b6b5-f91d4213a28b\">\n",
              "    <div class=\"colab-df-container\">\n",
              "      <div>\n",
              "<style scoped>\n",
              "    .dataframe tbody tr th:only-of-type {\n",
              "        vertical-align: middle;\n",
              "    }\n",
              "\n",
              "    .dataframe tbody tr th {\n",
              "        vertical-align: top;\n",
              "    }\n",
              "\n",
              "    .dataframe thead th {\n",
              "        text-align: right;\n",
              "    }\n",
              "</style>\n",
              "<table border=\"1\" class=\"dataframe\">\n",
              "  <thead>\n",
              "    <tr style=\"text-align: right;\">\n",
              "      <th></th>\n",
              "      <th>X0</th>\n",
              "      <th>X1</th>\n",
              "      <th>X2</th>\n",
              "    </tr>\n",
              "  </thead>\n",
              "  <tbody>\n",
              "    <tr>\n",
              "      <th>0</th>\n",
              "      <td>1.0</td>\n",
              "      <td>-0.862657</td>\n",
              "      <td>5.104127</td>\n",
              "    </tr>\n",
              "    <tr>\n",
              "      <th>1</th>\n",
              "      <td>1.0</td>\n",
              "      <td>7.739003</td>\n",
              "      <td>-0.345948</td>\n",
              "    </tr>\n",
              "    <tr>\n",
              "      <th>2</th>\n",
              "      <td>1.0</td>\n",
              "      <td>2.911955</td>\n",
              "      <td>-6.522389</td>\n",
              "    </tr>\n",
              "    <tr>\n",
              "      <th>3</th>\n",
              "      <td>1.0</td>\n",
              "      <td>-0.918509</td>\n",
              "      <td>0.822365</td>\n",
              "    </tr>\n",
              "    <tr>\n",
              "      <th>4</th>\n",
              "      <td>1.0</td>\n",
              "      <td>4.415772</td>\n",
              "      <td>2.442373</td>\n",
              "    </tr>\n",
              "    <tr>\n",
              "      <th>...</th>\n",
              "      <td>...</td>\n",
              "      <td>...</td>\n",
              "      <td>...</td>\n",
              "    </tr>\n",
              "    <tr>\n",
              "      <th>999995</th>\n",
              "      <td>1.0</td>\n",
              "      <td>9.998286</td>\n",
              "      <td>0.615928</td>\n",
              "    </tr>\n",
              "    <tr>\n",
              "      <th>999996</th>\n",
              "      <td>1.0</td>\n",
              "      <td>3.845580</td>\n",
              "      <td>-4.124029</td>\n",
              "    </tr>\n",
              "    <tr>\n",
              "      <th>999997</th>\n",
              "      <td>1.0</td>\n",
              "      <td>1.593314</td>\n",
              "      <td>-1.103240</td>\n",
              "    </tr>\n",
              "    <tr>\n",
              "      <th>999998</th>\n",
              "      <td>1.0</td>\n",
              "      <td>-6.103484</td>\n",
              "      <td>1.812352</td>\n",
              "    </tr>\n",
              "    <tr>\n",
              "      <th>999999</th>\n",
              "      <td>1.0</td>\n",
              "      <td>1.657762</td>\n",
              "      <td>-6.616552</td>\n",
              "    </tr>\n",
              "  </tbody>\n",
              "</table>\n",
              "<p>1000000 rows × 3 columns</p>\n",
              "</div>\n",
              "      <button class=\"colab-df-convert\" onclick=\"convertToInteractive('df-15cdf041-1564-428b-b6b5-f91d4213a28b')\"\n",
              "              title=\"Convert this dataframe to an interactive table.\"\n",
              "              style=\"display:none;\">\n",
              "        \n",
              "  <svg xmlns=\"http://www.w3.org/2000/svg\" height=\"24px\"viewBox=\"0 0 24 24\"\n",
              "       width=\"24px\">\n",
              "    <path d=\"M0 0h24v24H0V0z\" fill=\"none\"/>\n",
              "    <path d=\"M18.56 5.44l.94 2.06.94-2.06 2.06-.94-2.06-.94-.94-2.06-.94 2.06-2.06.94zm-11 1L8.5 8.5l.94-2.06 2.06-.94-2.06-.94L8.5 2.5l-.94 2.06-2.06.94zm10 10l.94 2.06.94-2.06 2.06-.94-2.06-.94-.94-2.06-.94 2.06-2.06.94z\"/><path d=\"M17.41 7.96l-1.37-1.37c-.4-.4-.92-.59-1.43-.59-.52 0-1.04.2-1.43.59L10.3 9.45l-7.72 7.72c-.78.78-.78 2.05 0 2.83L4 21.41c.39.39.9.59 1.41.59.51 0 1.02-.2 1.41-.59l7.78-7.78 2.81-2.81c.8-.78.8-2.07 0-2.86zM5.41 20L4 18.59l7.72-7.72 1.47 1.35L5.41 20z\"/>\n",
              "  </svg>\n",
              "      </button>\n",
              "      \n",
              "  <style>\n",
              "    .colab-df-container {\n",
              "      display:flex;\n",
              "      flex-wrap:wrap;\n",
              "      gap: 12px;\n",
              "    }\n",
              "\n",
              "    .colab-df-convert {\n",
              "      background-color: #E8F0FE;\n",
              "      border: none;\n",
              "      border-radius: 50%;\n",
              "      cursor: pointer;\n",
              "      display: none;\n",
              "      fill: #1967D2;\n",
              "      height: 32px;\n",
              "      padding: 0 0 0 0;\n",
              "      width: 32px;\n",
              "    }\n",
              "\n",
              "    .colab-df-convert:hover {\n",
              "      background-color: #E2EBFA;\n",
              "      box-shadow: 0px 1px 2px rgba(60, 64, 67, 0.3), 0px 1px 3px 1px rgba(60, 64, 67, 0.15);\n",
              "      fill: #174EA6;\n",
              "    }\n",
              "\n",
              "    [theme=dark] .colab-df-convert {\n",
              "      background-color: #3B4455;\n",
              "      fill: #D2E3FC;\n",
              "    }\n",
              "\n",
              "    [theme=dark] .colab-df-convert:hover {\n",
              "      background-color: #434B5C;\n",
              "      box-shadow: 0px 1px 3px 1px rgba(0, 0, 0, 0.15);\n",
              "      filter: drop-shadow(0px 1px 2px rgba(0, 0, 0, 0.3));\n",
              "      fill: #FFFFFF;\n",
              "    }\n",
              "  </style>\n",
              "\n",
              "      <script>\n",
              "        const buttonEl =\n",
              "          document.querySelector('#df-15cdf041-1564-428b-b6b5-f91d4213a28b button.colab-df-convert');\n",
              "        buttonEl.style.display =\n",
              "          google.colab.kernel.accessAllowed ? 'block' : 'none';\n",
              "\n",
              "        async function convertToInteractive(key) {\n",
              "          const element = document.querySelector('#df-15cdf041-1564-428b-b6b5-f91d4213a28b');\n",
              "          const dataTable =\n",
              "            await google.colab.kernel.invokeFunction('convertToInteractive',\n",
              "                                                     [key], {});\n",
              "          if (!dataTable) return;\n",
              "\n",
              "          const docLinkHtml = 'Like what you see? Visit the ' +\n",
              "            '<a target=\"_blank\" href=https://colab.research.google.com/notebooks/data_table.ipynb>data table notebook</a>'\n",
              "            + ' to learn more about interactive tables.';\n",
              "          element.innerHTML = '';\n",
              "          dataTable['output_type'] = 'display_data';\n",
              "          await google.colab.output.renderOutput(dataTable, element);\n",
              "          const docLink = document.createElement('div');\n",
              "          docLink.innerHTML = docLinkHtml;\n",
              "          element.appendChild(docLink);\n",
              "        }\n",
              "      </script>\n",
              "    </div>\n",
              "  </div>\n",
              "  "
            ]
          },
          "metadata": {},
          "execution_count": 41
        }
      ],
      "source": [
        "randDataDF = pd.DataFrame({'X0': randX0, 'X1': randX1, 'X2': randX2})\n",
        "randDataDF"
      ]
    },
    {
      "cell_type": "code",
      "execution_count": 42,
      "metadata": {
        "id": "dDuwiLepoi_C",
        "colab": {
          "base_uri": "https://localhost:8080/"
        },
        "outputId": "cbf80e67-7819-48de-85a4-1c46e56dc8af"
      },
      "outputs": [
        {
          "output_type": "execute_result",
          "data": {
            "text/plain": [
              "(array([[ 1.        , -0.86265727,  5.10412737],\n",
              "        [ 1.        ,  7.73900256, -0.3459478 ],\n",
              "        [ 1.        ,  2.91195497, -6.52238926],\n",
              "        ...,\n",
              "        [ 1.        ,  1.5933135 , -1.10324023],\n",
              "        [ 1.        , -6.10348444,  1.81235197],\n",
              "        [ 1.        ,  1.65776209, -6.61655224]]), (1000000, 3))"
            ]
          },
          "metadata": {},
          "execution_count": 42
        }
      ],
      "source": [
        "randArr = randDataDF.to_numpy().reshape(1000000, 3)\n",
        "randArr, randArr.shape"
      ]
    },
    {
      "cell_type": "code",
      "execution_count": 43,
      "metadata": {
        "id": "lezSPwuGoi_D",
        "colab": {
          "base_uri": "https://localhost:8080/"
        },
        "outputId": "2431aca2-8827-4a30-fd54-16a8c301f77f"
      },
      "outputs": [
        {
          "output_type": "execute_result",
          "data": {
            "text/plain": [
              "array([[3],\n",
              "       [1],\n",
              "       [2]])"
            ]
          },
          "metadata": {},
          "execution_count": 43
        }
      ],
      "source": [
        "randTheta = np.array([[3],[1],[2]])\n",
        "randTheta"
      ]
    },
    {
      "cell_type": "code",
      "execution_count": 44,
      "metadata": {
        "id": "H6UsUyu8oi_D",
        "colab": {
          "base_uri": "https://localhost:8080/"
        },
        "outputId": "dc2fb2b3-934b-4158-d333-b834b0f77060"
      },
      "outputs": [
        {
          "output_type": "execute_result",
          "data": {
            "text/plain": [
              "(array([[12.34559747],\n",
              "        [10.04710697],\n",
              "        [-7.13282355],\n",
              "        ...,\n",
              "        [ 2.38683304],\n",
              "        [ 0.5212195 ],\n",
              "        [-8.5753424 ]]), (1000000, 1))"
            ]
          },
          "metadata": {},
          "execution_count": 44
        }
      ],
      "source": [
        "randY = randArr@randTheta\n",
        "randY, randY.shape"
      ]
    },
    {
      "cell_type": "markdown",
      "metadata": {
        "id": "OrcEKE7Hoi_D"
      },
      "source": [
        "b) Implementing $Stochastic$ $gradient$ $descent$ method for optimizing J(θ). Relearning θ = [θ0, θ1, θ2] using sampled data points of keeping everything same except the batch size. Keep η = 0.001 and initialize ∀j θ j = 0. \n",
        "\n",
        "Different theta values are reported"
      ]
    },
    {
      "cell_type": "code",
      "execution_count": 45,
      "metadata": {
        "id": "CJRrUkrvoi_D"
      },
      "outputs": [],
      "source": [
        "def stochasticGradientDescent(X, Y, learningRate, batch_size, convergence, k):\n",
        "    theta = np.array([[0.0], [0.0], [0.0]])\n",
        "    thetaList = []\n",
        "    cost_list = []\n",
        "    m = Y.shape[0]\n",
        "    numBatch = m//batch_size\n",
        "    costDiff = 1\n",
        "    iter = 0\n",
        "    print(\"Log :\")\n",
        "    while(True):\n",
        "        for batch_no in range(numBatch):\n",
        "            start = batch_no*batch_size\n",
        "            end = (batch_no + 1)*batch_size\n",
        "            theta = updateParameter(X[start: end], Y[start: end], learningRate, theta)\n",
        "            thetaList.append(theta)\n",
        "            cost_ = cost_function(X, Y, theta)\n",
        "            cost_list.append(cost_)\n",
        "            if (iter%k==0 and iter>k):\n",
        "                lastkAvg = np.sum(cost_list[-k:])/k\n",
        "                beforekAvg = np.sum(cost_list[-2*k : -k])/k\n",
        "                costDiff = beforekAvg - lastkAvg\n",
        "                print(costDiff)\n",
        "            iter = iter + 1\n",
        "            if costDiff < convergence:\n",
        "                return thetaList[:-k], cost_list[:-k]"
      ]
    },
    {
      "cell_type": "markdown",
      "metadata": {
        "id": "0iG4Ksl6oi_E"
      },
      "source": [
        "SGD for batch size = 1"
      ]
    },
    {
      "cell_type": "code",
      "execution_count": 46,
      "metadata": {
        "id": "6VVo5xoZoi_E",
        "colab": {
          "base_uri": "https://localhost:8080/"
        },
        "outputId": "f5ef55f9-a1a0-4a01-d6c1-47139209cd18"
      },
      "outputs": [
        {
          "output_type": "stream",
          "name": "stdout",
          "text": [
            "Log :\n",
            "11.974993017464481\n",
            "0.49097862124878056\n",
            "0.22971804637778193\n",
            "0.23494686549485722\n",
            "0.25405923175959133\n",
            "0.1112017351765009\n",
            "0.17259669042507642\n",
            "0.1258951268781734\n",
            "0.11200647080641435\n",
            "0.11323485247079323\n",
            "0.09473013451115242\n",
            "0.0751680277018153\n",
            "0.05712439971422223\n",
            "0.06649848927553043\n",
            "0.04621793875608543\n",
            "0.03591252753568147\n",
            "0.03826694988129109\n",
            "0.0378131893823761\n",
            "0.03130258108687631\n",
            "0.028375690559277134\n",
            "0.023425358773775495\n",
            "0.020285524919562675\n",
            "0.016292421210742036\n",
            "0.015193018889528398\n",
            "0.015870754325099892\n",
            "0.01354172032919751\n",
            "0.01194709563548886\n",
            "0.011670297574310803\n",
            "0.007373395581755038\n",
            "0.008571353294663742\n",
            "0.0062120664358211175\n",
            "0.007739779408165046\n",
            "0.0069339309185473055\n",
            "0.0046226005273186516\n",
            "0.00457398536847365\n",
            "0.004951678664992368\n",
            "0.0034567674291012956\n",
            "0.003081132532491083\n",
            "0.002677973862287422\n",
            "0.002143763689361266\n",
            "0.002033380004872968\n",
            "0.0016664937842020833\n",
            "0.0017628562877443008\n",
            "0.0012231162023884322\n",
            "0.001587957711382263\n",
            "0.0014451174017502538\n",
            "0.0009811880754988945\n",
            "0.0008365679613867019\n",
            "0.0009507156113348443\n",
            "0.0006420829233332462\n",
            "0.0007179001077723193\n",
            "0.00041350120797233655\n",
            "0.0005796052449867344\n",
            "0.0005945557694550059\n",
            "0.0004466600862283645\n",
            "0.0004026993947105536\n",
            "0.0003744428041173283\n",
            "0.0002818994870744519\n",
            "0.00026000250484811476\n",
            "0.00020714749172029033\n",
            "0.00014742778996638256\n",
            "0.00024255773649560974\n",
            "0.00017332709052352686\n",
            "0.000151351136906187\n",
            "0.00015261402222957118\n",
            "0.00013520695506633496\n",
            "0.00012019739812932199\n",
            "9.338343811744147e-05\n"
          ]
        }
      ],
      "source": [
        "sgdtheta1, sgdcost1 = stochasticGradientDescent(randArr, randY, 0.001, 1, 0.0001, 100)"
      ]
    },
    {
      "cell_type": "code",
      "execution_count": 47,
      "metadata": {
        "id": "7h6QFR6Coi_E",
        "colab": {
          "base_uri": "https://localhost:8080/"
        },
        "outputId": "7a55f72b-1a00-4963-e7c0-4ccd58b60f47"
      },
      "outputs": [
        {
          "output_type": "execute_result",
          "data": {
            "text/plain": [
              "(0.0007825054944789083, array([[2.95052669],\n",
              "        [1.00416209],\n",
              "        [1.99780844]]))"
            ]
          },
          "metadata": {},
          "execution_count": 47
        }
      ],
      "source": [
        "sgdcost1[-1], sgdtheta1[-1]"
      ]
    },
    {
      "cell_type": "markdown",
      "metadata": {
        "id": "CH2b1U9-oi_E"
      },
      "source": [
        "For batch size = 1, It takes 3 minutes 8.6 seconds to get the theta value [2.9465, 1.0065, 1.9982] compared to original [3, 1, 2] "
      ]
    },
    {
      "cell_type": "code",
      "execution_count": 48,
      "metadata": {
        "id": "g5caxWZ_oi_F"
      },
      "outputs": [],
      "source": [
        "sgdPredY1 = predicted_y(randArr, sgdtheta1[-1])"
      ]
    },
    {
      "cell_type": "code",
      "execution_count": 49,
      "metadata": {
        "id": "JTLJdTwxoi_F",
        "colab": {
          "base_uri": "https://localhost:8080/",
          "height": 295
        },
        "outputId": "3181d3cc-6261-4d9a-df1f-1ba45591f5fc"
      },
      "outputs": [
        {
          "output_type": "display_data",
          "data": {
            "text/plain": [
              "<Figure size 432x288 with 1 Axes>"
            ],
            "image/png": "[encoded data removed]"
          },
          "metadata": {
            "needs_background": "light"
          }
        }
      ],
      "source": [
        "costGraphh(sgdcost1)"
      ]
    },
    {
      "cell_type": "markdown",
      "metadata": {
        "id": "13KiA4utoi_F"
      },
      "source": [
        "SGD for batch size = 100"
      ]
    },
    {
      "cell_type": "code",
      "execution_count": 50,
      "metadata": {
        "id": "dk7LIcLyoi_F",
        "colab": {
          "base_uri": "https://localhost:8080/"
        },
        "outputId": "eeabe56b-1834-40f8-99bd-04c5b2c8bfba"
      },
      "outputs": [
        {
          "output_type": "stream",
          "name": "stdout",
          "text": [
            "Log :\n",
            "12.065392332382691\n",
            "0.6756491840427958\n",
            "0.2355861765302092\n",
            "0.1982568772672888\n",
            "0.17046824091599322\n",
            "0.15376991620396052\n",
            "0.13582381298414825\n",
            "0.11734998632568228\n",
            "0.10481343271235977\n",
            "0.09458543713687273\n",
            "0.0837849296841594\n",
            "0.07495584226429242\n",
            "0.06581490693143321\n",
            "0.05818484318667755\n",
            "0.05044347384271125\n",
            "0.04452027310545731\n",
            "0.04030179763333447\n",
            "0.03623601352576511\n",
            "0.03219278598062367\n",
            "0.0278001345374283\n",
            "0.0248766994202059\n",
            "0.02206055106252444\n",
            "0.01952550440464268\n",
            "0.017301565431542487\n",
            "0.015268846515121753\n",
            "0.013518012281203765\n",
            "0.011881117262402485\n",
            "0.010427406684852467\n",
            "0.009531222498026695\n",
            "0.008388092579943926\n",
            "0.00739204884732407\n",
            "0.006488861199106889\n",
            "0.005739316252478463\n",
            "0.005165052648787673\n",
            "0.004559416043369971\n",
            "0.004013539411625501\n",
            "0.0035830262370716917\n",
            "0.003163042178726174\n",
            "0.0028140840575594343\n",
            "0.0024739147353599056\n",
            "0.0021756405419817992\n",
            "0.0019571619933991206\n",
            "0.0016968756210106652\n",
            "0.0015052237074112233\n",
            "0.0013268119040055794\n",
            "0.0011778436666671794\n",
            "0.001037356062405844\n",
            "0.0009278926035593349\n",
            "0.0008262409795015526\n",
            "0.0007268473004196233\n",
            "0.0006467517034365322\n",
            "0.0005636206066893332\n",
            "0.0004989918773925187\n",
            "0.00045001985908952854\n",
            "0.0004020599066720111\n",
            "0.0003585510404065088\n",
            "0.00031484336721547546\n",
            "0.00027374322309547386\n",
            "0.00024790276677949964\n",
            "0.0002175714123830272\n",
            "0.00018956338153827755\n",
            "0.00016980307585439964\n",
            "0.00015023234311880673\n",
            "0.0001326413261578071\n",
            "0.00011821210925595056\n",
            "0.00010469799827245922\n",
            "9.250665241980049e-05\n"
          ]
        }
      ],
      "source": [
        "sgdtheta100, sgdcost100 = stochasticGradientDescent(randArr, randY, 0.001, 100, 0.0001, 100)"
      ]
    },
    {
      "cell_type": "code",
      "execution_count": 51,
      "metadata": {
        "id": "PVmQ8Traoi_G",
        "colab": {
          "base_uri": "https://localhost:8080/"
        },
        "outputId": "c9a61dc3-1fa9-44b9-af40-f6bd52a8e695"
      },
      "outputs": [
        {
          "output_type": "execute_result",
          "data": {
            "text/plain": [
              "(0.0007678651613873355, array([[2.95006474],\n",
              "        [1.00594334],\n",
              "        [1.99810066]]))"
            ]
          },
          "metadata": {},
          "execution_count": 51
        }
      ],
      "source": [
        "sgdcost100[-1], sgdtheta100[-1]"
      ]
    },
    {
      "cell_type": "markdown",
      "metadata": {
        "id": "TK6MbuDjoi_G"
      },
      "source": [
        "For batch size = 100, It takes 2 minutes 10.4 seconds to get the theta value [2.9496, 1.0059, 1.9979] compared to original [3, 1, 2] "
      ]
    },
    {
      "cell_type": "code",
      "execution_count": 52,
      "metadata": {
        "id": "j2S5g0dnoi_G"
      },
      "outputs": [],
      "source": [
        "sgdPredY100 = predicted_y(randArr, sgdtheta100[-1])"
      ]
    },
    {
      "cell_type": "code",
      "execution_count": 53,
      "metadata": {
        "id": "RWatNKJPoi_G",
        "colab": {
          "base_uri": "https://localhost:8080/",
          "height": 295
        },
        "outputId": "60421398-0570-4941-ad6f-f3bebf78e000"
      },
      "outputs": [
        {
          "output_type": "display_data",
          "data": {
            "text/plain": [
              "<Figure size 432x288 with 1 Axes>"
            ],
            "image/png": "[encoded data removed]"
          },
          "metadata": {
            "needs_background": "light"
          }
        }
      ],
      "source": [
        "costGraphh(sgdcost100)"
      ]
    },
    {
      "cell_type": "markdown",
      "metadata": {
        "id": "Ilr2N9zOoi_G"
      },
      "source": [
        "SGD for batch size = 10000"
      ]
    },
    {
      "cell_type": "code",
      "execution_count": 54,
      "metadata": {
        "id": "-7k_0GxPoi_H",
        "colab": {
          "base_uri": "https://localhost:8080/"
        },
        "outputId": "76f53cb0-956a-4efd-f505-58228f32ac41"
      },
      "outputs": [
        {
          "output_type": "stream",
          "name": "stdout",
          "text": [
            "Log :\n",
            "6.906850373532963\n",
            "0.4372713208315797\n",
            "0.22376338304181909\n",
            "0.1934058443951081\n",
            "0.16968530037530272\n",
            "0.1503919183027338\n",
            "0.13358469364923287\n",
            "0.11842581769451366\n",
            "0.10425928461410416\n",
            "0.09227023857159722\n",
            "0.08197327304022695\n",
            "0.0727500401332768\n",
            "0.06448600942723315\n",
            "0.05718744298873418\n",
            "0.05026763115165617\n",
            "0.04455917446776009\n",
            "0.039578429781476576\n",
            "0.03508709606485255\n",
            "0.03088983853905991\n",
            "0.02733773064821171\n",
            "0.024286956512138663\n",
            "0.02155430660979399\n",
            "0.019105848151160787\n",
            "0.01694343643882998\n",
            "0.014893241748154915\n",
            "0.013201946108193821\n",
            "0.011726256225849982\n",
            "0.010395568519244239\n",
            "0.009152009402193073\n",
            "0.008099594551479405\n",
            "0.007195714346926167\n",
            "0.006386087661194723\n",
            "0.005660660922367652\n",
            "0.005019983817576665\n",
            "0.004412554255856585\n",
            "0.0039114589335470275\n",
            "0.003474243062028381\n",
            "0.0030799882851107185\n",
            "0.002711547876558664\n",
            "0.002399739493469947\n",
            "0.0021319388016642557\n",
            "0.0018920634448955313\n",
            "0.0016771347612783288\n",
            "0.0014873156115471995\n",
            "0.0013073470094775962\n",
            "0.001158883005841856\n",
            "0.0010293451397935301\n",
            "0.0009125357424038857\n",
            "0.0008033745993648658\n",
            "0.0007109923342357438\n",
            "0.000631648622347436\n",
            "0.0005605785998309401\n",
            "0.0004968997518246844\n",
            "0.00044066033053863493\n",
            "0.00038733941932190966\n",
            "0.0003433526579330018\n",
            "0.00030497331300649794\n",
            "0.0002703651456046692\n",
            "0.00023802299508857865\n",
            "0.00021065207315940884\n",
            "0.00018714420029406756\n",
            "0.00016608764755546507\n",
            "0.00014722094435348863\n",
            "0.00013055838680297097\n",
            "0.00011476052239616408\n",
            "0.00010172817024267828\n",
            "9.035717763702814e-05\n"
          ]
        }
      ],
      "source": [
        "sgdtheta10000, sgdcost10000 = stochasticGradientDescent(randArr, randY, 0.01, 10000, 0.0001, 10)"
      ]
    },
    {
      "cell_type": "code",
      "execution_count": 55,
      "metadata": {
        "id": "blk2C0gAoi_H",
        "colab": {
          "base_uri": "https://localhost:8080/"
        },
        "outputId": "f93b00e4-d6af-4ad3-b048-7d0e728809f9"
      },
      "outputs": [
        {
          "output_type": "execute_result",
          "data": {
            "text/plain": [
              "(0.0007455286319001675, array([[2.9507921 ],\n",
              "        [1.00582456],\n",
              "        [1.99812091]]))"
            ]
          },
          "metadata": {},
          "execution_count": 55
        }
      ],
      "source": [
        "sgdcost10000[-1], sgdtheta10000[-1]"
      ]
    },
    {
      "cell_type": "markdown",
      "metadata": {
        "id": "VmTEfr-woi_H"
      },
      "source": [
        "For batch size = 10000, It takes 13.1 seconds to get the theta value [2.9507, 1.0057, 1.9981] compared to original [3, 1, 2] "
      ]
    },
    {
      "cell_type": "code",
      "execution_count": 56,
      "metadata": {
        "id": "b4Ihhld3oi_H"
      },
      "outputs": [],
      "source": [
        "sgdPredY10000 = predicted_y(randArr, sgdtheta10000[-1])"
      ]
    },
    {
      "cell_type": "code",
      "execution_count": 57,
      "metadata": {
        "id": "WUgNTd7aoi_I",
        "colab": {
          "base_uri": "https://localhost:8080/",
          "height": 295
        },
        "outputId": "7ce3e286-9f05-475a-db4c-8f84c04a1831"
      },
      "outputs": [
        {
          "output_type": "display_data",
          "data": {
            "text/plain": [
              "<Figure size 432x288 with 1 Axes>"
            ],
            "image/png": "[encoded data removed]"
          },
          "metadata": {
            "needs_background": "light"
          }
        }
      ],
      "source": [
        "costGraphh(sgdcost10000)"
      ]
    },
    {
      "cell_type": "markdown",
      "metadata": {
        "id": "I41chxT2oi_I"
      },
      "source": [
        "SGD for batch size = 1000000"
      ]
    },
    {
      "cell_type": "code",
      "execution_count": 58,
      "metadata": {
        "id": "3EKblDsRoi_I",
        "colab": {
          "base_uri": "https://localhost:8080/"
        },
        "outputId": "97edbc48-616b-4525-c591-2e7b1d0170e9"
      },
      "outputs": [
        {
          "output_type": "stream",
          "name": "stdout",
          "text": [
            "Log :\n",
            "6.605455179151903\n",
            "4.534516949432055\n",
            "3.1353096387563255\n",
            "2.1814967384645767\n",
            "1.52650817321378\n",
            "1.07402505190829\n",
            "0.7599234129621051\n",
            "0.5410319157729466\n",
            "0.3880095935069723\n",
            "0.28075862802672136\n",
            "0.20542456957946653\n",
            "0.15240780164342338\n",
            "0.11502967256780217\n",
            "0.0886287303269695\n",
            "0.06994323131934133\n",
            "0.056686344995799054\n",
            "0.04725230088101595\n",
            "0.04051221576661046\n",
            "0.03567173526965739\n",
            "0.0321715022120479\n",
            "0.02961741840103893\n",
            "0.027731699920381825\n",
            "0.026318481526539594\n",
            "0.025239621126119882\n",
            "0.02439766632087026\n",
            "0.02372385584670811\n",
            "0.023169663773802585\n",
            "0.022700838311019655\n",
            "0.022293198125226343\n",
            "0.02192966739720381\n",
            "0.021598184250058772\n",
            "0.021290225102601257\n",
            "0.020999763472223654\n",
            "0.020722535266102682\n",
            "0.02045552031328901\n",
            "0.020196576477309325\n",
            "0.019944181437287156\n",
            "0.019697250449310477\n",
            "0.019455007728308882\n",
            "0.019216895671527956\n",
            "0.01898251078905422\n",
            "0.01875155848313126\n",
            "0.018523821130333795\n",
            "0.018299135552906298\n",
            "0.01807737711660673\n",
            "0.017858448505704283\n",
            "0.01764227179890554\n",
            "0.017428782875259285\n",
            "0.01721792746442974\n",
            "0.017009658357665325\n",
            "0.016803933437962604\n",
            "0.016600714288468987\n",
            "0.016399965208972578\n",
            "0.016201652520492438\n",
            "0.01600574407319244\n",
            "0.015812208897808322\n",
            "0.015621016958442313\n",
            "0.015432138976813725\n",
            "0.015245546307077973\n",
            "0.015061210846256667\n",
            "0.014879104969846235\n",
            "0.014699201485264268\n",
            "0.014521473597789436\n",
            "0.014345894885443133\n",
            "0.014172439280136118\n",
            "0.014001081053259812\n",
            "0.013831794804437969\n",
            "0.013664555452501892\n",
            "0.01349933822808258\n",
            "0.013336118667326202\n",
            "0.013174872606427801\n",
            "0.013015576176741206\n",
            "0.012858205800337252\n",
            "0.012702738185864648\n",
            "0.012549150324638214\n",
            "0.012397419486914085\n",
            "0.012247523218299028\n",
            "0.012099439336271223\n",
            "0.011953145926765552\n",
            "0.011808621340873904\n",
            "0.011665844191574903\n",
            "0.011524793350515816\n",
            "0.011385447944881277\n",
            "0.011247787354277228\n",
            "0.011111791207642718\n",
            "0.01097743938026341\n",
            "0.010844711990762201\n",
            "0.010713589398153034\n",
            "0.010584052198942762\n",
            "0.010456081224240354\n",
            "0.010329657536938153\n",
            "0.010204762428894565\n",
            "0.010081377418163062\n",
            "0.009959484246277572\n",
            "0.009839064875518555\n",
            "0.00972010148626734\n",
            "0.009602576474359692\n",
            "0.009486472448483996\n",
            "0.009371772227605324\n",
            "0.009258458838426575\n",
            "0.009146515512860609\n",
            "0.00903592568558409\n",
            "0.008926672991541929\n",
            "0.008818741263558527\n",
            "0.00871211452993792\n",
            "0.008606777012087452\n",
            "0.008502713122201078\n",
            "0.00839990746093311\n",
            "0.008298344815141578\n",
            "0.008198010155620827\n",
            "0.008098888634875845\n",
            "0.008000965584943454\n",
            "0.007904226515201507\n",
            "0.00780865711023393\n",
            "0.0077142432277147455\n",
            "0.007620970896306756\n",
            "0.007528826313605186\n",
            "0.00743779584408133\n",
            "0.007347866017082039\n",
            "0.007259023524816555\n",
            "0.007171255220408401\n",
            "0.00708454811592929\n",
            "0.006998889380492979\n",
            "0.006914266338345132\n",
            "0.006830666467004587\n",
            "0.006748077395381302\n",
            "0.006666486901977686\n",
            "0.0065858829130606145\n",
            "0.006506253500874637\n",
            "0.006427586881889491\n",
            "0.006349871415044062\n",
            "0.006273095600031975\n",
            "0.006197248075591522\n",
            "0.00612231761783133\n",
            "0.006048293138570193\n",
            "0.005975163683688833\n",
            "0.0059029184315140815\n",
            "0.005831546691219935\n",
            "0.005761037901241772\n",
            "0.005691381627706438\n",
            "0.005622567562907521\n",
            "0.0055545855237621455\n",
            "0.005487425450310113\n",
            "0.0054210774042266485\n",
            "0.005355531567350136\n",
            "0.005290778240229943\n",
            "0.005226807840688796\n",
            "0.005163610902411853\n",
            "0.005101178073535939\n",
            "0.005039500115271434\n",
            "0.004978567900534636\n",
            "0.004918372412599792\n",
            "0.004858904743754167\n",
            "0.0048001560939958665\n",
            "0.004742117769719001\n",
            "0.0046847811824286545\n",
            "0.004628137847483171\n",
            "0.004572179382813069\n",
            "0.004516897507707562\n",
            "0.004462284041573061\n",
            "0.004408330902727076\n",
            "0.0043550301072021735\n",
            "0.004302373767563594\n",
            "0.0042503540917466776\n",
            "0.004198963381893905\n",
            "0.0041481940332283584\n",
            "0.004098038532917514\n",
            "0.004048489458966464\n",
            "0.003999539479121628\n",
            "0.003951181349780342\n",
            "0.00390340791492505\n",
            "0.0038562121050556564\n",
            "0.003809586936153797\n",
            "0.0037635255086432284\n",
            "0.0037180210063691987\n",
            "0.003673066695589422\n",
            "0.003628655923981705\n",
            "0.0035847821196556273\n",
            "0.003541438790177598\n",
            "0.0034986195216194504\n",
            "0.0034563179775978226\n",
            "0.0034145278983458427\n",
            "0.003373243099781764\n",
            "0.0033324574725934752\n",
            "0.003292164981339607\n",
            "0.0032523596635498087\n",
            "0.0032130356288475603\n",
            "0.0031741870580735965\n",
            "0.0031358082024304235\n",
            "0.0030978933826288357\n",
            "0.0030604369880460336\n",
            "0.003023433475896148\n",
            "0.002986877370414004\n",
            "0.0029507632620374424\n",
            "0.0029150858066145924\n",
            "0.0028798397246059815\n",
            "0.0028450198003101834\n",
            "0.002810620881084247\n",
            "0.0027766378765898547\n",
            "0.002743065758032598\n",
            "0.002709899557421097\n",
            "0.0026771343668327285\n",
            "0.0026447653376864\n",
            "0.002612787680021461\n",
            "0.0025811966617989013\n",
            "0.002549987608187254\n",
            "0.002519155900882586\n",
            "0.002488696977418131\n",
            "0.00245860633049505\n",
            "0.002428879507307108\n",
            "0.0023995121088892235\n",
            "0.00237049978946674\n",
            "0.0023418382558018924\n",
            "0.0023135232665741634\n",
            "0.002285550631738603\n",
            "0.0022579162119162333\n",
            "0.002230615917772266\n",
            "0.002203645709422025\n",
            "0.0021770015958190725\n",
            "0.0021506796341798085\n",
            "0.0021246759293873096\n",
            "0.002098986633422867\n",
            "0.0020736079447929434\n",
            "0.0020485361079674302\n",
            "0.002023767412825783\n",
            "0.0019992981941021615\n",
            "0.0019751248308526315\n",
            "0.00195124374590952\n",
            "0.0019276514053581106\n",
            "0.0019043443180115083\n",
            "0.0018813190348960784\n",
            "0.0018585721487363316\n",
            "0.0018361002934579318\n",
            "0.0018139001436809632\n",
            "0.0017919684142365666\n",
            "0.0017703018596731401\n",
            "0.0017488972737836617\n",
            "0.0017277514891217982\n",
            "0.0017068613765437723\n",
            "0.0016862238447371558\n",
            "0.0016658358397659556\n",
            "0.0016456943446213346\n",
            "0.0016257963787709162\n",
            "0.001606138997720774\n",
            "0.0015867192925779483\n",
            "0.001567534389621511\n",
            "0.0015485814498753803\n",
            "0.0015298576686903487\n",
            "0.0015113602753275418\n",
            "0.0014930865325486486\n",
            "0.0014750337362121474\n",
            "0.0014571992148699614\n",
            "0.0014395803293767856\n",
            "0.0014221744724955687\n",
            "0.001404979068513404\n",
            "0.0013879915728604586\n",
            "0.0013712094717321377\n",
            "0.001354630281719213\n",
            "0.0013382515494394231\n",
            "0.0013220708511726686\n",
            "0.0013060857925043523\n",
            "0.0012902940079718012\n",
            "0.0012746931607114653\n",
            "0.0012592809421154982\n",
            "0.0012440550714889614\n",
            "0.0012290132957123445\n",
            "0.001214153388909442\n",
            "0.001199473152114952\n",
            "0.0011849704129537342\n",
            "0.0011706430253151934\n",
            "0.0011564888690361735\n",
            "0.0011425058495904694\n",
            "0.0011286918977756188\n",
            "0.0011150449694068837\n",
            "0.0011015630450171843\n",
            "0.001088244129555771\n",
            "0.0010750862520935156\n",
            "0.0010620874655323242\n",
            "0.0010492458463165627\n",
            "0.0010365594941474376\n",
            "0.0010240265317028041\n",
            "0.0010116451043592073\n",
            "0.000999413379917255\n",
            "0.0009873295483305289\n",
            "0.0009753918214370078\n",
            "0.000963598432697027\n",
            "0.0009519476369278801\n",
            "0.0009404377100497435\n",
            "0.0009290669488263154\n",
            "0.0009178336706174017\n",
            "0.0009067362131252726\n",
            "0.0008957729341522724\n",
            "0.0008849422113565569\n",
            "0.0008742424420109113\n",
            "0.000863672042766897\n",
            "0.000853229449420817\n",
            "0.0008429131166808185\n",
            "0.0008327215179401298\n",
            "0.0008226531450486463\n",
            "0.0008127065080925089\n",
            "0.0008028801351714077\n",
            "0.0007931725721820881\n",
            "0.0007835823826026489\n",
            "0.000774108147280253\n",
            "0.0007647484642202135\n",
            "0.0007555019483803174\n",
            "0.0007463672314641026\n",
            "0.0007373429617192478\n",
            "0.0007284278037372402\n",
            "0.00071962043825613\n",
            "0.0007109195619651662\n",
            "0.000702323887311028\n",
            "0.0006938321423091975\n",
            "0.0006854430703538347\n",
            "0.0006771554300329455\n",
            "0.0006689679949443833\n",
            "0.0006608795535142098\n",
            "0.0006528889088176643\n",
            "0.0006449948784019721\n",
            "0.0006371962941105411\n",
            "0.000629492001912077\n",
            "0.0006218808617281454\n",
            "0.000614361747264279\n",
            "0.0006069335458447414\n",
            "0.0005995951582467296\n",
            "0.0005923454985381493\n",
            "0.0005851834939168271\n",
            "0.0005781080845516373\n",
            "0.000571118223426037\n",
            "0.0005642128761824891\n",
            "0.0005573910209702715\n",
            "0.0005506516482934043\n",
            "0.000543993760861998\n",
            "0.0005374163734437748\n",
            "0.0005309185127193791\n",
            "0.000524499217137521\n",
            "0.0005181575367731034\n",
            "0.0005118925331864324\n",
            "0.0005057032792841823\n",
            "0.000499588859182637\n",
            "0.0004935483680723121\n",
            "0.00048758091208286197\n",
            "0.00048168560815248923\n",
            "0.00047586158389629346\n",
            "0.0004701079774766803\n",
            "0.00046442393747699734\n",
            "0.0004588086227753363\n",
            "0.0004532612024189392\n",
            "0.00044778085550241375\n",
            "0.0004423667710460738\n",
            "0.00043701814787523025\n",
            "0.00043173419450274336\n",
            "0.0004265141290108465\n",
            "0.0004213571789358911\n",
            "0.0004162625811543752\n",
            "0.0004112295817692013\n",
            "0.000406257435998883\n",
            "0.00040134540806724406\n",
            "0.00039649277109355535\n",
            "0.0003916988069866123\n",
            "0.00038696280633718216\n",
            "0.0003822840683132406\n",
            "0.0003776619005570192\n",
            "0.00037309561908145314\n",
            "0.00036858454816982716\n",
            "0.0003641280202754879\n",
            "0.0003597253759227148\n",
            "0.00035537596360996765\n",
            "0.00035107913971248184\n",
            "0.0003468342683876878\n",
            "0.00034264072148111266\n",
            "0.0003384978784329237\n",
            "0.00033440512618679655\n",
            "0.0003303618590984568\n",
            "0.0003263674788466786\n",
            "0.00032242139434443887\n",
            "0.0003185230216514699\n",
            "0.00031467178388776273\n",
            "0.00031086711114873197\n",
            "0.0003071084404199752\n",
            "0.00030339521549472767\n",
            "0.0002997268868910781\n",
            "0.00029610291177135234\n",
            "0.0002925227538604601\n",
            "0.0002889858833682521\n",
            "0.0002854917769096188\n",
            "0.00028203991742786066\n",
            "0.00027862979411805155\n",
            "0.0002752609023513042\n",
            "0.0002719327436000278\n",
            "0.00026864482536446965\n",
            "0.00026539666109976975\n",
            "0.0002621877701434669\n",
            "0.00025901767764483635\n",
            "0.0002558859144951124\n",
            "0.0002527920172565208\n",
            "0.00024973552809557514\n",
            "0.00024671599471387876\n",
            "0.00024373297028195892\n",
            "0.00024078601337269856\n",
            "0.00023787468789670044\n",
            "0.00023499856303670422\n",
            "0.00023215721318496294\n",
            "0.00022935021787926294\n",
            "0.0002265771617416465\n",
            "0.00022383763441590973\n",
            "0.0002211312305079212\n",
            "0.0002184575495249065\n",
            "0.0002158161958164609\n",
            "0.00021320677851585992\n",
            "0.00021062891148250495\n",
            "0.0002080822132444482\n",
            "0.00020556630694225364\n",
            "0.0002030808202728024\n",
            "0.00020062538543472522\n",
            "0.00019819963907348817\n",
            "0.00019580322222810878\n",
            "0.0001934357802774768\n",
            "0.00019109696288853624\n",
            "0.0001887864239636626\n",
            "0.00018650382159017716\n",
            "0.00018424881798941375\n",
            "0.00018202107946654889\n",
            "0.00017982027636170676\n",
            "0.00017764608300071226\n",
            "0.00017549817764725764\n",
            "0.00017337624245494787\n",
            "0.00017127996342055501\n",
            "0.00016920903033744265\n",
            "0.00016716313674956275\n",
            "0.00016514197990638926\n",
            "0.00016314526071766616\n",
            "0.00016117268370965596\n",
            "0.00015922395698106037\n",
            "0.00015729879215998013\n",
            "0.00015539690436110198\n",
            "0.00015351801214377563\n",
            "0.00015166183747010974\n",
            "0.00014982810566407587\n",
            "0.00014801654537057417\n",
            "0.00014622688851555904\n",
            "0.00014445887026630355\n",
            "0.00014271222899185296\n",
            "0.00014098670622504986\n",
            "0.00013928204662345088\n",
            "0.00013759799793216718\n",
            "0.00013593431094631458\n",
            "0.00013429073947387495\n",
            "0.00013266704029985844\n",
            "0.00013106297314974778\n",
            "0.00012947830065419656\n",
            "0.00012791278831396358\n",
            "0.0001263662044650518\n",
            "0.0001248383202443696\n",
            "0.00012332890955635452\n",
            "0.00012183774903876989\n",
            "0.00012036461803021335\n",
            "0.00011890929853726126\n",
            "0.0001174715752022392\n",
            "0.00011605123527130834\n",
            "0.0001146480685630738\n",
            "0.0001132618674373892\n",
            "0.00011189242676466066\n",
            "0.00011053954389548051\n",
            "0.00010920301863082474\n",
            "0.00010788265319200407\n",
            "0.00010657825219187629\n",
            "0.00010528962260556406\n",
            "0.00010401657374207833\n",
            "0.00010275891721617941\n",
            "0.00010151646692020677\n",
            "0.00010028903899674674\n",
            "9.907645181152398e-05\n"
          ]
        }
      ],
      "source": [
        "sgdtheta1000000, sgdcost1000000 = stochasticGradientDescent(randArr, randY, 0.01, 1000000, 0.0001, 1)"
      ]
    },
    {
      "cell_type": "code",
      "execution_count": 59,
      "metadata": {
        "id": "pn366U8doi_I",
        "colab": {
          "base_uri": "https://localhost:8080/"
        },
        "outputId": "303d4466-9347-45e6-a02e-780d9ba94aca"
      },
      "outputs": [
        {
          "output_type": "execute_result",
          "data": {
            "text/plain": [
              "(0.008194282654701193, array([[2.8368592 ],\n",
              "        [1.01926357],\n",
              "        [1.99362255]]))"
            ]
          },
          "metadata": {},
          "execution_count": 59
        }
      ],
      "source": [
        "sgdcost1000000[-1], sgdtheta1000000[-1]"
      ]
    },
    {
      "cell_type": "markdown",
      "metadata": {
        "id": "nW0D7WvHoi_I"
      },
      "source": [
        "For batch size = 1000000, It takes 21.5 seconds to get the theta value [2.8368, 1.0192, 1.9935] compared to original [3, 1, 2] "
      ]
    },
    {
      "cell_type": "code",
      "execution_count": 60,
      "metadata": {
        "id": "MP7JQjBBoi_J"
      },
      "outputs": [],
      "source": [
        "sgdPredY1000000 = predicted_y(randArr, sgdtheta1[-1])"
      ]
    },
    {
      "cell_type": "code",
      "execution_count": 61,
      "metadata": {
        "id": "wquRr9tEoi_J",
        "colab": {
          "base_uri": "https://localhost:8080/",
          "height": 295
        },
        "outputId": "d6d9d430-8119-4dd9-9f03-3be21f05193f"
      },
      "outputs": [
        {
          "output_type": "display_data",
          "data": {
            "text/plain": [
              "<Figure size 432x288 with 1 Axes>"
            ],
            "image/png": "[encoded data removed]"
          },
          "metadata": {
            "needs_background": "light"
          }
        }
      ],
      "source": [
        "costGraphh(sgdcost1000000)"
      ]
    },
    {
      "cell_type": "markdown",
      "metadata": {
        "id": "nvRLfVi9oi_J"
      },
      "source": [
        "As per the result, batch size of 10000 compared to total training data 1000000 show better result\n",
        "\n",
        "\n"
      ]
    },
    {
      "cell_type": "markdown",
      "metadata": {
        "id": "11Gbmo3eoi_J"
      },
      "source": [
        "Using test data to check how the model performed for unknowned data"
      ]
    },
    {
      "cell_type": "code",
      "execution_count": 62,
      "metadata": {
        "id": "tkcjGr7Voi_K"
      },
      "outputs": [],
      "source": [
        "data_df = pd.read_csv('/content/gdrive/My Drive/projectData/ass1/data/q2/q2test.csv', header=0)"
      ]
    },
    {
      "cell_type": "code",
      "execution_count": 63,
      "metadata": {
        "id": "pQUoBrvCoi_K",
        "colab": {
          "base_uri": "https://localhost:8080/",
          "height": 424
        },
        "outputId": "f8830bde-2296-4cf4-8009-c418adb9c688"
      },
      "outputs": [
        {
          "output_type": "execute_result",
          "data": {
            "text/plain": [
              "         X_1     X_2       Y\n",
              "0     16.678  13.018  45.537\n",
              "1      6.583  -5.539  -1.170\n",
              "2    -19.837   6.089  -3.646\n",
              "3     -8.412   6.110   8.137\n",
              "4      1.052  11.595  25.781\n",
              "...      ...     ...     ...\n",
              "9995  -1.476  16.595  31.906\n",
              "9996   0.203  26.920  58.418\n",
              "9997   6.381   2.484  13.018\n",
              "9998   3.138  -5.425  -6.873\n",
              "9999   5.502  -8.332  -7.749\n",
              "\n",
              "[10000 rows x 3 columns]"
            ],
            "text/html": [
              "\n",
              "  <div id=\"df-3b11a90c-06bd-4285-93ff-52e7f045b3f6\">\n",
              "    <div class=\"colab-df-container\">\n",
              "      <div>\n",
              "<style scoped>\n",
              "    .dataframe tbody tr th:only-of-type {\n",
              "        vertical-align: middle;\n",
              "    }\n",
              "\n",
              "    .dataframe tbody tr th {\n",
              "        vertical-align: top;\n",
              "    }\n",
              "\n",
              "    .dataframe thead th {\n",
              "        text-align: right;\n",
              "    }\n",
              "</style>\n",
              "<table border=\"1\" class=\"dataframe\">\n",
              "  <thead>\n",
              "    <tr style=\"text-align: right;\">\n",
              "      <th></th>\n",
              "      <th>X_1</th>\n",
              "      <th>X_2</th>\n",
              "      <th>Y</th>\n",
              "    </tr>\n",
              "  </thead>\n",
              "  <tbody>\n",
              "    <tr>\n",
              "      <th>0</th>\n",
              "      <td>16.678</td>\n",
              "      <td>13.018</td>\n",
              "      <td>45.537</td>\n",
              "    </tr>\n",
              "    <tr>\n",
              "      <th>1</th>\n",
              "      <td>6.583</td>\n",
              "      <td>-5.539</td>\n",
              "      <td>-1.170</td>\n",
              "    </tr>\n",
              "    <tr>\n",
              "      <th>2</th>\n",
              "      <td>-19.837</td>\n",
              "      <td>6.089</td>\n",
              "      <td>-3.646</td>\n",
              "    </tr>\n",
              "    <tr>\n",
              "      <th>3</th>\n",
              "      <td>-8.412</td>\n",
              "      <td>6.110</td>\n",
              "      <td>8.137</td>\n",
              "    </tr>\n",
              "    <tr>\n",
              "      <th>4</th>\n",
              "      <td>1.052</td>\n",
              "      <td>11.595</td>\n",
              "      <td>25.781</td>\n",
              "    </tr>\n",
              "    <tr>\n",
              "      <th>...</th>\n",
              "      <td>...</td>\n",
              "      <td>...</td>\n",
              "      <td>...</td>\n",
              "    </tr>\n",
              "    <tr>\n",
              "      <th>9995</th>\n",
              "      <td>-1.476</td>\n",
              "      <td>16.595</td>\n",
              "      <td>31.906</td>\n",
              "    </tr>\n",
              "    <tr>\n",
              "      <th>9996</th>\n",
              "      <td>0.203</td>\n",
              "      <td>26.920</td>\n",
              "      <td>58.418</td>\n",
              "    </tr>\n",
              "    <tr>\n",
              "      <th>9997</th>\n",
              "      <td>6.381</td>\n",
              "      <td>2.484</td>\n",
              "      <td>13.018</td>\n",
              "    </tr>\n",
              "    <tr>\n",
              "      <th>9998</th>\n",
              "      <td>3.138</td>\n",
              "      <td>-5.425</td>\n",
              "      <td>-6.873</td>\n",
              "    </tr>\n",
              "    <tr>\n",
              "      <th>9999</th>\n",
              "      <td>5.502</td>\n",
              "      <td>-8.332</td>\n",
              "      <td>-7.749</td>\n",
              "    </tr>\n",
              "  </tbody>\n",
              "</table>\n",
              "<p>10000 rows × 3 columns</p>\n",
              "</div>\n",
              "      <button class=\"colab-df-convert\" onclick=\"convertToInteractive('df-3b11a90c-06bd-4285-93ff-52e7f045b3f6')\"\n",
              "              title=\"Convert this dataframe to an interactive table.\"\n",
              "              style=\"display:none;\">\n",
              "        \n",
              "  <svg xmlns=\"http://www.w3.org/2000/svg\" height=\"24px\"viewBox=\"0 0 24 24\"\n",
              "       width=\"24px\">\n",
              "    <path d=\"M0 0h24v24H0V0z\" fill=\"none\"/>\n",
              "    <path d=\"M18.56 5.44l.94 2.06.94-2.06 2.06-.94-2.06-.94-.94-2.06-.94 2.06-2.06.94zm-11 1L8.5 8.5l.94-2.06 2.06-.94-2.06-.94L8.5 2.5l-.94 2.06-2.06.94zm10 10l.94 2.06.94-2.06 2.06-.94-2.06-.94-.94-2.06-.94 2.06-2.06.94z\"/><path d=\"M17.41 7.96l-1.37-1.37c-.4-.4-.92-.59-1.43-.59-.52 0-1.04.2-1.43.59L10.3 9.45l-7.72 7.72c-.78.78-.78 2.05 0 2.83L4 21.41c.39.39.9.59 1.41.59.51 0 1.02-.2 1.41-.59l7.78-7.78 2.81-2.81c.8-.78.8-2.07 0-2.86zM5.41 20L4 18.59l7.72-7.72 1.47 1.35L5.41 20z\"/>\n",
              "  </svg>\n",
              "      </button>\n",
              "      \n",
              "  <style>\n",
              "    .colab-df-container {\n",
              "      display:flex;\n",
              "      flex-wrap:wrap;\n",
              "      gap: 12px;\n",
              "    }\n",
              "\n",
              "    .colab-df-convert {\n",
              "      background-color: #E8F0FE;\n",
              "      border: none;\n",
              "      border-radius: 50%;\n",
              "      cursor: pointer;\n",
              "      display: none;\n",
              "      fill: #1967D2;\n",
              "      height: 32px;\n",
              "      padding: 0 0 0 0;\n",
              "      width: 32px;\n",
              "    }\n",
              "\n",
              "    .colab-df-convert:hover {\n",
              "      background-color: #E2EBFA;\n",
              "      box-shadow: 0px 1px 2px rgba(60, 64, 67, 0.3), 0px 1px 3px 1px rgba(60, 64, 67, 0.15);\n",
              "      fill: #174EA6;\n",
              "    }\n",
              "\n",
              "    [theme=dark] .colab-df-convert {\n",
              "      background-color: #3B4455;\n",
              "      fill: #D2E3FC;\n",
              "    }\n",
              "\n",
              "    [theme=dark] .colab-df-convert:hover {\n",
              "      background-color: #434B5C;\n",
              "      box-shadow: 0px 1px 3px 1px rgba(0, 0, 0, 0.15);\n",
              "      filter: drop-shadow(0px 1px 2px rgba(0, 0, 0, 0.3));\n",
              "      fill: #FFFFFF;\n",
              "    }\n",
              "  </style>\n",
              "\n",
              "      <script>\n",
              "        const buttonEl =\n",
              "          document.querySelector('#df-3b11a90c-06bd-4285-93ff-52e7f045b3f6 button.colab-df-convert');\n",
              "        buttonEl.style.display =\n",
              "          google.colab.kernel.accessAllowed ? 'block' : 'none';\n",
              "\n",
              "        async function convertToInteractive(key) {\n",
              "          const element = document.querySelector('#df-3b11a90c-06bd-4285-93ff-52e7f045b3f6');\n",
              "          const dataTable =\n",
              "            await google.colab.kernel.invokeFunction('convertToInteractive',\n",
              "                                                     [key], {});\n",
              "          if (!dataTable) return;\n",
              "\n",
              "          const docLinkHtml = 'Like what you see? Visit the ' +\n",
              "            '<a target=\"_blank\" href=https://colab.research.google.com/notebooks/data_table.ipynb>data table notebook</a>'\n",
              "            + ' to learn more about interactive tables.';\n",
              "          element.innerHTML = '';\n",
              "          dataTable['output_type'] = 'display_data';\n",
              "          await google.colab.output.renderOutput(dataTable, element);\n",
              "          const docLink = document.createElement('div');\n",
              "          docLink.innerHTML = docLinkHtml;\n",
              "          element.appendChild(docLink);\n",
              "        }\n",
              "      </script>\n",
              "    </div>\n",
              "  </div>\n",
              "  "
            ]
          },
          "metadata": {},
          "execution_count": 63
        }
      ],
      "source": [
        "data_df"
      ]
    },
    {
      "cell_type": "code",
      "execution_count": 64,
      "metadata": {
        "id": "wxtCZTheoi_K",
        "colab": {
          "base_uri": "https://localhost:8080/"
        },
        "outputId": "cba54b59-5ab2-4e23-fc6d-67d176285497"
      },
      "outputs": [
        {
          "output_type": "execute_result",
          "data": {
            "text/plain": [
              "10000"
            ]
          },
          "metadata": {},
          "execution_count": 64
        }
      ],
      "source": [
        "q2_n_rows = data_df.shape[0]\n",
        "q2_n_rows"
      ]
    },
    {
      "cell_type": "code",
      "execution_count": 65,
      "metadata": {
        "id": "yJBvrfPsoi_L"
      },
      "outputs": [],
      "source": [
        "q2_X = data_df[['X_1', 'X_2']].to_numpy().reshape(q2_n_rows, 2)\n",
        "q2_y= data_df[['Y']].to_numpy().reshape(q2_n_rows, 1)"
      ]
    },
    {
      "cell_type": "code",
      "execution_count": 66,
      "metadata": {
        "id": "v-BbJSABoi_L",
        "colab": {
          "base_uri": "https://localhost:8080/"
        },
        "outputId": "beafb85b-1b93-422a-d008-0149c01f7224"
      },
      "outputs": [
        {
          "output_type": "execute_result",
          "data": {
            "text/plain": [
              "(10000, 2)"
            ]
          },
          "metadata": {},
          "execution_count": 66
        }
      ],
      "source": [
        "q2_X.shape"
      ]
    },
    {
      "cell_type": "code",
      "execution_count": 67,
      "metadata": {
        "id": "KMKkc9ahoi_M",
        "colab": {
          "base_uri": "https://localhost:8080/"
        },
        "outputId": "20c41ef9-1506-4fef-cacc-f0ad29a6021d"
      },
      "outputs": [
        {
          "output_type": "execute_result",
          "data": {
            "text/plain": [
              "(10000, 1)"
            ]
          },
          "metadata": {},
          "execution_count": 67
        }
      ],
      "source": [
        "q2_y.shape"
      ]
    },
    {
      "cell_type": "code",
      "execution_count": 68,
      "metadata": {
        "id": "tYJoPqJ5oi_M"
      },
      "outputs": [],
      "source": [
        "def testCost(X, y, theta):\n",
        "    m = X.shape[0]\n",
        "    ones = np.ones((m, 1))\n",
        "    newX = np.concatenate((ones, X), axis=1)\n",
        "    predy = newX@theta\n",
        "    cost = np.sqrt((predy - y).T@(predy - y))\n",
        "    return cost[0][0]/m"
      ]
    },
    {
      "cell_type": "markdown",
      "metadata": {
        "id": "pJslSmERoi_N"
      },
      "source": [
        "Cost of Test data for all the 4 theta value obtained above "
      ]
    },
    {
      "cell_type": "code",
      "execution_count": 69,
      "metadata": {
        "id": "aieaGR5Boi_N",
        "colab": {
          "base_uri": "https://localhost:8080/"
        },
        "outputId": "dd09c35c-81bf-4839-8c21-a18b14f0eb60"
      },
      "outputs": [
        {
          "output_type": "execute_result",
          "data": {
            "text/plain": [
              "0.014037787804706672"
            ]
          },
          "metadata": {},
          "execution_count": 69
        }
      ],
      "source": [
        "testCost1 = testCost(q2_X, q2_y, sgdtheta1[-1])\n",
        "testCost1"
      ]
    },
    {
      "cell_type": "code",
      "execution_count": 70,
      "metadata": {
        "id": "fTDMnZtUoi_N",
        "colab": {
          "base_uri": "https://localhost:8080/"
        },
        "outputId": "aff59570-5c49-44b7-9e57-68f08395c766"
      },
      "outputs": [
        {
          "output_type": "execute_result",
          "data": {
            "text/plain": [
              "0.014042335576694999"
            ]
          },
          "metadata": {},
          "execution_count": 70
        }
      ],
      "source": [
        "testCost100 = testCost(q2_X, q2_y, sgdtheta100[-1])\n",
        "testCost100"
      ]
    },
    {
      "cell_type": "code",
      "execution_count": 71,
      "metadata": {
        "id": "pWQpYdidoi_O",
        "colab": {
          "base_uri": "https://localhost:8080/"
        },
        "outputId": "12f84119-541a-4c3d-cc39-948dd0fffb8e"
      },
      "outputs": [
        {
          "output_type": "execute_result",
          "data": {
            "text/plain": [
              "0.014041646341626022"
            ]
          },
          "metadata": {},
          "execution_count": 71
        }
      ],
      "source": [
        "testCost10000 = testCost(q2_X, q2_y, sgdtheta10000[-1])\n",
        "testCost10000"
      ]
    },
    {
      "cell_type": "code",
      "execution_count": 72,
      "metadata": {
        "id": "7PMwJEBtoi_O",
        "colab": {
          "base_uri": "https://localhost:8080/"
        },
        "outputId": "a57cb7b3-e019-419b-e5e7-79847ea2a0e6"
      },
      "outputs": [
        {
          "output_type": "execute_result",
          "data": {
            "text/plain": [
              "0.01423530091202741"
            ]
          },
          "metadata": {},
          "execution_count": 72
        }
      ],
      "source": [
        "testCost1000000 = testCost(q2_X, q2_y, sgdtheta1000000[-1])\n",
        "testCost1000000"
      ]
    },
    {
      "cell_type": "markdown",
      "metadata": {
        "id": "s6UQn4baoi_O"
      },
      "source": [
        "Conclusion: SGD for batch size=10000 performed better compared to 1, 100, 1000000"
      ]
    },
    {
      "cell_type": "markdown",
      "metadata": {
        "id": "VhoV9roQoi_O"
      },
      "source": [
        "------------------------------------------------------------------------------------------------------------------"
      ]
    },
    {
      "cell_type": "markdown",
      "metadata": {
        "id": "Mk7QBffgoi_P"
      },
      "source": [
        "LOGISTIC REGRESSION"
      ]
    },
    {
      "cell_type": "markdown",
      "metadata": {
        "id": "fgYzKlG7oi_P"
      },
      "source": [
        "The files logisticX.csv and logisticY.csv contain the inputs (x (i) ∈ R 2 ) and outputs\n",
        "(y (i) ∈ {0, 1}) respectively for a binary classification problem, with one training example per row.\n",
        "\n",
        "Implementing $Newton’s$ $method$ for optimizing L(θ), and applying it to fit a logistic regression model to\n",
        "the data. Initialize Newton’s method with θ = ~ 0 (the vector of all zeros)."
      ]
    },
    {
      "cell_type": "code",
      "execution_count": 73,
      "metadata": {
        "id": "rpWJ6eHToi_P"
      },
      "outputs": [],
      "source": [
        "q3_X = pd.read_csv('/content/gdrive/My Drive/projectData/ass1/data/q3/logisticX.csv', header=None , names=['X1', 'X2'])\n",
        "q3_y = pd.read_csv('/content/gdrive/My Drive/projectData/ass1/data/q3/logisticY.csv', header=None , names=['Y'])"
      ]
    },
    {
      "cell_type": "code",
      "execution_count": 74,
      "metadata": {
        "id": "esJFndD3oi_P",
        "colab": {
          "base_uri": "https://localhost:8080/",
          "height": 206
        },
        "outputId": "8c5f50b2-a273-4c89-b18c-dca65f6fdd5d"
      },
      "outputs": [
        {
          "output_type": "execute_result",
          "data": {
            "text/plain": [
              "       X1      X2\n",
              "0  3.8915  4.2105\n",
              "1  3.6898  6.6051\n",
              "2  2.7763  7.5057\n",
              "3  3.1137  5.7724\n",
              "4  2.9251  5.4315"
            ],
            "text/html": [
              "\n",
              "  <div id=\"df-ff2b96c3-94e2-4b7c-93bb-e50965e9828e\">\n",
              "    <div class=\"colab-df-container\">\n",
              "      <div>\n",
              "<style scoped>\n",
              "    .dataframe tbody tr th:only-of-type {\n",
              "        vertical-align: middle;\n",
              "    }\n",
              "\n",
              "    .dataframe tbody tr th {\n",
              "        vertical-align: top;\n",
              "    }\n",
              "\n",
              "    .dataframe thead th {\n",
              "        text-align: right;\n",
              "    }\n",
              "</style>\n",
              "<table border=\"1\" class=\"dataframe\">\n",
              "  <thead>\n",
              "    <tr style=\"text-align: right;\">\n",
              "      <th></th>\n",
              "      <th>X1</th>\n",
              "      <th>X2</th>\n",
              "    </tr>\n",
              "  </thead>\n",
              "  <tbody>\n",
              "    <tr>\n",
              "      <th>0</th>\n",
              "      <td>3.8915</td>\n",
              "      <td>4.2105</td>\n",
              "    </tr>\n",
              "    <tr>\n",
              "      <th>1</th>\n",
              "      <td>3.6898</td>\n",
              "      <td>6.6051</td>\n",
              "    </tr>\n",
              "    <tr>\n",
              "      <th>2</th>\n",
              "      <td>2.7763</td>\n",
              "      <td>7.5057</td>\n",
              "    </tr>\n",
              "    <tr>\n",
              "      <th>3</th>\n",
              "      <td>3.1137</td>\n",
              "      <td>5.7724</td>\n",
              "    </tr>\n",
              "    <tr>\n",
              "      <th>4</th>\n",
              "      <td>2.9251</td>\n",
              "      <td>5.4315</td>\n",
              "    </tr>\n",
              "  </tbody>\n",
              "</table>\n",
              "</div>\n",
              "      <button class=\"colab-df-convert\" onclick=\"convertToInteractive('df-ff2b96c3-94e2-4b7c-93bb-e50965e9828e')\"\n",
              "              title=\"Convert this dataframe to an interactive table.\"\n",
              "              style=\"display:none;\">\n",
              "        \n",
              "  <svg xmlns=\"http://www.w3.org/2000/svg\" height=\"24px\"viewBox=\"0 0 24 24\"\n",
              "       width=\"24px\">\n",
              "    <path d=\"M0 0h24v24H0V0z\" fill=\"none\"/>\n",
              "    <path d=\"M18.56 5.44l.94 2.06.94-2.06 2.06-.94-2.06-.94-.94-2.06-.94 2.06-2.06.94zm-11 1L8.5 8.5l.94-2.06 2.06-.94-2.06-.94L8.5 2.5l-.94 2.06-2.06.94zm10 10l.94 2.06.94-2.06 2.06-.94-2.06-.94-.94-2.06-.94 2.06-2.06.94z\"/><path d=\"M17.41 7.96l-1.37-1.37c-.4-.4-.92-.59-1.43-.59-.52 0-1.04.2-1.43.59L10.3 9.45l-7.72 7.72c-.78.78-.78 2.05 0 2.83L4 21.41c.39.39.9.59 1.41.59.51 0 1.02-.2 1.41-.59l7.78-7.78 2.81-2.81c.8-.78.8-2.07 0-2.86zM5.41 20L4 18.59l7.72-7.72 1.47 1.35L5.41 20z\"/>\n",
              "  </svg>\n",
              "      </button>\n",
              "      \n",
              "  <style>\n",
              "    .colab-df-container {\n",
              "      display:flex;\n",
              "      flex-wrap:wrap;\n",
              "      gap: 12px;\n",
              "    }\n",
              "\n",
              "    .colab-df-convert {\n",
              "      background-color: #E8F0FE;\n",
              "      border: none;\n",
              "      border-radius: 50%;\n",
              "      cursor: pointer;\n",
              "      display: none;\n",
              "      fill: #1967D2;\n",
              "      height: 32px;\n",
              "      padding: 0 0 0 0;\n",
              "      width: 32px;\n",
              "    }\n",
              "\n",
              "    .colab-df-convert:hover {\n",
              "      background-color: #E2EBFA;\n",
              "      box-shadow: 0px 1px 2px rgba(60, 64, 67, 0.3), 0px 1px 3px 1px rgba(60, 64, 67, 0.15);\n",
              "      fill: #174EA6;\n",
              "    }\n",
              "\n",
              "    [theme=dark] .colab-df-convert {\n",
              "      background-color: #3B4455;\n",
              "      fill: #D2E3FC;\n",
              "    }\n",
              "\n",
              "    [theme=dark] .colab-df-convert:hover {\n",
              "      background-color: #434B5C;\n",
              "      box-shadow: 0px 1px 3px 1px rgba(0, 0, 0, 0.15);\n",
              "      filter: drop-shadow(0px 1px 2px rgba(0, 0, 0, 0.3));\n",
              "      fill: #FFFFFF;\n",
              "    }\n",
              "  </style>\n",
              "\n",
              "      <script>\n",
              "        const buttonEl =\n",
              "          document.querySelector('#df-ff2b96c3-94e2-4b7c-93bb-e50965e9828e button.colab-df-convert');\n",
              "        buttonEl.style.display =\n",
              "          google.colab.kernel.accessAllowed ? 'block' : 'none';\n",
              "\n",
              "        async function convertToInteractive(key) {\n",
              "          const element = document.querySelector('#df-ff2b96c3-94e2-4b7c-93bb-e50965e9828e');\n",
              "          const dataTable =\n",
              "            await google.colab.kernel.invokeFunction('convertToInteractive',\n",
              "                                                     [key], {});\n",
              "          if (!dataTable) return;\n",
              "\n",
              "          const docLinkHtml = 'Like what you see? Visit the ' +\n",
              "            '<a target=\"_blank\" href=https://colab.research.google.com/notebooks/data_table.ipynb>data table notebook</a>'\n",
              "            + ' to learn more about interactive tables.';\n",
              "          element.innerHTML = '';\n",
              "          dataTable['output_type'] = 'display_data';\n",
              "          await google.colab.output.renderOutput(dataTable, element);\n",
              "          const docLink = document.createElement('div');\n",
              "          docLink.innerHTML = docLinkHtml;\n",
              "          element.appendChild(docLink);\n",
              "        }\n",
              "      </script>\n",
              "    </div>\n",
              "  </div>\n",
              "  "
            ]
          },
          "metadata": {},
          "execution_count": 74
        }
      ],
      "source": [
        "q3_X.head()"
      ]
    },
    {
      "cell_type": "code",
      "execution_count": 75,
      "metadata": {
        "id": "mkaaSLzEoi_P",
        "colab": {
          "base_uri": "https://localhost:8080/"
        },
        "outputId": "2eb3139f-eee2-4f0b-db08-5e5670ebc13e"
      },
      "outputs": [
        {
          "output_type": "execute_result",
          "data": {
            "text/plain": [
              "array([0, 1])"
            ]
          },
          "metadata": {},
          "execution_count": 75
        }
      ],
      "source": [
        "q3_labels = q3_y['Y'].unique()\n",
        "q3_labels"
      ]
    },
    {
      "cell_type": "code",
      "execution_count": 76,
      "metadata": {
        "id": "IIChR20Coi_Q"
      },
      "outputs": [],
      "source": [
        "n_rows = q3_X.shape[0]\n",
        "ones = np.ones((n_rows, 1))\n",
        "q3_x = np.concatenate([ones, q3_X], axis=1)\n",
        "q3_y = np.array(q3_y)"
      ]
    },
    {
      "cell_type": "code",
      "execution_count": 77,
      "metadata": {
        "id": "Ut7g9WTJoi_Q"
      },
      "outputs": [],
      "source": [
        "def sigmoidFunc(X, theta = np.array([[0], [0], [0]])):\n",
        "    thetaTX = X@theta\n",
        "    expVal = np.exp(-thetaTX)\n",
        "    return 1/(1 + expVal)    "
      ]
    },
    {
      "cell_type": "code",
      "execution_count": 78,
      "metadata": {
        "id": "c5zJOUX6oi_Q"
      },
      "outputs": [],
      "source": [
        "def logisticUpdatePara(X, y, lr, theta = np.array([[0], [0], [0]])):\n",
        "    m = X.shape[0]\n",
        "    predY = sigmoidFunc(X, theta)\n",
        "    grad = ((y - predY).T@X)/m\n",
        "    newTheta = theta + lr*grad.T\n",
        "    return newTheta"
      ]
    },
    {
      "cell_type": "code",
      "execution_count": 79,
      "metadata": {
        "id": "zzGJXU7joi_Q"
      },
      "outputs": [],
      "source": [
        "def logLikelihood(X, y, theta = np.array([[0], [0], [0]])):\n",
        "    m = y.shape[0]\n",
        "    sum = 0\n",
        "    for ele in range(m):\n",
        "        probY = sigmoidFunc(X[ele], theta)\n",
        "        if y[ele][0] == 1:\n",
        "            sum += np.log(probY)\n",
        "        else:\n",
        "            sum += np.log(1-probY)\n",
        "    return sum[0]"
      ]
    },
    {
      "cell_type": "code",
      "execution_count": 80,
      "metadata": {
        "id": "d1cq8Eb1oi_R",
        "colab": {
          "base_uri": "https://localhost:8080/"
        },
        "outputId": "c95b32cd-bee9-4742-aa18-9dfa8e0fd0ad"
      },
      "outputs": [
        {
          "output_type": "execute_result",
          "data": {
            "text/plain": [
              "-69.31471805599459"
            ]
          },
          "metadata": {},
          "execution_count": 80
        }
      ],
      "source": [
        "logLikelihood(q3_x, q3_y)"
      ]
    },
    {
      "cell_type": "code",
      "execution_count": 81,
      "metadata": {
        "id": "NfR3GYr_oi_R"
      },
      "outputs": [],
      "source": [
        "def logisticRegression(X, y, lr, convergence, theta = np.array([[0], [0], [0]])):\n",
        "    lllist = []\n",
        "    ll = logLikelihood(X, y, theta)\n",
        "    lllist.append(ll)\n",
        "    while(True):\n",
        "        theta = logisticUpdatePara(X, y, lr, theta)\n",
        "        ll = logLikelihood(X, y, theta)        \n",
        "        lllist.append(ll)\n",
        "        if(lllist[-1] - lllist[-2] < convergence):\n",
        "            return theta, lllist\n"
      ]
    },
    {
      "cell_type": "code",
      "execution_count": 82,
      "metadata": {
        "id": "KdhIJ2X9oi_R",
        "colab": {
          "base_uri": "https://localhost:8080/"
        },
        "outputId": "a3b18421-7702-4347-ad69-60967a6d2b78"
      },
      "outputs": [
        {
          "output_type": "execute_result",
          "data": {
            "text/plain": [
              "array([[ 0.01180591],\n",
              "       [ 1.75784934],\n",
              "       [-1.72822473]])"
            ]
          },
          "metadata": {},
          "execution_count": 82
        }
      ],
      "source": [
        "q3_theta, q3_ll = logisticRegression(q3_x, q3_y, 0.01, 0.0001)\n",
        "q3_theta"
      ]
    },
    {
      "cell_type": "code",
      "execution_count": 83,
      "metadata": {
        "id": "dQg72X9toi_R",
        "colab": {
          "base_uri": "https://localhost:8080/"
        },
        "outputId": "c0156fab-8ba0-47e9-c35a-bb54a1091690"
      },
      "outputs": [
        {
          "output_type": "execute_result",
          "data": {
            "text/plain": [
              "-22.983746569541456"
            ]
          },
          "metadata": {},
          "execution_count": 83
        }
      ],
      "source": [
        "logLikelihood(q3_x, q3_y, q3_theta)"
      ]
    },
    {
      "cell_type": "code",
      "execution_count": 84,
      "metadata": {
        "id": "piROe0ZRoi_S",
        "colab": {
          "base_uri": "https://localhost:8080/",
          "height": 282
        },
        "outputId": "8e82ec74-8cf6-4678-a63e-75e17ca3bd4b"
      },
      "outputs": [
        {
          "output_type": "execute_result",
          "data": {
            "text/plain": [
              "[<matplotlib.lines.Line2D at 0x7f2a0b48ea50>]"
            ]
          },
          "metadata": {},
          "execution_count": 84
        },
        {
          "output_type": "display_data",
          "data": {
            "text/plain": [
              "<Figure size 432x288 with 1 Axes>"
            ],
            "image/png": "[encoded data removed]"
          },
          "metadata": {
            "needs_background": "light"
          }
        }
      ],
      "source": [
        "x1_0 = []\n",
        "x1_1 = []\n",
        "x2_0 = []\n",
        "x2_1 = []\n",
        "for ele in range(q3_y.shape[0]):\n",
        "    if q3_y[ele] == 0:\n",
        "        x1_0.append(q3_x[ele][1])\n",
        "        x2_0.append(q3_x[ele][2])\n",
        "    else:\n",
        "        x1_1.append(q3_x[ele][1])\n",
        "        x2_1.append(q3_x[ele][2])\n",
        "x1 = np.array([ele[1] for ele in q3_x])\n",
        "x2 = -(q3_theta[0][0] + q3_theta[1][0]*np.array(x1))/q3_theta[2][0]\n",
        "plt.scatter(x1_0, x2_0, color='red')\n",
        "plt.scatter(x1_1, x2_1, color='blue')\n",
        "plt.plot(x1, x2, color='green')\n",
        "\n"
      ]
    },
    {
      "cell_type": "code",
      "execution_count": 85,
      "metadata": {
        "id": "qCbaf52xoi_S"
      },
      "outputs": [],
      "source": [
        "def gradient(X, y, theta = np.array([[0], [0], [0]])):   \n",
        "    x1 = [ele[1] for ele in X]\n",
        "    x2 = [ele[2] for ele in X]                                                      \n",
        "    sigmoid_probs = sigmoidFunc(X, theta)                                        \n",
        "    return np.array([[np.sum((y - sigmoid_probs) * x1),\n",
        "                     np.sum((y - sigmoid_probs) * x2),\n",
        "                     np.sum((y - sigmoid_probs) * 1)]]) "
      ]
    },
    {
      "cell_type": "code",
      "execution_count": 86,
      "metadata": {
        "id": "7QhvFDMToi_S"
      },
      "outputs": [],
      "source": [
        "def hessian(X, y, theta = np.array([[0], [0], [0]])):   \n",
        "    x1 = [ele[1] for ele in X]\n",
        "    x2 = [ele[2] for ele in X]                                                                \n",
        "    sigmoid_probs = sigmoidFunc(X, theta)                                        \n",
        "    d1 = np.sum((sigmoid_probs * (1 - sigmoid_probs)) * x1 * x1)\n",
        "    d2 = np.sum((sigmoid_probs * (1 - sigmoid_probs)) * x2 * x2)\n",
        "    d3 = np.sum((sigmoid_probs * (1 - sigmoid_probs)) * x1 * x2)\n",
        "    d4 = np.sum((sigmoid_probs * (1 - sigmoid_probs)) * x1 * 1)                  \n",
        "    d5 = np.sum((sigmoid_probs * (1 - sigmoid_probs)) * x2 * 1)\n",
        "    d6 = np.sum((sigmoid_probs * (1 - sigmoid_probs)) * 1 * 1)                  \n",
        "    H = np.array([[d1, d3, d4],[d3, d2, d5], [d4, d5, d6]])                                           \n",
        "    return H"
      ]
    },
    {
      "cell_type": "code",
      "execution_count": 87,
      "metadata": {
        "id": "nuy97qFdoi_S",
        "colab": {
          "base_uri": "https://localhost:8080/"
        },
        "outputId": "5f867683-1cef-4726-ccd9-9558366aebaa"
      },
      "outputs": [
        {
          "output_type": "execute_result",
          "data": {
            "text/plain": [
              "array([[0.00000000e+00, 9.09494702e-13, 0.00000000e+00]])"
            ]
          },
          "metadata": {},
          "execution_count": 87
        }
      ],
      "source": [
        "gradient(q3_x, q3_y)"
      ]
    },
    {
      "cell_type": "code",
      "execution_count": 88,
      "metadata": {
        "id": "7qoIqKgpoi_T",
        "colab": {
          "base_uri": "https://localhost:8080/"
        },
        "outputId": "f440e568-2fae-4a63-9db6-a15e83b157eb"
      },
      "outputs": [
        {
          "output_type": "execute_result",
          "data": {
            "text/plain": [
              "array([[5.76802916e+04, 4.99567217e+04, 1.15467925e+04],\n",
              "       [4.99567217e+04, 5.59514106e+04, 1.13071700e+04],\n",
              "       [1.15467925e+04, 1.13071700e+04, 2.50000000e+01]])"
            ]
          },
          "metadata": {},
          "execution_count": 88
        }
      ],
      "source": [
        "hessian(q3_x, q3_y)"
      ]
    },
    {
      "cell_type": "code",
      "execution_count": 89,
      "metadata": {
        "id": "3v0cjx8Noi_T"
      },
      "outputs": [],
      "source": [
        "def classificationUsingNewton(X, y, theta = np.array([[0], [0], [0]])):\n",
        "    for _ in range(10):\n",
        "        g = gradient(X, y, theta)                                                      \n",
        "        hess = hessian(X, y, theta)                                                 \n",
        "        H_inv = np.linalg.inv(hess) \n",
        "        update = H_inv @ g.T\n",
        "        theta = theta - update\n",
        "        ll = logLikelihood(X, y, theta)\n",
        "    return theta"
      ]
    },
    {
      "cell_type": "code",
      "execution_count": 90,
      "metadata": {
        "id": "RJ29ryXboi_T",
        "colab": {
          "base_uri": "https://localhost:8080/"
        },
        "outputId": "601a4cae-f127-4b57-e66a-e61583952584"
      },
      "outputs": [
        {
          "output_type": "execute_result",
          "data": {
            "text/plain": [
              "array([[-1.07814812e-17],\n",
              "       [ 1.16319893e-17],\n",
              "       [-2.77147160e-10]])"
            ]
          },
          "metadata": {},
          "execution_count": 90
        }
      ],
      "source": [
        "classificationUsingNewton(q3_x, q3_y)"
      ]
    },
    {
      "cell_type": "markdown",
      "metadata": {
        "id": "uBZ7lUfuoi_T"
      },
      "source": [
        "-------------------------------------------------------------------------------------------------------------------"
      ]
    },
    {
      "cell_type": "markdown",
      "metadata": {
        "id": "kR73IIGSoi_U"
      },
      "source": [
        "GAUSSIAN DISCRIMINANT ANALYSIS\n",
        "\n",
        "Implementing GDA for separating out salmons from Alaska and Canada. Each salmon is represented by two attributes x1 and x2 depicting growth ring diameters in \n",
        "    \n",
        "    1) fresh water, \n",
        "    \n",
        "    2) marine water, respectively. \n",
        "    \n",
        "File q4x.dat stores the two attribute values with one entry on each row. File q4y.dat contains the target values (y (i) ’s ∈ {Alaska, Canada}) on respective rows."
      ]
    },
    {
      "cell_type": "markdown",
      "metadata": {
        "id": "m0Tem7xCoi_U"
      },
      "source": [
        "Implement GDA using the closed form equations. Assume that both the classes have the same co-variance matrix i.e. Σ 0 = Σ 1 = Σ. Report the values of the means, µ 0 and µ 1 , and the co-variance matrix Σ"
      ]
    },
    {
      "cell_type": "code",
      "execution_count": 91,
      "metadata": {
        "id": "cy7KWH6voi_U",
        "colab": {
          "base_uri": "https://localhost:8080/"
        },
        "outputId": "69ac200c-c237-4fc0-cab6-fc9f4fd71a54"
      },
      "outputs": [
        {
          "output_type": "execute_result",
          "data": {
            "text/plain": [
              "(    X1   X2\n",
              " 0  108  368\n",
              " 1  131  355\n",
              " 2  105  469\n",
              " 3   86  506\n",
              " 4   99  402,         y\n",
              " 0  Alaska\n",
              " 1  Alaska\n",
              " 2  Alaska\n",
              " 3  Alaska\n",
              " 4  Alaska)"
            ]
          },
          "metadata": {},
          "execution_count": 91
        }
      ],
      "source": [
        "q4_X = pd.read_csv('/content/gdrive/My Drive/projectData/ass1/data/q4/q4x.dat', header=None, sep='  ', names=['X1', 'X2'], engine='python')\n",
        "q4_y = pd.read_csv('/content/gdrive/My Drive/projectData/ass1/data/q4/q4y.dat', header=None , names=['y'])\n",
        "q4_X.head(5), q4_y.head(5) "
      ]
    },
    {
      "cell_type": "markdown",
      "metadata": {
        "id": "OOMx2QqQoi_U"
      },
      "source": [
        "Pre-processing"
      ]
    },
    {
      "cell_type": "code",
      "execution_count": 92,
      "metadata": {
        "id": "0ItOzml8oi_U"
      },
      "outputs": [],
      "source": [
        "q4_X = np.array(q4_X)\n",
        "q4_labels = list(np.unique(q4_y))\n",
        "q4_y['y'].replace(q4_labels, [0, 1], inplace=True)\n",
        "q4_y = np.array(q4_y)"
      ]
    },
    {
      "cell_type": "markdown",
      "metadata": {
        "id": "pUjBOYhBoi_V"
      },
      "source": [
        "Parameters\n"
      ]
    },
    {
      "cell_type": "code",
      "execution_count": 93,
      "metadata": {
        "id": "CNjQir0Xoi_V",
        "colab": {
          "base_uri": "https://localhost:8080/"
        },
        "outputId": "5dba4854-898c-4d51-e56d-11b933c5a46e"
      },
      "outputs": [
        {
          "output_type": "execute_result",
          "data": {
            "text/plain": [
              "(100, 2)"
            ]
          },
          "metadata": {},
          "execution_count": 93
        }
      ],
      "source": [
        "m = q4_y.shape[0]\n",
        "n = q4_X.shape[1]\n",
        "\n",
        "m, n"
      ]
    },
    {
      "cell_type": "code",
      "execution_count": 94,
      "metadata": {
        "id": "Ymefq_00oi_V"
      },
      "outputs": [],
      "source": [
        "q4_x0 = []\n",
        "q4_x1 = []\n",
        "for ele in range(m):\n",
        "    x = [int(x_i) for x_i in q4_X[ele]]\n",
        "    if q4_y[ele][0] == 0:\n",
        "        q4_x0.append(q4_X[ele])\n",
        "    else:\n",
        "        q4_x1.append(q4_X[ele])\n",
        "q4_x0 = np.array(q4_x0)\n",
        "q4_x1 = np.array(q4_x1)\n"
      ]
    },
    {
      "cell_type": "code",
      "execution_count": 95,
      "metadata": {
        "id": "eja1Y2ZCoi_V",
        "colab": {
          "base_uri": "https://localhost:8080/",
          "height": 282
        },
        "outputId": "a0ba6943-3916-4c78-92df-391651f062df"
      },
      "outputs": [
        {
          "output_type": "execute_result",
          "data": {
            "text/plain": [
              "<matplotlib.collections.PathCollection at 0x7f2a0b413e90>"
            ]
          },
          "metadata": {},
          "execution_count": 95
        },
        {
          "output_type": "display_data",
          "data": {
            "text/plain": [
              "<Figure size 432x288 with 1 Axes>"
            ],
            "image/png": "[encoded data removed]"
          },
          "metadata": {
            "needs_background": "light"
          }
        }
      ],
      "source": [
        "q4_x1_0 = []\n",
        "q4_x1_1 = []\n",
        "q4_x2_0 = []\n",
        "q4_x2_1 = []\n",
        "for ele in q4_x0:\n",
        "    q4_x1_0.append(ele[0])\n",
        "    q4_x2_0.append(ele[1])\n",
        "for ele in q4_x1:\n",
        "    q4_x1_1.append(ele[0])\n",
        "    q4_x2_1.append(ele[1])\n",
        "#x1 = np.array([ele[1] for ele in q3_x])\n",
        "#x2 = -(q3_theta[0][0] + q3_theta[1][0]*np.array(x1))/q3_theta[2][0]\n",
        "plt.scatter(q4_x1_0, q4_x2_0, color='red')\n",
        "plt.scatter(q4_x1_1, q4_x2_1, color='blue')\n",
        "#plt.plot(x1, x2, color='green')"
      ]
    },
    {
      "cell_type": "markdown",
      "metadata": {
        "id": "oMcuDA06oi_W"
      },
      "source": [
        "Calculating phi, by describing bernoulli distribution in y"
      ]
    },
    {
      "cell_type": "code",
      "execution_count": 96,
      "metadata": {
        "id": "xfXfLsK6oi_W",
        "colab": {
          "base_uri": "https://localhost:8080/"
        },
        "outputId": "a9accf23-fdb1-4087-b772-dd08287f5f19"
      },
      "outputs": [
        {
          "output_type": "execute_result",
          "data": {
            "text/plain": [
              "0.5"
            ]
          },
          "metadata": {},
          "execution_count": 96
        }
      ],
      "source": [
        "numYis1 = q4_x1.shape[0]\n",
        "numYis0 = m - numYis1\n",
        "\n",
        "phi = numYis1/m\n",
        "phi"
      ]
    },
    {
      "cell_type": "markdown",
      "metadata": {
        "id": "7bN-Z8wxoi_W"
      },
      "source": [
        "Determining the mean:\n",
        "\n",
        "    miu - mean of whole dataset\n",
        "    miu_0 - mean of dataset having label 0\n",
        "    miu_1 - mean of dataset having label 1"
      ]
    },
    {
      "cell_type": "code",
      "execution_count": 97,
      "metadata": {
        "id": "YlWaPVUcoi_W",
        "colab": {
          "base_uri": "https://localhost:8080/"
        },
        "outputId": "d3eeb1a4-6fe5-4db4-c2a3-91953b32656a"
      },
      "outputs": [
        {
          "output_type": "execute_result",
          "data": {
            "text/plain": [
              "(array([[117.92],\n",
              "        [398.14]]), array([[ 98.38],\n",
              "        [429.66]]), array([[137.46],\n",
              "        [366.62]]))"
            ]
          },
          "metadata": {},
          "execution_count": 97
        }
      ],
      "source": [
        "miu = sum(q4_X)/m\n",
        "miu_0 = sum(q4_x0)/numYis0\n",
        "miu_1 = sum(q4_x1)/numYis1\n",
        "miu = miu.reshape(2, 1)\n",
        "miu_0 = miu_0.reshape(2, 1)\n",
        "miu_1 = miu_1.reshape(2, 1)\n",
        "miu, miu_0, miu_1"
      ]
    },
    {
      "cell_type": "markdown",
      "metadata": {
        "id": "puC-JX9Soi_X"
      },
      "source": [
        "Detemining the variance:\n",
        "\n",
        "    sigma - Variance of whole dataset\n",
        "    sigma0 - Variance of dataset having label 0\n",
        "    sigma1 - Variance of dataset having label 1\n"
      ]
    },
    {
      "cell_type": "code",
      "execution_count": 98,
      "metadata": {
        "id": "GRYIWmBroi_X",
        "colab": {
          "base_uri": "https://localhost:8080/"
        },
        "outputId": "9e08d1ea-c627-41ef-f36b-56161817eede"
      },
      "outputs": [
        {
          "output_type": "execute_result",
          "data": {
            "text/plain": [
              "(array([[ 669.2936, -642.6488],\n",
              "        [-642.6488, 2116.7604]]), array([[ 255.3956, -184.3308],\n",
              "        [-184.3308, 1371.1044]]), array([[319.5684, 130.8348],\n",
              "        [130.8348, 875.3956]]))"
            ]
          },
          "metadata": {},
          "execution_count": 98
        }
      ],
      "source": [
        "vpSum = np.array([[0.0 for _ in range(n)] for _ in range(n)])\n",
        "for ele in q4_X:\n",
        "    ele = ele.reshape(2, 1)\n",
        "    diff = ele - miu\n",
        "    vp = diff@diff.T\n",
        "    vpSum += vp\n",
        "sigma = vpSum/m\n",
        "\n",
        "\n",
        "vpSum0 = np.array([[0.0 for _ in range(n)] for _ in range(n)])\n",
        "for ele in q4_x0:\n",
        "    ele = ele.reshape(2, 1)\n",
        "    diff = ele - miu_0\n",
        "    vp = diff@diff.T\n",
        "    vpSum0 += vp\n",
        "sigma0 = vpSum0/numYis0\n",
        "\n",
        "vpSum1 = np.array([[0.0 for _ in range(n)] for _ in range(n)])\n",
        "for ele in q4_x1:\n",
        "    ele = ele.reshape(2, 1)\n",
        "    diff = ele - miu_1\n",
        "    vp = diff@diff.T\n",
        "    vpSum1 += vp\n",
        "sigma1 = vpSum1/numYis1\n",
        "\n",
        "sigma, sigma0, sigma1"
      ]
    },
    {
      "cell_type": "markdown",
      "metadata": {
        "id": "ZKta3w9Coi_Y"
      },
      "source": [
        "IF sigma1 = sigma2 = sigma(say)"
      ]
    },
    {
      "cell_type": "code",
      "execution_count": 99,
      "metadata": {
        "id": "IyVbIy5Ooi_Y"
      },
      "outputs": [],
      "source": [
        "sigma_inv = np.linalg.inv(sigma)\n",
        "term0 = (miu_1 - miu_0).T@sigma_inv\n",
        "term1 = (miu_1.T@sigma_inv@miu_1 - miu_0.T@sigma_inv@miu_0)/2\n",
        "term2 = np.log((1-phi)/phi)\n",
        "prob_yis1List = []\n",
        "for index in range(m):\n",
        "    logA = -term0@q4_X[index] + term1 + term2\n",
        "    A = np.exp(logA)\n",
        "    prob_yis1 = 1/(1 + A)\n",
        "    prob_yis1List.append(prob_yis1)"
      ]
    },
    {
      "cell_type": "markdown",
      "metadata": {
        "id": "vZeD3bvOoi_Y"
      },
      "source": [
        "Plotting the decision boundary"
      ]
    },
    {
      "cell_type": "code",
      "execution_count": 100,
      "metadata": {
        "id": "wfwMTIzmoi_Y"
      },
      "outputs": [],
      "source": [
        "x1Val = np.array([ele for ele in range(50, 200)])\n",
        "x2Val = []\n",
        "for eleX in x1Val:\n",
        "    val = (term1 + term2 - term0[0][0]*eleX)/term0[0][1]\n",
        "    x2Val.append(val[0][0])\n",
        "x2Val = np.array(x2Val)"
      ]
    },
    {
      "cell_type": "code",
      "execution_count": 101,
      "metadata": {
        "id": "_Dh_QDc_oi_Z",
        "colab": {
          "base_uri": "https://localhost:8080/",
          "height": 282
        },
        "outputId": "6da2a444-3a87-4dc9-fab8-01d481213f4e"
      },
      "outputs": [
        {
          "output_type": "execute_result",
          "data": {
            "text/plain": [
              "[<matplotlib.lines.Line2D at 0x7f2a0b3e0450>]"
            ]
          },
          "metadata": {},
          "execution_count": 101
        },
        {
          "output_type": "display_data",
          "data": {
            "text/plain": [
              "<Figure size 432x288 with 1 Axes>"
            ],
            "image/png": "[encoded data removed]"
          },
          "metadata": {
            "needs_background": "light"
          }
        }
      ],
      "source": [
        "plt.scatter(q4_x1_0, q4_x2_0, color='red')\n",
        "plt.scatter(q4_x1_1, q4_x2_1, color='blue')\n",
        "plt.plot(x1Val, x2Val, color='green')"
      ]
    },
    {
      "cell_type": "markdown",
      "metadata": {
        "id": "DAEVRSQ4oi_Z"
      },
      "source": [
        "Prediction error on training Data"
      ]
    },
    {
      "cell_type": "code",
      "execution_count": 102,
      "metadata": {
        "id": "6vpAff3uoi_a",
        "colab": {
          "base_uri": "https://localhost:8080/"
        },
        "outputId": "c55c128a-ee81-4378-af7a-7f4841015b62"
      },
      "outputs": [
        {
          "output_type": "execute_result",
          "data": {
            "text/plain": [
              "0.07"
            ]
          },
          "metadata": {},
          "execution_count": 102
        }
      ],
      "source": [
        "q4predY = []\n",
        "for prob in prob_yis1List:\n",
        "    if prob > 0.5:\n",
        "        q4predY.append(1)\n",
        "    else:\n",
        "        q4predY.append(0)\n",
        "q4predY = np.array(q4predY)\n",
        "q4RealY =  q4_y.reshape(m,)\n",
        "eachError = [np.abs(q4RealY[index] - q4predY[index]) for index in range(m)]\n",
        "errorPer = np.sum(eachError)/m\n",
        "errorPer"
      ]
    },
    {
      "cell_type": "markdown",
      "metadata": {
        "id": "omXl2it4oi_a"
      },
      "source": [
        "Taking each of the target classes having its own covariance matrix"
      ]
    },
    {
      "cell_type": "code",
      "execution_count": 103,
      "metadata": {
        "id": "YnusPSMfoi_a",
        "colab": {
          "base_uri": "https://localhost:8080/"
        },
        "outputId": "b5312440-91a8-48e2-8c23-77cb3ed36c87"
      },
      "outputs": [
        {
          "output_type": "execute_result",
          "data": {
            "text/plain": [
              "array([[ 1.24352364, -0.14704452],\n",
              "       [ 0.05361255,  0.77937947]])"
            ]
          },
          "metadata": {},
          "execution_count": 103
        }
      ],
      "source": [
        "a_mat = ((1-phi)/phi)*(np.sqrt(sigma1)@np.linalg.inv(np.sqrt(np.sqrt(sigma0**2))))\n",
        "a_mat"
      ]
    },
    {
      "cell_type": "code",
      "execution_count": 104,
      "metadata": {
        "id": "KvimG0pDoi_b",
        "colab": {
          "base_uri": "https://localhost:8080/"
        },
        "outputId": "06717445-3f30-4cfe-d855-dbda083cedef"
      },
      "outputs": [
        {
          "output_type": "execute_result",
          "data": {
            "text/plain": [
              "(316196.1870719999, array([[319.5684, 130.8348],\n",
              "        [130.8348, 875.3956]]))"
            ]
          },
          "metadata": {},
          "execution_count": 104
        }
      ],
      "source": [
        "np.linalg.det(sigma0), sigma1"
      ]
    },
    {
      "cell_type": "code",
      "execution_count": 105,
      "metadata": {
        "id": "cmS3vydsoi_c"
      },
      "outputs": [],
      "source": [
        "sigma0_inv = np.linalg.inv(sigma0)\n",
        "sigma1_inv = np.linalg.inv(sigma1)\n",
        "term0 = sigma1_inv - sigma0_inv\n",
        "term1 = 2*(miu_1.T@sigma1_inv - miu_0.T@sigma0_inv)\n",
        "term2 = miu_1.T@sigma1_inv@miu_1 - miu_0.T@sigma0_inv@miu_0\n",
        "term3 = np.log(((1-phi) /phi)*(np.sqrt(np.linalg.det(sigma1))/np.sqrt(np.linalg.det(sigma0))))\n",
        "\n",
        "prob_yis1Listquad = []\n",
        "for index in range(m):\n",
        "    logA = 1/2*(q4_X[index].T@term0@q4_X[index] - term1@q4_X[index] + term2) + term3\n",
        "    A = np.exp(logA)\n",
        "    prob_yis1 = 1/(1 + A)\n",
        "    prob_yis1Listquad.append(prob_yis1)"
      ]
    },
    {
      "cell_type": "code",
      "execution_count": 106,
      "metadata": {
        "id": "QQkhkPb1oi_c",
        "colab": {
          "base_uri": "https://localhost:8080/"
        },
        "outputId": "58dcad9b-54ce-44a4-f606-df355b8116d2"
      },
      "outputs": [
        {
          "output_type": "execute_result",
          "data": {
            "text/plain": [
              "0.07"
            ]
          },
          "metadata": {},
          "execution_count": 106
        }
      ],
      "source": [
        "q4predYquad = []\n",
        "for prob in prob_yis1Listquad:\n",
        "    if prob > 0.5:\n",
        "        q4predYquad.append(1)\n",
        "    else:\n",
        "        q4predYquad.append(0)\n",
        "q4predYquad = np.array(q4predYquad)\n",
        "q4RealY =  q4_y.reshape(m,)\n",
        "eachError = [np.abs(q4RealY[index] - q4predYquad[index]) for index in range(m)]\n",
        "quaderrorPer = np.sum(eachError)/m\n",
        "quaderrorPer"
      ]
    },
    {
      "cell_type": "code",
      "execution_count": 107,
      "metadata": {
        "id": "NU5P2lj-oi_d"
      },
      "outputs": [],
      "source": [
        "def getPolycoeff(x1):\n",
        "    A0 = term1[0][0]/2\n",
        "    A1 = term1[0][1]/2\n",
        "    a = term0[1][1]\n",
        "    b = x1*(term0[0][0] + term0[0][1]) + A1\n",
        "    c = (x1**2)*term0[0][0] + A0*x1 + term2[0][0]/2 + term3 \n",
        "    return a, b, c"
      ]
    },
    {
      "cell_type": "code",
      "execution_count": 108,
      "metadata": {
        "id": "IbmSGNF7oi_d"
      },
      "outputs": [],
      "source": [
        "X1Valquad = []\n",
        "X2Valquad = []\n",
        "for index in range(50, 200):\n",
        "    a, b, c = getPolycoeff(index)\n",
        "    disPoly = b**2 - 4*a*c\n",
        "    if disPoly > 0:\n",
        "        X1Valquad.append(index)       \n",
        "        X2Valquad.append((-b + np.sqrt(disPoly))/(2*a))\n",
        "        X1Valquad.append(index)       \n",
        "        X2Valquad.append((-b - np.sqrt(disPoly))/(2*a))\n",
        "    elif disPoly == 0:\n",
        "        X1Valquad.append(index)       \n",
        "        X2Valquad.append((-b)/(2*a))"
      ]
    },
    {
      "cell_type": "code",
      "execution_count": 109,
      "metadata": {
        "id": "S4KslP3doi_e"
      },
      "outputs": [],
      "source": [
        "X1Valquad = np.array(X1Valquad)\n",
        "X2Valquad = np.array(X2Valquad)"
      ]
    },
    {
      "cell_type": "code",
      "execution_count": 110,
      "metadata": {
        "id": "cusoByRNoi_e"
      },
      "outputs": [],
      "source": [
        "q4_x0_pred = []\n",
        "q4_x1_pred = []\n",
        "for ele in range(m):\n",
        "    if prob_yis1Listquad[ele][0][0] > 0:\n",
        "        q4_x0_pred.append(q4_X[ele])\n",
        "    else:\n",
        "        q4_x1_pred.append(q4_X[ele])\n",
        "q4_x0_pred = np.array(q4_x0)\n",
        "q4_x1_pred = np.array(q4_x1)"
      ]
    },
    {
      "cell_type": "code",
      "execution_count": 111,
      "metadata": {
        "id": "af9EQQXkoi_e",
        "colab": {
          "base_uri": "https://localhost:8080/",
          "height": 282
        },
        "outputId": "44781026-1b53-44b8-9600-60d32f12d67a"
      },
      "outputs": [
        {
          "output_type": "execute_result",
          "data": {
            "text/plain": [
              "<matplotlib.collections.PathCollection at 0x7f2a0b2fe710>"
            ]
          },
          "metadata": {},
          "execution_count": 111
        },
        {
          "output_type": "display_data",
          "data": {
            "text/plain": [
              "<Figure size 432x288 with 1 Axes>"
            ],
            "image/png": "[encoded data removed]"
          },
          "metadata": {
            "needs_background": "light"
          }
        }
      ],
      "source": [
        "q4_x1_0_pred = []\n",
        "q4_x1_1_pred = []\n",
        "q4_x0_0_pred = []\n",
        "q4_x0_1_pred = []\n",
        "for ele in q4_x0_pred:\n",
        "    q4_x0_0_pred.append(ele[0])\n",
        "    q4_x1_0_pred.append(ele[1])\n",
        "for ele in q4_x1_pred:\n",
        "    q4_x0_1_pred.append(ele[0])\n",
        "    q4_x1_1_pred.append(ele[1])\n",
        "#x1 = np.array([ele[1] for ele in q3_x])\n",
        "#x2 = -(q3_theta[0][0] + q3_theta[1][0]*np.array(x1))/q3_theta[2][0]\n",
        "plt.scatter(q4_x0_0_pred, q4_x1_0_pred, color='red')\n",
        "plt.scatter(q4_x0_1_pred, q4_x1_1_pred, color='blue')"
      ]
    }
  ],
  "metadata": {
    "interpreter": {
      "hash": "916dbcbb3f70747c44a77c7bcd40155683ae19c65e1c03b4aa3499c5328201f1"
    },
    "kernelspec": {
      "display_name": "Python 3.8.10 64-bit",
      "language": "python",
      "name": "python3"
    },
    "language_info": {
      "codemirror_mode": {
        "name": "ipython",
        "version": 3
      },
      "file_extension": ".py",
      "mimetype": "text/x-python",
      "name": "python",
      "nbconvert_exporter": "python",
      "pygments_lexer": "ipython3",
      "version": "3.8.10"
    },
    "orig_nbformat": 4,
    "colab": {
      "name": "regression_gda.ipynb",
      "provenance": [],
      "include_colab_link": true
    }
  },
  "nbformat": 4,
  "nbformat_minor": 0
}