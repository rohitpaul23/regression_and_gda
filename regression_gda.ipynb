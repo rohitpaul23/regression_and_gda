{
 "cells": [
  {
   "cell_type": "markdown",
   "metadata": {},
   "source": [
    "Linear Regression\n",
    "\n",
    "\n",
    "In this problem, will implement least squares linear regression to predict density of wine based on its\n",
    "acidity. \n",
    "\n",
    "The files linearX.csv and linearY.csv contain the acidity of the wine (x (i) ’s, x (i) ∈ R) and its density (y (i) ’s, y (i) ∈ R), respectively, with one training example per row. Here, least squares linear regression is implemented to learn the relationship between x (i) ’s and y (i) ’s."
   ]
  },
  {
   "cell_type": "markdown",
   "metadata": {},
   "source": [
    "(a) Implement batch gradient descent method for optimizing J(θ). Choose an appropriate learning rate and the stopping criteria (as a function of the change in the value of J(θ)). Report your learning rate, stopping criteria and the final set of parameters obtained by your\n",
    "algorithm."
   ]
  },
  {
   "cell_type": "code",
   "execution_count": 1,
   "metadata": {},
   "outputs": [],
   "source": [
    "import pandas as pd\n",
    "import numpy as np\n",
    "import matplotlib.pyplot as plt\n",
    "from mpl_toolkits import mplot3d"
   ]
  },
  {
   "cell_type": "code",
   "execution_count": 3,
   "metadata": {},
   "outputs": [],
   "source": [
    "dataX_df = pd.read_csv('./data/q1/linearX.csv', header=None, names=['X'])\n",
    "dataY_df = pd.read_csv('./data/q1/linearY.csv', header=None, names=['y'])"
   ]
  },
  {
   "cell_type": "code",
   "execution_count": 4,
   "metadata": {},
   "outputs": [
    {
     "data": {
      "text/plain": [
       "(100, 1)"
      ]
     },
     "execution_count": 4,
     "metadata": {},
     "output_type": "execute_result"
    }
   ],
   "source": [
    "dataX_df.shape"
   ]
  },
  {
   "cell_type": "code",
   "execution_count": 5,
   "metadata": {},
   "outputs": [
    {
     "data": {
      "text/plain": [
       "100"
      ]
     },
     "execution_count": 5,
     "metadata": {},
     "output_type": "execute_result"
    }
   ],
   "source": [
    "q1_m = dataX_df.shape[0]\n",
    "q1_m"
   ]
  },
  {
   "cell_type": "markdown",
   "metadata": {},
   "source": [
    "Converting the data to an array with one being added as X0 to X"
   ]
  },
  {
   "cell_type": "code",
   "execution_count": 6,
   "metadata": {},
   "outputs": [
    {
     "data": {
      "text/plain": [
       "((100, 2), (100, 1))"
      ]
     },
     "execution_count": 6,
     "metadata": {},
     "output_type": "execute_result"
    }
   ],
   "source": [
    "q1_X = dataX_df['X'].to_numpy().reshape(q1_m, 1)\n",
    "ones = np.ones((q1_m, 1))\n",
    "q1_X = np.concatenate((ones, q1_X), axis=1)\n",
    "q1_y = dataY_df['y'].to_numpy().reshape(q1_m, 1)\n",
    "q1_X.shape, q1_y.shape"
   ]
  },
  {
   "cell_type": "markdown",
   "metadata": {},
   "source": [
    "First 5 elements of X and y"
   ]
  },
  {
   "cell_type": "code",
   "execution_count": 7,
   "metadata": {},
   "outputs": [
    {
     "data": {
      "text/plain": [
       "(array([[1. , 9.1],\n",
       "        [1. , 8. ],\n",
       "        [1. , 9.1],\n",
       "        [1. , 8.4],\n",
       "        [1. , 6.9]]),\n",
       " array([[0.99523],\n",
       "        [0.99007],\n",
       "        [0.99769],\n",
       "        [0.99386],\n",
       "        [0.99508]]))"
      ]
     },
     "execution_count": 7,
     "metadata": {},
     "output_type": "execute_result"
    }
   ],
   "source": [
    "q1_X[:5], q1_y[:5]"
   ]
  },
  {
   "cell_type": "code",
   "execution_count": 8,
   "metadata": {},
   "outputs": [
    {
     "data": {
      "text/plain": [
       "Text(0.5, 1.0, 'Traning Dataset')"
      ]
     },
     "execution_count": 8,
     "metadata": {},
     "output_type": "execute_result"
    },
    {
     "data": {
      "image/png": "[encoded data removed]",
      "text/plain": [
       "<Figure size 432x288 with 1 Axes>"
      ]
     },
     "metadata": {
      "needs_background": "light"
     },
     "output_type": "display_data"
    }
   ],
   "source": [
    "plt.scatter(dataX_df, dataY_df)\n",
    "plt.xlabel('X')\n",
    "plt.ylabel('y')\n",
    "plt.title('Traning Dataset')"
   ]
  },
  {
   "cell_type": "markdown",
   "metadata": {},
   "source": [
    "Function to predict y based on x and theta value"
   ]
  },
  {
   "cell_type": "code",
   "execution_count": 9,
   "metadata": {},
   "outputs": [],
   "source": [
    "def predicted_y(data, theta=np.array([[0], [0]])):\n",
    "    return data@theta"
   ]
  },
  {
   "cell_type": "markdown",
   "metadata": {},
   "source": [
    "Early prediction taking theta as [0, 0]"
   ]
  },
  {
   "cell_type": "code",
   "execution_count": 10,
   "metadata": {},
   "outputs": [
    {
     "data": {
      "text/plain": [
       "array([[0.],\n",
       "       [0.],\n",
       "       [0.],\n",
       "       [0.],\n",
       "       [0.]])"
      ]
     },
     "execution_count": 10,
     "metadata": {},
     "output_type": "execute_result"
    }
   ],
   "source": [
    "predicted_y(q1_X)[:5]"
   ]
  },
  {
   "cell_type": "markdown",
   "metadata": {},
   "source": [
    "Cost function "
   ]
  },
  {
   "cell_type": "code",
   "execution_count": 11,
   "metadata": {},
   "outputs": [],
   "source": [
    "def cost_function(X, Y, theta= np.array([[0], [0]])):\n",
    "    m = len(Y)\n",
    "    predictedY = predicted_y(X, theta)\n",
    "    diff = (Y - predictedY)\n",
    "    sum_ = diff.T@diff\n",
    "    return sum_[0][0]/(2*m)"
   ]
  },
  {
   "cell_type": "markdown",
   "metadata": {},
   "source": [
    "Initial Cost"
   ]
  },
  {
   "cell_type": "code",
   "execution_count": 12,
   "metadata": {},
   "outputs": [
    {
     "data": {
      "text/plain": [
       "0.4966279047145001"
      ]
     },
     "execution_count": 12,
     "metadata": {},
     "output_type": "execute_result"
    }
   ],
   "source": [
    "cost_function(q1_X, q1_y)"
   ]
  },
  {
   "cell_type": "markdown",
   "metadata": {},
   "source": [
    "Update theta based on the predicted y and real y"
   ]
  },
  {
   "cell_type": "code",
   "execution_count": 13,
   "metadata": {},
   "outputs": [],
   "source": [
    "def updateParameter(X, Y, learning_rate, theta = np.array([[0],[0]])):\n",
    "    m = X.shape[0]\n",
    "    n = X.shape[1]\n",
    "    predY = predicted_y(X, theta)\n",
    "    sum = (Y - predY).T@X\n",
    "    sum = sum.reshape(n, 1)\n",
    "    updation = (learning_rate*sum)/m\n",
    "    theta = theta + updation\n",
    "    return theta"
   ]
  },
  {
   "cell_type": "code",
   "execution_count": 14,
   "metadata": {},
   "outputs": [
    {
     "data": {
      "text/plain": [
       "array([[0.04983101],\n",
       "       [0.40185303]])"
      ]
     },
     "execution_count": 14,
     "metadata": {},
     "output_type": "execute_result"
    }
   ],
   "source": [
    "updateParameter(q1_X, q1_y, 0.05)"
   ]
  },
  {
   "cell_type": "markdown",
   "metadata": {},
   "source": [
    "Batch Gradient Descent\n",
    "\n",
    "Input:\n",
    "X - Training Input data \n",
    "y - Training Output data\n",
    "learningRate - Learning Rate\n",
    "epoch - Number of times parameter will be update\n",
    "\n",
    "Output:\n",
    "theta - Updated Theta parameter"
   ]
  },
  {
   "cell_type": "code",
   "execution_count": 15,
   "metadata": {},
   "outputs": [],
   "source": [
    "def batchGradientDescent(X, Y, learningRate, epoch, convergence):\n",
    "    theta = np.array([[0.0], [0.0]])\n",
    "    thetaList = []\n",
    "    cost_list = []\n",
    "    for turn in range(epoch):\n",
    "        theta = updateParameter(X, Y, learningRate, theta)\n",
    "        thetaList.append(theta)\n",
    "        cost_ = cost_function(X, Y, theta)\n",
    "        perUpdate = 1\n",
    "        if turn != 0:\n",
    "           costDiff = abs(cost_ - cost_list[-1])\n",
    "           perUpdate = costDiff/cost_list[-1]\n",
    "        if perUpdate < convergence:\n",
    "            return thetaList[:-1], cost_list\n",
    "        cost_list.append(cost_)\n",
    "    return thetaList, cost_list"
   ]
  },
  {
   "cell_type": "markdown",
   "metadata": {},
   "source": [
    "Batch Gradient Descent for learning rate 0.1"
   ]
  },
  {
   "cell_type": "code",
   "execution_count": 16,
   "metadata": {},
   "outputs": [],
   "source": [
    "thetaPara1, costList1 = batchGradientDescent(q1_X, q1_y, 0.1, 100, 0)"
   ]
  },
  {
   "cell_type": "code",
   "execution_count": 17,
   "metadata": {},
   "outputs": [],
   "source": [
    "q1_y_1 = predicted_y(q1_X, thetaPara1[-1])"
   ]
  },
  {
   "cell_type": "code",
   "execution_count": 18,
   "metadata": {},
   "outputs": [
    {
     "data": {
      "text/plain": [
       "5.405059534761875e+153"
      ]
     },
     "execution_count": 18,
     "metadata": {},
     "output_type": "execute_result"
    }
   ],
   "source": [
    "cost_function(q1_X, q1_y, thetaPara1[-1])"
   ]
  },
  {
   "cell_type": "markdown",
   "metadata": {},
   "source": [
    "Batch Gradient Descent for learning rate 0.025"
   ]
  },
  {
   "cell_type": "code",
   "execution_count": 19,
   "metadata": {},
   "outputs": [],
   "source": [
    "thetaPara2, costList2 = batchGradientDescent(q1_X, q1_y, 0.025, 10000, 0.001)"
   ]
  },
  {
   "cell_type": "code",
   "execution_count": 20,
   "metadata": {},
   "outputs": [],
   "source": [
    "q1_y_2 = predicted_y(q1_X, thetaPara2[-1])"
   ]
  },
  {
   "cell_type": "code",
   "execution_count": 21,
   "metadata": {},
   "outputs": [
    {
     "data": {
      "text/plain": [
       "array([[0.98346529],\n",
       "       [0.00159492]])"
      ]
     },
     "execution_count": 21,
     "metadata": {},
     "output_type": "execute_result"
    }
   ],
   "source": [
    "thetaPara2[-1]"
   ]
  },
  {
   "cell_type": "code",
   "execution_count": 22,
   "metadata": {},
   "outputs": [
    {
     "data": {
      "text/plain": [
       "2.2300654835395997e-06"
      ]
     },
     "execution_count": 22,
     "metadata": {},
     "output_type": "execute_result"
    }
   ],
   "source": [
    "cost_function(q1_X, q1_y, thetaPara2[-1])"
   ]
  },
  {
   "cell_type": "markdown",
   "metadata": {},
   "source": [
    "Batch Gradient Descent for learning rate 0.001"
   ]
  },
  {
   "cell_type": "code",
   "execution_count": 23,
   "metadata": {},
   "outputs": [],
   "source": [
    "thetaPara3, costList3 = batchGradientDescent(q1_X, q1_y, 0.001, 100000, 0.000075)"
   ]
  },
  {
   "cell_type": "code",
   "execution_count": 24,
   "metadata": {},
   "outputs": [],
   "source": [
    "q1_y_3 = predicted_y(q1_X, thetaPara3[-1])"
   ]
  },
  {
   "cell_type": "code",
   "execution_count": 25,
   "metadata": {},
   "outputs": [
    {
     "data": {
      "text/plain": [
       "array([[0.9711762 ],\n",
       "       [0.00305357]])"
      ]
     },
     "execution_count": 25,
     "metadata": {},
     "output_type": "execute_result"
    }
   ],
   "source": [
    "thetaPara3[-1]"
   ]
  },
  {
   "cell_type": "code",
   "execution_count": 26,
   "metadata": {},
   "outputs": [
    {
     "data": {
      "text/plain": [
       "9.224961797159204e-06"
      ]
     },
     "execution_count": 26,
     "metadata": {},
     "output_type": "execute_result"
    }
   ],
   "source": [
    "cost_function(q1_X, q1_y, thetaPara3[-1])"
   ]
  },
  {
   "cell_type": "markdown",
   "metadata": {},
   "source": [
    "Graph based Analysis with respect to different learning rate"
   ]
  },
  {
   "cell_type": "code",
   "execution_count": 27,
   "metadata": {},
   "outputs": [],
   "source": [
    "def comparePredictedY(X, Y, Y_pred):\n",
    "    X_i = [ele[1] for ele in X]\n",
    "    plt.scatter(X_i, Y, label='real')\n",
    "    plt.plot(X_i, Y_pred, label='predicted')\n",
    "    plt.xlabel('x-axis')\n",
    "    plt.ylabel('y-axis')\n",
    "    plt.title('Comparison')\n",
    "    plt.legend()\n",
    "    plt.show()\n"
   ]
  },
  {
   "cell_type": "markdown",
   "metadata": {},
   "source": [
    "Comparing predicted y with real y for learning rate 0.1"
   ]
  },
  {
   "cell_type": "code",
   "execution_count": 28,
   "metadata": {},
   "outputs": [
    {
     "data": {
      "image/png": "[encoded data removed]",
      "text/plain": [
       "<Figure size 432x288 with 1 Axes>"
      ]
     },
     "metadata": {
      "needs_background": "light"
     },
     "output_type": "display_data"
    }
   ],
   "source": [
    "comparePredictedY(q1_X, q1_y, q1_y_1)"
   ]
  },
  {
   "cell_type": "markdown",
   "metadata": {},
   "source": [
    "Comparing predicted y with real y for learning rate 0.025"
   ]
  },
  {
   "cell_type": "code",
   "execution_count": 29,
   "metadata": {},
   "outputs": [
    {
     "data": {
      "image/png": "[encoded data removed]",
      "text/plain": [
       "<Figure size 432x288 with 1 Axes>"
      ]
     },
     "metadata": {
      "needs_background": "light"
     },
     "output_type": "display_data"
    }
   ],
   "source": [
    "comparePredictedY(q1_X, q1_y, q1_y_2)"
   ]
  },
  {
   "cell_type": "markdown",
   "metadata": {},
   "source": [
    "Comparing predicted y with real y for learning rate 0.001"
   ]
  },
  {
   "cell_type": "code",
   "execution_count": 30,
   "metadata": {},
   "outputs": [
    {
     "data": {
      "image/png": "[encoded data removed]",
      "text/plain": [
       "<Figure size 432x288 with 1 Axes>"
      ]
     },
     "metadata": {
      "needs_background": "light"
     },
     "output_type": "display_data"
    }
   ],
   "source": [
    "comparePredictedY(q1_X, q1_y, q1_y_3)"
   ]
  },
  {
   "cell_type": "markdown",
   "metadata": {},
   "source": [
    "Cost Function vs Epoch for different learning parameter"
   ]
  },
  {
   "cell_type": "code",
   "execution_count": 31,
   "metadata": {},
   "outputs": [],
   "source": [
    "def costGraphh(alist):\n",
    "    len_ = len(alist)\n",
    "    xVal = [ele for ele in range(1, len_ + 1)]    \n",
    "    plt.plot(xVal, alist)\n",
    "    plt.xlabel('x-axis')\n",
    "    plt.ylabel('y-axis')\n",
    "    plt.title('Cost graph')\n",
    "    plt.show()"
   ]
  },
  {
   "cell_type": "code",
   "execution_count": 32,
   "metadata": {},
   "outputs": [
    {
     "data": {
      "image/png": "[encoded data removed]",
      "text/plain": [
       "<Figure size 432x288 with 1 Axes>"
      ]
     },
     "metadata": {
      "needs_background": "light"
     },
     "output_type": "display_data"
    }
   ],
   "source": [
    "costGraphh(costList1)"
   ]
  },
  {
   "cell_type": "code",
   "execution_count": 33,
   "metadata": {},
   "outputs": [
    {
     "data": {
      "image/png": "[encoded data removed]",
      "text/plain": [
       "<Figure size 432x288 with 1 Axes>"
      ]
     },
     "metadata": {
      "needs_background": "light"
     },
     "output_type": "display_data"
    }
   ],
   "source": [
    "costGraphh(costList2)"
   ]
  },
  {
   "cell_type": "code",
   "execution_count": 34,
   "metadata": {},
   "outputs": [
    {
     "data": {
      "image/png": "[encoded data removed]",
      "text/plain": [
       "<Figure size 432x288 with 1 Axes>"
      ]
     },
     "metadata": {
      "needs_background": "light"
     },
     "output_type": "display_data"
    }
   ],
   "source": [
    "costGraphh(costList3)"
   ]
  },
  {
   "cell_type": "code",
   "execution_count": 35,
   "metadata": {},
   "outputs": [],
   "source": [
    "def costFunc(theta1, theta2):\n",
    "    costArray = list()\n",
    "    len_ = len(theta1)\n",
    "    for rowIndex in range(len_):\n",
    "        intLen = len(theta1[rowIndex])\n",
    "        rowCost = []\n",
    "        for colIndex in range(intLen):\n",
    "            thetapara = np.array([theta1[rowIndex][colIndex], theta2[rowIndex][colIndex]])\n",
    "            cost = cost_function(q1_X, q1_y, thetapara)\n",
    "            rowCost.append(cost)\n",
    "        costArray.append(rowCost)\n",
    "    return costArray"
   ]
  },
  {
   "cell_type": "code",
   "execution_count": 36,
   "metadata": {},
   "outputs": [],
   "source": [
    "def plot3D(start, end, division, aFunc, thetaPara, costList):\n",
    "    the1 = [ele[0] for ele in thetaPara]\n",
    "    the2 = [ele[1] for ele in thetaPara]\n",
    "    theta1 = np.linspace(start, end, division)\n",
    "    theta2 = np.linspace(start, end, division)\n",
    "    THETA1, THETA2 = np.meshgrid(theta1, theta2)\n",
    "    Z = np.array(aFunc(THETA1, THETA2))\n",
    "    fig = plt.figure()\n",
    "    ax = plt.axes(projection = '3d')\n",
    "    ax.plot3D(the1[0], the2[0], costList[0], color = 'red')\n",
    "    ax.plot_wireframe(THETA1, THETA2, Z, color ='green')\n",
    "    ax.set_title('Cost Function per theta parameter')"
   ]
  },
  {
   "cell_type": "code",
   "execution_count": 37,
   "metadata": {},
   "outputs": [
    {
     "data": {
      "image/png": "[encoded data removed]",
      "text/plain": [
       "<Figure size 432x288 with 1 Axes>"
      ]
     },
     "metadata": {
      "needs_background": "light"
     },
     "output_type": "display_data"
    }
   ],
   "source": [
    "plot3D(-10, 10, 100, costFunc, thetaPara1, costList1)"
   ]
  },
  {
   "cell_type": "markdown",
   "metadata": {},
   "source": [
    "-------------------------------------------------------------------------------------------------------------------"
   ]
  },
  {
   "cell_type": "markdown",
   "metadata": {},
   "source": [
    "SAMPLING AND STOCHASTIC GRADIENT DESCENT\n",
    "\n",
    "In this problem, Introducing the idea of $sampling$ by adding Gaussian noise to the prediction of a\n",
    "hypothesis and generate synthetic training data. Consider a given hypothesis hθ (i.e. known θ0 , θ1 , θ2 )\n",
    "Adding Gaussian noise, equation becomes\n",
    "\n",
    "y = θ0 + θ1 x1 + θ2 x2 + e\n",
    "where e ∼ N (0, σ^2 )\n",
    "\n",
    "To gain deeper understanding behind $Stochastic$ $Gradient$ $Descent$ (SGD), will use the SGD algorithm\n",
    "to learn the original hypothesis from the data generated using sampling, for varying batch sizes. Will\n",
    "also implement the version where we make a complete pass through the data in a round robin fashion (after\n",
    "initially shuffling the examples). If there are r examples in each batch, then there is a total of m\n",
    "r batches assuming m training examples."
   ]
  },
  {
   "cell_type": "markdown",
   "metadata": {},
   "source": [
    "a) Sample 1 million data points taking values of θ = [θ1 θ2 θ3].T = [3 2 1].T, x1 ∼ N (3, 4) and x2 ∼ N (−1, 4) independently, and noise variance in y, σ^2 = 2."
   ]
  },
  {
   "cell_type": "code",
   "execution_count": 38,
   "metadata": {},
   "outputs": [],
   "source": [
    "mu1, sigma1= 3, 4\n",
    "mu2, sigma2= -1, 4\n",
    "randX0 = np.ones((1000000))\n",
    "randX1 = np.random.normal(mu1, sigma1, 1000000)\n",
    "randX2 = np.random.normal(mu2, sigma2, 1000000)"
   ]
  },
  {
   "cell_type": "code",
   "execution_count": 39,
   "metadata": {},
   "outputs": [
    {
     "data": {
      "text/html": [
       "<div>\n",
       "<style scoped>\n",
       "    .dataframe tbody tr th:only-of-type {\n",
       "        vertical-align: middle;\n",
       "    }\n",
       "\n",
       "    .dataframe tbody tr th {\n",
       "        vertical-align: top;\n",
       "    }\n",
       "\n",
       "    .dataframe thead th {\n",
       "        text-align: right;\n",
       "    }\n",
       "</style>\n",
       "<table border=\"1\" class=\"dataframe\">\n",
       "  <thead>\n",
       "    <tr style=\"text-align: right;\">\n",
       "      <th></th>\n",
       "      <th>X0</th>\n",
       "      <th>X1</th>\n",
       "      <th>X2</th>\n",
       "    </tr>\n",
       "  </thead>\n",
       "  <tbody>\n",
       "    <tr>\n",
       "      <th>0</th>\n",
       "      <td>1.0</td>\n",
       "      <td>1.745123</td>\n",
       "      <td>-2.041829</td>\n",
       "    </tr>\n",
       "    <tr>\n",
       "      <th>1</th>\n",
       "      <td>1.0</td>\n",
       "      <td>2.783413</td>\n",
       "      <td>0.190319</td>\n",
       "    </tr>\n",
       "    <tr>\n",
       "      <th>2</th>\n",
       "      <td>1.0</td>\n",
       "      <td>0.354295</td>\n",
       "      <td>-0.678172</td>\n",
       "    </tr>\n",
       "    <tr>\n",
       "      <th>3</th>\n",
       "      <td>1.0</td>\n",
       "      <td>6.523690</td>\n",
       "      <td>0.011608</td>\n",
       "    </tr>\n",
       "    <tr>\n",
       "      <th>4</th>\n",
       "      <td>1.0</td>\n",
       "      <td>0.427024</td>\n",
       "      <td>-3.968208</td>\n",
       "    </tr>\n",
       "    <tr>\n",
       "      <th>...</th>\n",
       "      <td>...</td>\n",
       "      <td>...</td>\n",
       "      <td>...</td>\n",
       "    </tr>\n",
       "    <tr>\n",
       "      <th>999995</th>\n",
       "      <td>1.0</td>\n",
       "      <td>2.187004</td>\n",
       "      <td>-1.751655</td>\n",
       "    </tr>\n",
       "    <tr>\n",
       "      <th>999996</th>\n",
       "      <td>1.0</td>\n",
       "      <td>2.397448</td>\n",
       "      <td>-5.107878</td>\n",
       "    </tr>\n",
       "    <tr>\n",
       "      <th>999997</th>\n",
       "      <td>1.0</td>\n",
       "      <td>1.584209</td>\n",
       "      <td>-3.668748</td>\n",
       "    </tr>\n",
       "    <tr>\n",
       "      <th>999998</th>\n",
       "      <td>1.0</td>\n",
       "      <td>3.410107</td>\n",
       "      <td>2.012617</td>\n",
       "    </tr>\n",
       "    <tr>\n",
       "      <th>999999</th>\n",
       "      <td>1.0</td>\n",
       "      <td>0.063791</td>\n",
       "      <td>-2.117770</td>\n",
       "    </tr>\n",
       "  </tbody>\n",
       "</table>\n",
       "<p>1000000 rows × 3 columns</p>\n",
       "</div>"
      ],
      "text/plain": [
       "         X0        X1        X2\n",
       "0       1.0  1.745123 -2.041829\n",
       "1       1.0  2.783413  0.190319\n",
       "2       1.0  0.354295 -0.678172\n",
       "3       1.0  6.523690  0.011608\n",
       "4       1.0  0.427024 -3.968208\n",
       "...     ...       ...       ...\n",
       "999995  1.0  2.187004 -1.751655\n",
       "999996  1.0  2.397448 -5.107878\n",
       "999997  1.0  1.584209 -3.668748\n",
       "999998  1.0  3.410107  2.012617\n",
       "999999  1.0  0.063791 -2.117770\n",
       "\n",
       "[1000000 rows x 3 columns]"
      ]
     },
     "execution_count": 39,
     "metadata": {},
     "output_type": "execute_result"
    }
   ],
   "source": [
    "randDataDF = pd.DataFrame({'X0': randX0, 'X1': randX1, 'X2': randX2})\n",
    "randDataDF"
   ]
  },
  {
   "cell_type": "code",
   "execution_count": 40,
   "metadata": {},
   "outputs": [
    {
     "data": {
      "text/plain": [
       "(array([[ 1.        ,  1.74512348, -2.04182934],\n",
       "        [ 1.        ,  2.78341292,  0.19031886],\n",
       "        [ 1.        ,  0.35429476, -0.67817238],\n",
       "        ...,\n",
       "        [ 1.        ,  1.58420895, -3.66874822],\n",
       "        [ 1.        ,  3.41010682,  2.01261749],\n",
       "        [ 1.        ,  0.06379099, -2.11776963]]),\n",
       " (1000000, 3))"
      ]
     },
     "execution_count": 40,
     "metadata": {},
     "output_type": "execute_result"
    }
   ],
   "source": [
    "randArr = randDataDF.to_numpy().reshape(1000000, 3)\n",
    "randArr, randArr.shape"
   ]
  },
  {
   "cell_type": "code",
   "execution_count": 41,
   "metadata": {},
   "outputs": [
    {
     "data": {
      "text/plain": [
       "array([[3],\n",
       "       [1],\n",
       "       [2]])"
      ]
     },
     "execution_count": 41,
     "metadata": {},
     "output_type": "execute_result"
    }
   ],
   "source": [
    "randTheta = np.array([[3],[1],[2]])\n",
    "randTheta"
   ]
  },
  {
   "cell_type": "code",
   "execution_count": 42,
   "metadata": {},
   "outputs": [
    {
     "data": {
      "text/plain": [
       "(array([[ 0.6614648 ],\n",
       "        [ 6.16405065],\n",
       "        [ 1.99795001],\n",
       "        ...,\n",
       "        [-2.7532875 ],\n",
       "        [10.4353418 ],\n",
       "        [-1.17174828]]),\n",
       " (1000000, 1))"
      ]
     },
     "execution_count": 42,
     "metadata": {},
     "output_type": "execute_result"
    }
   ],
   "source": [
    "randY = randArr@randTheta\n",
    "randY, randY.shape"
   ]
  },
  {
   "cell_type": "markdown",
   "metadata": {},
   "source": [
    "b) Implementing $Stochastic$ $gradient$ $descent$ method for optimizing J(θ). Relearning θ = [θ0, θ1, θ2] using sampled data points of keeping everything same except the batch size. Keep η = 0.001 and initialize ∀j θ j = 0. \n",
    "\n",
    "Different theta values are reported"
   ]
  },
  {
   "cell_type": "code",
   "execution_count": 57,
   "metadata": {},
   "outputs": [],
   "source": [
    "def stochasticGradientDescent(X, Y, learningRate, batch_size, convergence, k):\n",
    "    theta = np.array([[0.0], [0.0], [0.0]])\n",
    "    thetaList = []\n",
    "    cost_list = []\n",
    "    m = Y.shape[0]\n",
    "    numBatch = m//batch_size\n",
    "    costDiff = 1\n",
    "    iter = 0\n",
    "    print(\"Log :\")\n",
    "    while(True):\n",
    "        for batch_no in range(numBatch):\n",
    "            start = batch_no*batch_size\n",
    "            end = (batch_no + 1)*batch_size\n",
    "            theta = updateParameter(X[start: end], Y[start: end], learningRate, theta)\n",
    "            thetaList.append(theta)\n",
    "            cost_ = cost_function(X, Y, theta)\n",
    "            cost_list.append(cost_)\n",
    "            if (iter%k==0 and iter>k):\n",
    "                lastkAvg = np.sum(cost_list[-k:])/k\n",
    "                beforekAvg = np.sum(cost_list[-2*k : -k])/k\n",
    "                costDiff = beforekAvg - lastkAvg\n",
    "                print(costDiff)\n",
    "            iter = iter + 1\n",
    "            if costDiff < convergence:\n",
    "                return thetaList[:-k], cost_list[:-k]"
   ]
  },
  {
   "cell_type": "markdown",
   "metadata": {},
   "source": [
    "SGD for batch size = 1"
   ]
  },
  {
   "cell_type": "code",
   "execution_count": 58,
   "metadata": {},
   "outputs": [
    {
     "name": "stdout",
     "output_type": "stream",
     "text": [
      "Log :\n",
      "10.88459010026226\n",
      "0.7256653096421377\n",
      "0.2157621552764597\n",
      "0.18089961156297685\n",
      "0.22284911624818227\n",
      "0.16477052344761822\n",
      "0.1363043782375637\n",
      "0.09782008978918044\n",
      "0.10786502061790526\n",
      "0.08592457945663023\n",
      "0.08788935707723622\n",
      "0.08474865038294932\n",
      "0.06696762554483082\n",
      "0.05844172810023446\n",
      "0.04856752823624488\n",
      "0.042489867854358876\n",
      "0.05619994789182353\n",
      "0.03539999905504981\n",
      "0.027912743076869972\n",
      "0.03129605344403552\n",
      "0.02619226157619592\n",
      "0.021884188381833924\n",
      "0.01597876492644995\n",
      "0.019691541871085794\n",
      "0.01864334679376972\n",
      "0.011869978296468686\n",
      "0.009569949036284053\n",
      "0.008264665964275775\n",
      "0.012833088111979293\n",
      "0.009299268924747653\n",
      "0.00823480819612641\n",
      "0.00793382316254531\n",
      "0.005266235292077731\n",
      "0.0049447478504948406\n",
      "0.004289355910854234\n",
      "0.004964808603322407\n",
      "0.003910665589773751\n",
      "0.0027923363534497307\n",
      "0.0029052932269218457\n",
      "0.0028722536893332658\n",
      "0.0019806484508348154\n",
      "0.0019787912614342203\n",
      "0.0016977305854172838\n",
      "0.0015917501568341874\n",
      "0.0010918673830972812\n",
      "0.0010807831931918376\n",
      "0.00112365566220104\n",
      "0.0011027422578895078\n",
      "0.0008686362773630222\n",
      "0.0005271603985188087\n",
      "0.0008140696553659808\n",
      "0.0006328631567882274\n",
      "0.0005316409754504148\n",
      "0.0005394982699496926\n",
      "0.0003630370724471226\n",
      "0.00028083065252415464\n",
      "0.0003494442245864796\n",
      "0.0003444396303635519\n",
      "0.00021986067135744782\n",
      "0.00020810649700499012\n",
      "0.00016739809927210315\n",
      "0.00019553199544323184\n",
      "0.0001634623804420293\n",
      "0.00014146613751450177\n",
      "0.00012241109242890004\n",
      "9.776497391294483e-05\n"
     ]
    }
   ],
   "source": [
    "sgdtheta1, sgdcost1 = stochasticGradientDescent(randArr, randY, 0.001, 1, 0.0001, 100)"
   ]
  },
  {
   "cell_type": "code",
   "execution_count": 59,
   "metadata": {},
   "outputs": [
    {
     "data": {
      "text/plain": [
       "(0.0008811601184251451,\n",
       " array([[2.94655604],\n",
       "        [1.00653956],\n",
       "        [1.99820168]]))"
      ]
     },
     "execution_count": 59,
     "metadata": {},
     "output_type": "execute_result"
    }
   ],
   "source": [
    "sgdcost1[-1], sgdtheta1[-1]"
   ]
  },
  {
   "cell_type": "markdown",
   "metadata": {},
   "source": [
    "For batch size = 1, It takes 3 minutes 8.6 seconds to get the theta value [2.9465, 1.0065, 1.9982] compared to original [3, 1, 2] "
   ]
  },
  {
   "cell_type": "code",
   "execution_count": 60,
   "metadata": {},
   "outputs": [],
   "source": [
    "sgdPredY1 = predicted_y(randArr, sgdtheta1[-1])"
   ]
  },
  {
   "cell_type": "code",
   "execution_count": 78,
   "metadata": {},
   "outputs": [
    {
     "data": {
      "image/png": "[encoded data removed]",
      "text/plain": [
       "<Figure size 432x288 with 1 Axes>"
      ]
     },
     "metadata": {
      "needs_background": "light"
     },
     "output_type": "display_data"
    }
   ],
   "source": [
    "costGraphh(sgdcost1)"
   ]
  },
  {
   "cell_type": "markdown",
   "metadata": {},
   "source": [
    "SGD for batch size = 100"
   ]
  },
  {
   "cell_type": "code",
   "execution_count": 61,
   "metadata": {},
   "outputs": [
    {
     "name": "stdout",
     "output_type": "stream",
     "text": [
      "Log :\n",
      "11.781654972262803\n",
      "0.6892291048885999\n",
      "0.23941920495457225\n",
      "0.19502743094844233\n",
      "0.1721294960765687\n",
      "0.15398562653676184\n",
      "0.13607778267969106\n",
      "0.12277232399368143\n",
      "0.1075852407641279\n",
      "0.09451931834519178\n",
      "0.08333669637182717\n",
      "0.07366275604116579\n",
      "0.06537850487417285\n",
      "0.05796269003137389\n",
      "0.050549648883469356\n",
      "0.04500878292126964\n",
      "0.03985333837723559\n",
      "0.035477030980676894\n",
      "0.031698370899511163\n",
      "0.027914605392973718\n",
      "0.02471712222760461\n",
      "0.02192658713611248\n",
      "0.019555638066474784\n",
      "0.01710038363520644\n",
      "0.015201217800910938\n",
      "0.013413005778848297\n",
      "0.011916863669702377\n",
      "0.010499943364787157\n",
      "0.009291160904866397\n",
      "0.00826613307943086\n",
      "0.007287616604634672\n",
      "0.006378895440515724\n",
      "0.0057382892271449215\n",
      "0.0051722217146509195\n",
      "0.004632823198354549\n",
      "0.0041002704741619\n",
      "0.003600524593387819\n",
      "0.003157020347290436\n",
      "0.0028016419381173135\n",
      "0.002464139951580218\n",
      "0.0021703440226177144\n",
      "0.0019319816502894518\n",
      "0.0017386994206689543\n",
      "0.0015283725643298017\n",
      "0.0013485130303797725\n",
      "0.0011960414575510926\n",
      "0.0010561983193149802\n",
      "0.0009231660690045057\n",
      "0.0008182598307458289\n",
      "0.0007330637501133004\n",
      "0.0006578387159110717\n",
      "0.0005685751364874446\n",
      "0.0005114770326937763\n",
      "0.0004508510800553924\n",
      "0.0003972955386604953\n",
      "0.00035236978830051726\n",
      "0.00030876783926433223\n",
      "0.00028113710315497316\n",
      "0.00024378896283003076\n",
      "0.00021938252319614391\n",
      "0.00019597506740610731\n",
      "0.000174000491959717\n",
      "0.00015126429667407758\n",
      "0.00013383279700917303\n",
      "0.00011912320093234027\n",
      "0.00010621370600549633\n",
      "9.468771478699661e-05\n"
     ]
    }
   ],
   "source": [
    "sgdtheta100, sgdcost100 = stochasticGradientDescent(randArr, randY, 0.001, 100, 0.0001, 100)"
   ]
  },
  {
   "cell_type": "code",
   "execution_count": 62,
   "metadata": {},
   "outputs": [
    {
     "data": {
      "text/plain": [
       "(0.0007792684338241239,\n",
       " array([[2.94969018],\n",
       "        [1.00591774],\n",
       "        [1.99795485]]))"
      ]
     },
     "execution_count": 62,
     "metadata": {},
     "output_type": "execute_result"
    }
   ],
   "source": [
    "sgdcost100[-1], sgdtheta100[-1]"
   ]
  },
  {
   "cell_type": "markdown",
   "metadata": {},
   "source": [
    "For batch size = 100, It takes 2 minutes 10.4 seconds to get the theta value [2.9496, 1.0059, 1.9979] compared to original [3, 1, 2] "
   ]
  },
  {
   "cell_type": "code",
   "execution_count": 63,
   "metadata": {},
   "outputs": [],
   "source": [
    "sgdPredY100 = predicted_y(randArr, sgdtheta100[-1])"
   ]
  },
  {
   "cell_type": "code",
   "execution_count": 79,
   "metadata": {},
   "outputs": [
    {
     "data": {
      "image/png": "[encoded data removed]",
      "text/plain": [
       "<Figure size 432x288 with 1 Axes>"
      ]
     },
     "metadata": {
      "needs_background": "light"
     },
     "output_type": "display_data"
    }
   ],
   "source": [
    "costGraphh(sgdcost100)"
   ]
  },
  {
   "cell_type": "markdown",
   "metadata": {},
   "source": [
    "SGD for batch size = 10000"
   ]
  },
  {
   "cell_type": "code",
   "execution_count": 64,
   "metadata": {},
   "outputs": [
    {
     "name": "stdout",
     "output_type": "stream",
     "text": [
      "Log :\n",
      "6.942929583974671\n",
      "0.4424141995601869\n",
      "0.222355511529726\n",
      "0.19310233751170003\n",
      "0.16968512365266997\n",
      "0.150208749053929\n",
      "0.13434399589658086\n",
      "0.1183492050035092\n",
      "0.10496245876245991\n",
      "0.0929109964410858\n",
      "0.08239716382071705\n",
      "0.07265729411360133\n",
      "0.06418398657211288\n",
      "0.05716602778568047\n",
      "0.05027678487486803\n",
      "0.044507306683741976\n",
      "0.039805842252800816\n",
      "0.03506667370795802\n",
      "0.031100204465006\n",
      "0.027529374518442146\n",
      "0.024414143155234602\n",
      "0.021528235909722526\n",
      "0.019017608933978997\n",
      "0.01693819936689142\n",
      "0.014896928100876075\n",
      "0.013187441267006994\n",
      "0.011794405141658346\n",
      "0.010390197349810448\n",
      "0.009214939081534215\n",
      "0.008156908081605255\n",
      "0.007233870187460745\n",
      "0.0063787806496323415\n",
      "0.00563488603427794\n",
      "0.0050187604230193875\n",
      "0.004413935127212068\n",
      "0.003907417009219781\n",
      "0.003494662712124841\n",
      "0.003078598268746263\n",
      "0.0027303711900651187\n",
      "0.0024168783568688235\n",
      "0.0021433837573698877\n",
      "0.0018900221433260402\n",
      "0.0016696074006744034\n",
      "0.0014870504023526722\n",
      "0.0013078416687860774\n",
      "0.0011577611892109683\n",
      "0.001035462774496343\n",
      "0.0009121835689194354\n",
      "0.0008090044621647868\n",
      "0.0007161170548278546\n",
      "0.0006350810578991057\n",
      "0.000560010431220768\n",
      "0.0004947019079763405\n",
      "0.00044061057168518413\n",
      "0.000387511320696224\n",
      "0.00034304272312897423\n",
      "0.0003068059053732649\n",
      "0.0002702784809092626\n",
      "0.00023970668244081405\n",
      "0.0002121842974669762\n",
      "0.00018817346577128442\n",
      "0.0001659301634022723\n",
      "0.00014657935611489667\n",
      "0.00013055218274618747\n",
      "0.00011481896260965413\n",
      "0.0001016429907897973\n",
      "9.090608169637045e-05\n"
     ]
    }
   ],
   "source": [
    "sgdtheta10000, sgdcost10000 = stochasticGradientDescent(randArr, randY, 0.01, 10000, 0.0001, 10)"
   ]
  },
  {
   "cell_type": "code",
   "execution_count": 65,
   "metadata": {},
   "outputs": [
    {
     "data": {
      "text/plain": [
       "(0.000747458116773515,\n",
       " array([[2.9507224 ],\n",
       "        [1.00578302],\n",
       "        [1.9980835 ]]))"
      ]
     },
     "execution_count": 65,
     "metadata": {},
     "output_type": "execute_result"
    }
   ],
   "source": [
    "sgdcost10000[-1], sgdtheta10000[-1]"
   ]
  },
  {
   "cell_type": "markdown",
   "metadata": {},
   "source": [
    "For batch size = 10000, It takes 13.4 seconds to get the theta value [2.9507, 1.0057, 1.9981] compared to original [3, 1, 2] "
   ]
  },
  {
   "cell_type": "code",
   "execution_count": 66,
   "metadata": {},
   "outputs": [],
   "source": [
    "sgdPredY10000 = predicted_y(randArr, sgdtheta10000[-1])"
   ]
  },
  {
   "cell_type": "code",
   "execution_count": 80,
   "metadata": {},
   "outputs": [
    {
     "data": {
      "image/png": "[encoded data removed]",
      "text/plain": [
       "<Figure size 432x288 with 1 Axes>"
      ]
     },
     "metadata": {
      "needs_background": "light"
     },
     "output_type": "display_data"
    }
   ],
   "source": [
    "costGraphh(sgdcost10000)"
   ]
  },
  {
   "cell_type": "markdown",
   "metadata": {},
   "source": [
    "SGD for batch size = 1000000"
   ]
  },
  {
   "cell_type": "code",
   "execution_count": 67,
   "metadata": {},
   "outputs": [
    {
     "name": "stdout",
     "output_type": "stream",
     "text": [
      "Log :\n",
      "6.614830849531092\n",
      "4.536289982279156\n",
      "3.1335218722073925\n",
      "2.1782830216485776\n",
      "1.5229603624902\n",
      "1.0706677917162883\n",
      "0.756977233459307\n",
      "0.5385588615849533\n",
      "0.38599349928460924\n",
      "0.2791488391521417\n",
      "0.2041591715532829\n",
      "0.15142539406181754\n",
      "0.11427480329530537\n",
      "0.08805389534581165\n",
      "0.06950908793185429\n",
      "0.05636106497925075\n",
      "0.04701057514886475\n",
      "0.04033418333642169\n",
      "0.035541972949277856\n",
      "0.032078134737142605\n",
      "0.029551366910925747\n",
      "0.027686065012929806\n",
      "0.026288047039847884\n",
      "0.02522046114119214\n",
      "0.02438683765880345\n",
      "0.02371915979720196\n",
      "0.02316946294676181\n",
      "0.022703916805732582\n",
      "0.022298655384068722\n",
      "0.021936838028485228\n",
      "0.021606577728189746\n",
      "0.02129948059035769\n",
      "0.021009616086958616\n",
      "0.020732790967182613\n",
      "0.020466037258215053\n",
      "0.020207251214193533\n",
      "0.01995493870198639\n",
      "0.019708035641500254\n",
      "0.019465781373365854\n",
      "0.019227629351242337\n",
      "0.018993184156232967\n",
      "0.01876215707461526\n",
      "0.018534334767162042\n",
      "0.01830955717137317\n",
      "0.018087701915273646\n",
      "0.017868673323572892\n",
      "0.017652394662669435\n",
      "0.017438802669911935\n",
      "0.017227843693903733\n",
      "0.017019470971016526\n",
      "0.016813642703288334\n",
      "0.016610320701503145\n",
      "0.016409469426906353\n",
      "0.016211055314070855\n",
      "0.01601504629209871\n",
      "0.015821411445658295\n",
      "0.01563012077472914\n",
      "0.015441145023925351\n",
      "0.015254455560930413\n",
      "0.015070024289563166\n",
      "0.014887823587330207\n",
      "0.014707826260180967\n",
      "0.014530005509497013\n",
      "0.014354334907666688\n",
      "0.014180788379733356\n",
      "0.01400934018937372\n",
      "0.013839964927918613\n",
      "0.013672637505507623\n",
      "0.013507333143833566\n",
      "0.01334402736994833\n",
      "0.013182696010854755\n",
      "0.013023315188702256\n",
      "0.012865861316341931\n",
      "0.012710311093237836\n",
      "0.012556641501568988\n",
      "0.012404829802515227\n",
      "0.012254853532668974\n",
      "0.012106690500571782\n",
      "0.011960318783303503\n",
      "0.011815716723179048\n",
      "0.011672862924480665\n",
      "0.011531736250250502\n",
      "0.01139231581914868\n",
      "0.011254581002332675\n",
      "0.011118511420399768\n",
      "0.010984086940353577\n",
      "0.010851287672631438\n",
      "0.010720093968143218\n",
      "0.010590486415370637\n",
      "0.010462445837486567\n",
      "0.010335953289519528\n",
      "0.010210990055545932\n",
      "0.01008753764592829\n",
      "0.009965577794567193\n",
      "0.009845092456205573\n",
      "0.009726063803756624\n",
      "0.009608474225670793\n",
      "0.009492306323314992\n",
      "0.009377542908421077\n",
      "0.009264167000518686\n",
      "0.00915216182444134\n",
      "0.009041510807834108\n",
      "0.008932197578703449\n",
      "0.008824205962998377\n",
      "0.008717519982211375\n",
      "0.008612123851021725\n",
      "0.008508001974950274\n",
      "0.008405138948064494\n",
      "0.008303519550683869\n",
      "0.008203128747142019\n",
      "0.008103951683554933\n",
      "0.00800597368562228\n",
      "0.007909180256459036\n",
      "0.007813557074452082\n",
      "0.0077190899911340205\n",
      "0.0076257650291009504\n",
      "0.0075335683799298\n",
      "0.007442486402151949\n",
      "0.0073525056192214056\n",
      "0.0072636127175237375\n",
      "0.007175794544413749\n",
      "0.00708903810625916\n",
      "0.0070033305665254675\n",
      "0.00691865924387236\n",
      "0.006835011610275665\n",
      "0.0067523752891877065\n",
      "0.006670738053679237\n",
      "0.006590087824661861\n",
      "0.006510412669072707\n",
      "0.0064317007981326\n",
      "0.0063539405655793635\n",
      "0.006277120465966068\n",
      "0.006201229132939967\n",
      "0.0061262553375759365\n",
      "0.006052187986702373\n",
      "0.0059790161212712745\n",
      "0.005906728914727877\n",
      "0.005835315671412267\n",
      "0.0057647658249763145\n",
      "0.005695068936824255\n",
      "0.005626214694559706\n",
      "0.005558192910467552\n",
      "0.0054909935200019855\n",
      "0.005424606580301916\n",
      "0.0053590222687136535\n",
      "0.005294230881342343\n",
      "0.005230222831615172\n",
      "0.0051669886488613925\n",
      "0.005104518976912553\n",
      "0.005042804572719217\n",
      "0.004981836304978116\n",
      "0.004921605152788333\n",
      "0.004862102204311269\n",
      "0.004803318655454192\n",
      "0.004745245808568388\n",
      "0.004687875071157366\n",
      "0.00463119795461403\n",
      "0.004575206072957194\n",
      "0.004519891141592125\n",
      "0.004465244976088856\n",
      "0.00441125949096749\n",
      "0.00435792669850249\n",
      "0.004305238707540349\n",
      "0.004253187722334795\n",
      "0.00420176604139022\n",
      "0.004150966056321259\n",
      "0.004100780250733738\n",
      "0.004051201199103127\n",
      "0.0040022215656834725\n",
      "0.00395383410341793\n",
      "0.003906031652868125\n",
      "0.0038588071411541636\n",
      "0.003812153580908084\n",
      "0.003766064069240793\n",
      "0.003720531786719772\n",
      "0.003675549996361105\n",
      "0.003631112042630502\n",
      "0.0035872113504628045\n",
      "0.003543841424282601\n",
      "0.00350099584705027\n",
      "0.0034586682793084633\n",
      "0.003416852458243025\n",
      "0.003375542196760728\n",
      "0.0033347313825685676\n",
      "0.0032944139772751457\n",
      "0.003254584015490558\n",
      "0.0032152356039512053\n",
      "0.0031763629206406074\n",
      "0.003137960213933366\n",
      "0.0031000218017414594\n",
      "0.003062542070674412\n",
      "0.003025515475207574\n",
      "0.00298893653686344\n",
      "0.002952799843399967\n",
      "0.002917100048010157\n",
      "0.0028818318685298605\n",
      "0.002846990086658119\n",
      "0.0028125695471832857\n",
      "0.0027785651572211634\n",
      "0.002744971885462466\n",
      "0.0027117847614239465\n",
      "0.0026789988747206173\n",
      "0.0026466093743311436\n",
      "0.002614611467885858\n",
      "0.0025830004209548285\n",
      "0.002551771556347976\n",
      "0.002520920253424014\n",
      "0.0024904419474040818\n",
      "0.0024603321287008373\n",
      "0.002430586342245772\n",
      "0.00240120018683479\n",
      "0.002372169314474093\n",
      "0.002343489429738138\n",
      "0.002315156289133563\n",
      "0.0022871657004714385\n",
      "0.0022595135222478746\n",
      "0.0022321956630281525\n",
      "0.0022052080808461216\n",
      "0.0021785467826029026\n",
      "0.0021522078234756103\n",
      "0.002126187306335986\n",
      "0.002100481381172581\n",
      "0.0020750862445208795\n",
      "0.002049998138901138\n",
      "0.0020252133522610516\n",
      "0.002000728217429415\n",
      "0.0019765391115703357\n",
      "0.0019526424556485789\n",
      "0.0019290347139005737\n",
      "0.0019057123933103881\n",
      "0.0018826720430932253\n",
      "0.0018599102541846935\n",
      "0.0018374236587364867\n",
      "0.0018152089296183949\n",
      "0.0017932627799250311\n",
      "0.001771581962491331\n",
      "0.0017501632694092162\n",
      "0.0017290035315570274\n",
      "0.0017080996181261798\n",
      "0.0016874484361611986\n",
      "0.0016670469301000301\n",
      "0.0016468920813239585\n",
      "0.0016269809077088804\n",
      "0.0016073104631853519\n",
      "0.0015878778373025204\n",
      "0.0015686801547969698\n",
      "0.0015497145751678654\n",
      "0.0015309782922567627\n",
      "0.0015124685338311489\n",
      "0.0014941825611764215\n",
      "0.0014761176686885619\n",
      "0.001458271183474899\n",
      "0.0014406404649591337\n",
      "0.0014232229044886108\n",
      "0.0014060159249508625\n",
      "0.0013890169803905117\n",
      "0.0013722235556332674\n",
      "0.0013556331659140552\n",
      "0.0013392433565081602\n",
      "0.0013230517023696403\n",
      "0.0013070558077714345\n",
      "0.001291253305950757\n",
      "0.001275641858760404\n",
      "0.0012602191563207965\n",
      "0.0012449829166794185\n",
      "0.0012299308854729907\n",
      "0.0012150608355935844\n",
      "0.0012003705668596626\n",
      "0.0011858579056899243\n",
      "0.00117152070478245\n",
      "0.001157356842795887\n",
      "0.0011433642240367137\n",
      "0.0011295407781484468\n",
      "0.0011158844598053719\n",
      "0.0011023932484105076\n",
      "0.0010890651477961505\n",
      "0.001075898185927654\n",
      "0.001062890414614201\n",
      "0.0010500399092170654\n",
      "0.0010373447683684062\n",
      "0.0010248031136868424\n",
      "0.0010124130895016875\n",
      "0.0010001728625772949\n",
      "0.0009880806218424687\n",
      "0.0009761345781213598\n",
      "0.0009643329638705234\n",
      "0.0009526740329156291\n",
      "0.0009411560601940983\n",
      "0.0009297773414996824\n",
      "0.0009185361932301517\n",
      "0.0009074309521384522\n",
      "0.0008964599750862501\n",
      "0.0008856216388009597\n",
      "0.0008749143396357961\n",
      "0.0008643364933321324\n",
      "0.0008538865347856306\n",
      "0.0008435629178136228\n",
      "0.0008333641149277649\n",
      "0.0008232886171065518\n",
      "0.0008133349335735923\n",
      "0.0008035015915755922\n",
      "0.0007937871361650695\n",
      "0.0007841901299854154\n",
      "0.0007747091530578148\n",
      "0.0007653428025708314\n",
      "0.0007560896926739682\n",
      "0.0007469484542708335\n",
      "0.0007379177348187035\n",
      "0.0007289961981265247\n",
      "0.0007201825241581541\n",
      "0.0007114754088373559\n",
      "0.0007028735638537134\n",
      "0.0006943757164732181\n",
      "0.0006859806093489004\n",
      "0.0006776870003358249\n",
      "0.0006694936623063905\n",
      "0.0006613993829691772\n",
      "0.0006534029646898393\n",
      "0.0006455032243133721\n",
      "0.0006376989929892662\n",
      "0.0006299891159989024\n",
      "0.000622372452583779\n",
      "0.0006148478757780976\n",
      "0.0006074142722406403\n",
      "0.0006000705420909358\n",
      "0.0005928155987462921\n",
      "0.000585648368760669\n",
      "0.0005785677916662832\n",
      "0.0005715728198168249\n",
      "0.0005646624182318455\n",
      "0.0005578355644441924\n",
      "0.0005510912483482691\n",
      "0.0005444284720509743\n",
      "0.000537846249723889\n",
      "0.0005313436074573172\n",
      "0.0005249195831164011\n",
      "0.0005185732261983877\n",
      "0.000512303597692651\n",
      "0.0005061097699410252\n",
      "0.0004999908265008804\n",
      "0.0004939458620096884\n",
      "0.00048797398205082526\n",
      "0.00048207430302114884\n",
      "0.00047624595200070063\n",
      "0.0004704880666229899\n",
      "0.0004647997949477137\n",
      "0.00045918029533476706\n",
      "0.00045362873631969725\n",
      "0.00044814429649020493\n",
      "0.0004427261643653174\n",
      "0.0004373735382748947\n",
      "0.0004320856262410924\n",
      "0.000426861645861136\n",
      "0.0004217008241917744\n",
      "0.0004166023976346911\n",
      "0.00041156561182349727\n",
      "0.000406589721512321\n",
      "0.0004016739904653954\n",
      "0.00039681769134804895\n",
      "0.00039202010561945055\n",
      "0.00038728052342568847\n",
      "0.0003825982434954439\n",
      "0.0003779725730357099\n",
      "0.000373402827629217\n",
      "0.000368888331133934\n",
      "0.00036442841558204445\n",
      "0.0003600224210817578\n",
      "0.00035566969571934615\n",
      "0.0003513695954630164\n",
      "0.00034712148406717755\n",
      "0.0003429247329787867\n",
      "0.00033877872124390626\n",
      "0.00033468283541614186\n",
      "0.0003306364694656144\n",
      "0.00032663902468976075\n",
      "0.0003226899096239015\n",
      "0.00031878853995483125\n",
      "0.0003149343384333918\n",
      "0.0003111267347894707\n",
      "0.000307365165647909\n",
      "0.00030364907444443284\n",
      "0.00029997791134398627\n",
      "0.00029635113315903613\n",
      "0.00029276820326940706\n",
      "0.00028922859154225863\n",
      "0.0002857317742547237\n",
      "0.0002822772340155544\n",
      "0.0002788644596887699\n",
      "0.00027549294631833837\n",
      "0.0002721621950529281\n",
      "0.000268871713072584\n",
      "0.0002656210135155365\n",
      "0.00026240961540643926\n",
      "0.0002592370435847112\n",
      "0.0002561028286347279\n",
      "0.0002530065068160857\n",
      "0.0002499476199953124\n",
      "0.0002469257155773008\n",
      "0.00024394034643950013\n",
      "0.00024099107086473712\n",
      "0.00023807745247649004\n",
      "0.0002351990601738435\n",
      "0.00023235546806830293\n",
      "0.00022954625542001908\n",
      "0.00022677100657638935\n",
      "0.0002240293109097187\n",
      "0.00022132076275712537\n",
      "0.0002186449613601274\n",
      "0.0002160015108055649\n",
      "0.0002133900199668172\n",
      "0.00021081010244611287\n",
      "0.00020826137651729082\n",
      "0.00020574346506931768\n",
      "0.00020325599555044357\n",
      "0.00020079859991320795\n",
      "0.00019837091455972983\n",
      "0.00019597258028832346\n",
      "0.00019360324223990227\n",
      "0.0001912625498457568\n",
      "0.00018895015677569335\n",
      "0.0001866657208865214\n",
      "0.00018440890417170674\n",
      "0.00018217937271133681\n",
      "0.00017997679662260825\n",
      "0.0001778008500108539\n",
      "0.00017565121092182057\n",
      "0.0001735275612934923\n",
      "0.00017142958690940374\n",
      "0.00016935697735204723\n",
      "0.0001673094259567673\n",
      "0.00016528662976662313\n",
      "0.0001632882894874576\n",
      "0.00016131410944362871\n",
      "0.00015936379753428258\n",
      "0.00015743706518996266\n",
      "0.00015553362733025135\n",
      "0.00015365320232127964\n",
      "0.00015179551193428287\n",
      "0.00014996028130416852\n",
      "0.00014814723888911287\n",
      "0.0001463561164303101\n",
      "0.0001445866489120911\n",
      "0.0001428385745230864\n",
      "0.00014111163461696594\n",
      "0.00013940557367474876\n",
      "0.00013772013926664772\n",
      "0.00013605508201467234\n",
      "0.00013441015555592205\n",
      "0.0001327851165061726\n",
      "0.00013117972442358225\n",
      "0.00012959374177334837\n",
      "0.00012802693389250483\n",
      "0.0001264790689552795\n",
      "0.00012494991793849525\n",
      "0.00012343925458814173\n",
      "0.0001219468553854651\n",
      "0.00012047249951421639\n",
      "0.00011901596882783229\n",
      "0.0001175770478170756\n",
      "0.0001161555235782534\n",
      "0.00011475118578189829\n",
      "0.0001133638266413179\n",
      "0.00011199324088192499\n",
      "0.00011063922571100983\n",
      "0.00010930158078775211\n",
      "0.00010798010819332987\n",
      "0.00010667461240179352\n",
      "0.00010538490025128674\n",
      "0.00010411078091518249\n",
      "0.00010285206587398732\n",
      "0.00010160856888744019\n",
      "0.00010038010596698232\n",
      "9.916649534849262e-05\n"
     ]
    }
   ],
   "source": [
    "sgdtheta1000000, sgdcost1000000 = stochasticGradientDescent(randArr, randY, 0.01, 1000000, 0.0001, 1)"
   ]
  },
  {
   "cell_type": "code",
   "execution_count": 68,
   "metadata": {},
   "outputs": [
    {
     "data": {
      "text/plain": [
       "(0.008202254627433238,\n",
       " array([[2.83677281],\n",
       "        [1.01923822],\n",
       "        [1.99355924]]))"
      ]
     },
     "execution_count": 68,
     "metadata": {},
     "output_type": "execute_result"
    }
   ],
   "source": [
    "sgdcost1000000[-1], sgdtheta1000000[-1]"
   ]
  },
  {
   "cell_type": "markdown",
   "metadata": {},
   "source": [
    "For batch size = 1000000, It takes 21.5 seconds to get the theta value [2.8368, 1.0192, 1.9935] compared to original [3, 1, 2] "
   ]
  },
  {
   "cell_type": "code",
   "execution_count": 69,
   "metadata": {},
   "outputs": [],
   "source": [
    "sgdPredY1000000 = predicted_y(randArr, sgdtheta1[-1])"
   ]
  },
  {
   "cell_type": "code",
   "execution_count": 81,
   "metadata": {},
   "outputs": [
    {
     "data": {
      "image/png": "[encoded data removed]",
      "text/plain": [
       "<Figure size 432x288 with 1 Axes>"
      ]
     },
     "metadata": {
      "needs_background": "light"
     },
     "output_type": "display_data"
    }
   ],
   "source": [
    "costGraphh(sgdcost1000000)"
   ]
  },
  {
   "cell_type": "markdown",
   "metadata": {},
   "source": [
    "As per the result, batch size of 10000 compared to total training data 1000000 show better result\n",
    "\n",
    "\n"
   ]
  },
  {
   "cell_type": "markdown",
   "metadata": {},
   "source": [
    "Using test data to check how the model performed for unknowned data"
   ]
  },
  {
   "cell_type": "code",
   "execution_count": 70,
   "metadata": {},
   "outputs": [],
   "source": [
    "data_df = pd.read_csv('./data/q2/q2test.csv', header=0)"
   ]
  },
  {
   "cell_type": "code",
   "execution_count": 71,
   "metadata": {},
   "outputs": [
    {
     "data": {
      "text/html": [
       "<div>\n",
       "<style scoped>\n",
       "    .dataframe tbody tr th:only-of-type {\n",
       "        vertical-align: middle;\n",
       "    }\n",
       "\n",
       "    .dataframe tbody tr th {\n",
       "        vertical-align: top;\n",
       "    }\n",
       "\n",
       "    .dataframe thead th {\n",
       "        text-align: right;\n",
       "    }\n",
       "</style>\n",
       "<table border=\"1\" class=\"dataframe\">\n",
       "  <thead>\n",
       "    <tr style=\"text-align: right;\">\n",
       "      <th></th>\n",
       "      <th>X_1</th>\n",
       "      <th>X_2</th>\n",
       "      <th>Y</th>\n",
       "    </tr>\n",
       "  </thead>\n",
       "  <tbody>\n",
       "    <tr>\n",
       "      <th>0</th>\n",
       "      <td>16.678</td>\n",
       "      <td>13.018</td>\n",
       "      <td>45.537</td>\n",
       "    </tr>\n",
       "    <tr>\n",
       "      <th>1</th>\n",
       "      <td>6.583</td>\n",
       "      <td>-5.539</td>\n",
       "      <td>-1.170</td>\n",
       "    </tr>\n",
       "    <tr>\n",
       "      <th>2</th>\n",
       "      <td>-19.837</td>\n",
       "      <td>6.089</td>\n",
       "      <td>-3.646</td>\n",
       "    </tr>\n",
       "    <tr>\n",
       "      <th>3</th>\n",
       "      <td>-8.412</td>\n",
       "      <td>6.110</td>\n",
       "      <td>8.137</td>\n",
       "    </tr>\n",
       "    <tr>\n",
       "      <th>4</th>\n",
       "      <td>1.052</td>\n",
       "      <td>11.595</td>\n",
       "      <td>25.781</td>\n",
       "    </tr>\n",
       "    <tr>\n",
       "      <th>...</th>\n",
       "      <td>...</td>\n",
       "      <td>...</td>\n",
       "      <td>...</td>\n",
       "    </tr>\n",
       "    <tr>\n",
       "      <th>9995</th>\n",
       "      <td>-1.476</td>\n",
       "      <td>16.595</td>\n",
       "      <td>31.906</td>\n",
       "    </tr>\n",
       "    <tr>\n",
       "      <th>9996</th>\n",
       "      <td>0.203</td>\n",
       "      <td>26.920</td>\n",
       "      <td>58.418</td>\n",
       "    </tr>\n",
       "    <tr>\n",
       "      <th>9997</th>\n",
       "      <td>6.381</td>\n",
       "      <td>2.484</td>\n",
       "      <td>13.018</td>\n",
       "    </tr>\n",
       "    <tr>\n",
       "      <th>9998</th>\n",
       "      <td>3.138</td>\n",
       "      <td>-5.425</td>\n",
       "      <td>-6.873</td>\n",
       "    </tr>\n",
       "    <tr>\n",
       "      <th>9999</th>\n",
       "      <td>5.502</td>\n",
       "      <td>-8.332</td>\n",
       "      <td>-7.749</td>\n",
       "    </tr>\n",
       "  </tbody>\n",
       "</table>\n",
       "<p>10000 rows × 3 columns</p>\n",
       "</div>"
      ],
      "text/plain": [
       "         X_1     X_2       Y\n",
       "0     16.678  13.018  45.537\n",
       "1      6.583  -5.539  -1.170\n",
       "2    -19.837   6.089  -3.646\n",
       "3     -8.412   6.110   8.137\n",
       "4      1.052  11.595  25.781\n",
       "...      ...     ...     ...\n",
       "9995  -1.476  16.595  31.906\n",
       "9996   0.203  26.920  58.418\n",
       "9997   6.381   2.484  13.018\n",
       "9998   3.138  -5.425  -6.873\n",
       "9999   5.502  -8.332  -7.749\n",
       "\n",
       "[10000 rows x 3 columns]"
      ]
     },
     "execution_count": 71,
     "metadata": {},
     "output_type": "execute_result"
    }
   ],
   "source": [
    "data_df"
   ]
  },
  {
   "cell_type": "code",
   "execution_count": 72,
   "metadata": {},
   "outputs": [
    {
     "data": {
      "text/plain": [
       "10000"
      ]
     },
     "execution_count": 72,
     "metadata": {},
     "output_type": "execute_result"
    }
   ],
   "source": [
    "q2_n_rows = data_df.shape[0]\n",
    "q2_n_rows"
   ]
  },
  {
   "cell_type": "code",
   "execution_count": 73,
   "metadata": {},
   "outputs": [],
   "source": [
    "q2_X = data_df[['X_1', 'X_2']].to_numpy().reshape(q2_n_rows, 2)\n",
    "q2_y= data_df[['Y']].to_numpy().reshape(q2_n_rows, 1)"
   ]
  },
  {
   "cell_type": "code",
   "execution_count": 74,
   "metadata": {},
   "outputs": [
    {
     "data": {
      "text/plain": [
       "(10000, 2)"
      ]
     },
     "execution_count": 74,
     "metadata": {},
     "output_type": "execute_result"
    }
   ],
   "source": [
    "q2_X.shape"
   ]
  },
  {
   "cell_type": "code",
   "execution_count": 75,
   "metadata": {},
   "outputs": [
    {
     "data": {
      "text/plain": [
       "(10000, 1)"
      ]
     },
     "execution_count": 75,
     "metadata": {},
     "output_type": "execute_result"
    }
   ],
   "source": [
    "q2_y.shape"
   ]
  },
  {
   "cell_type": "code",
   "execution_count": 108,
   "metadata": {},
   "outputs": [],
   "source": [
    "def testCost(X, y, theta):\n",
    "    m = X.shape[0]\n",
    "    ones = np.ones((m, 1))\n",
    "    newX = np.concatenate((ones, X), axis=1)\n",
    "    predy = newX@theta\n",
    "    cost = np.sqrt((predy - y).T@(predy - y))\n",
    "    return cost[0][0]/m"
   ]
  },
  {
   "cell_type": "markdown",
   "metadata": {},
   "source": [
    "Cost of Test data for all the 4 theta value obtained above "
   ]
  },
  {
   "cell_type": "code",
   "execution_count": 109,
   "metadata": {},
   "outputs": [
    {
     "data": {
      "text/plain": [
       "0.01404552463363313"
      ]
     },
     "execution_count": 109,
     "metadata": {},
     "output_type": "execute_result"
    }
   ],
   "source": [
    "testCost1 = testCost(q2_X, q2_y, sgdtheta1[-1])\n",
    "testCost1"
   ]
  },
  {
   "cell_type": "code",
   "execution_count": 110,
   "metadata": {},
   "outputs": [
    {
     "data": {
      "text/plain": [
       "0.01404267893091458"
      ]
     },
     "execution_count": 110,
     "metadata": {},
     "output_type": "execute_result"
    }
   ],
   "source": [
    "testCost100 = testCost(q2_X, q2_y, sgdtheta100[-1])\n",
    "testCost100"
   ]
  },
  {
   "cell_type": "code",
   "execution_count": 111,
   "metadata": {},
   "outputs": [
    {
     "data": {
      "text/plain": [
       "0.01404160645116466"
      ]
     },
     "execution_count": 111,
     "metadata": {},
     "output_type": "execute_result"
    }
   ],
   "source": [
    "testCost10000 = testCost(q2_X, q2_y, sgdtheta10000[-1])\n",
    "testCost10000"
   ]
  },
  {
   "cell_type": "code",
   "execution_count": 112,
   "metadata": {},
   "outputs": [
    {
     "data": {
      "text/plain": [
       "0.01423536920947121"
      ]
     },
     "execution_count": 112,
     "metadata": {},
     "output_type": "execute_result"
    }
   ],
   "source": [
    "testCost1000000 = testCost(q2_X, q2_y, sgdtheta1000000[-1])\n",
    "testCost1000000"
   ]
  },
  {
   "cell_type": "markdown",
   "metadata": {},
   "source": [
    "Conclusion: SGD for batch size=10000 performed better compared to 1, 100, 1000000"
   ]
  },
  {
   "cell_type": "markdown",
   "metadata": {},
   "source": [
    "------------------------------------------------------------------------------------------------------------------"
   ]
  },
  {
   "cell_type": "markdown",
   "metadata": {},
   "source": [
    "LOGISTIC REGRESSION"
   ]
  },
  {
   "cell_type": "markdown",
   "metadata": {},
   "source": [
    "The files logisticX.csv and logisticY.csv contain the inputs (x (i) ∈ R 2 ) and outputs\n",
    "(y (i) ∈ {0, 1}) respectively for a binary classification problem, with one training example per row.\n",
    "\n",
    "Implementing $Newton’s$ $method$ for optimizing L(θ), and applying it to fit a logistic regression model to\n",
    "the data. Initialize Newton’s method with θ = ~ 0 (the vector of all zeros)."
   ]
  },
  {
   "cell_type": "code",
   "execution_count": 4,
   "metadata": {},
   "outputs": [],
   "source": [
    "q3_X = pd.read_csv('./data/q3/logisticX.csv', header=None , names=['X1', 'X2'])\n",
    "q3_y = pd.read_csv('./data/q3/logisticY.csv', header=None , names=['Y'])"
   ]
  },
  {
   "cell_type": "code",
   "execution_count": 5,
   "metadata": {},
   "outputs": [
    {
     "data": {
      "text/html": [
       "<div>\n",
       "<style scoped>\n",
       "    .dataframe tbody tr th:only-of-type {\n",
       "        vertical-align: middle;\n",
       "    }\n",
       "\n",
       "    .dataframe tbody tr th {\n",
       "        vertical-align: top;\n",
       "    }\n",
       "\n",
       "    .dataframe thead th {\n",
       "        text-align: right;\n",
       "    }\n",
       "</style>\n",
       "<table border=\"1\" class=\"dataframe\">\n",
       "  <thead>\n",
       "    <tr style=\"text-align: right;\">\n",
       "      <th></th>\n",
       "      <th>X1</th>\n",
       "      <th>X2</th>\n",
       "    </tr>\n",
       "  </thead>\n",
       "  <tbody>\n",
       "    <tr>\n",
       "      <th>0</th>\n",
       "      <td>3.8915</td>\n",
       "      <td>4.2105</td>\n",
       "    </tr>\n",
       "    <tr>\n",
       "      <th>1</th>\n",
       "      <td>3.6898</td>\n",
       "      <td>6.6051</td>\n",
       "    </tr>\n",
       "    <tr>\n",
       "      <th>2</th>\n",
       "      <td>2.7763</td>\n",
       "      <td>7.5057</td>\n",
       "    </tr>\n",
       "    <tr>\n",
       "      <th>3</th>\n",
       "      <td>3.1137</td>\n",
       "      <td>5.7724</td>\n",
       "    </tr>\n",
       "    <tr>\n",
       "      <th>4</th>\n",
       "      <td>2.9251</td>\n",
       "      <td>5.4315</td>\n",
       "    </tr>\n",
       "  </tbody>\n",
       "</table>\n",
       "</div>"
      ],
      "text/plain": [
       "       X1      X2\n",
       "0  3.8915  4.2105\n",
       "1  3.6898  6.6051\n",
       "2  2.7763  7.5057\n",
       "3  3.1137  5.7724\n",
       "4  2.9251  5.4315"
      ]
     },
     "execution_count": 5,
     "metadata": {},
     "output_type": "execute_result"
    }
   ],
   "source": [
    "q3_X.head()"
   ]
  },
  {
   "cell_type": "code",
   "execution_count": 6,
   "metadata": {},
   "outputs": [
    {
     "data": {
      "text/plain": [
       "array([0, 1])"
      ]
     },
     "execution_count": 6,
     "metadata": {},
     "output_type": "execute_result"
    }
   ],
   "source": [
    "q3_labels = q3_y['Y'].unique()\n",
    "q3_labels"
   ]
  },
  {
   "cell_type": "code",
   "execution_count": 7,
   "metadata": {},
   "outputs": [],
   "source": [
    "n_rows = q3_X.shape[0]\n",
    "ones = np.ones((n_rows, 1))\n",
    "q3_x = np.concatenate([ones, q3_X], axis=1)\n",
    "q3_y = np.array(q3_y)"
   ]
  },
  {
   "cell_type": "code",
   "execution_count": 8,
   "metadata": {},
   "outputs": [],
   "source": [
    "def sigmoidFunc(X, theta = np.array([[0], [0], [0]])):\n",
    "    thetaTX = X@theta\n",
    "    expVal = np.exp(-thetaTX)\n",
    "    return 1/(1 + expVal)    "
   ]
  },
  {
   "cell_type": "code",
   "execution_count": 9,
   "metadata": {},
   "outputs": [],
   "source": [
    "def logisticUpdatePara(X, y, lr, theta = np.array([[0], [0], [0]])):\n",
    "    m = X.shape[0]\n",
    "    predY = sigmoidFunc(X, theta)\n",
    "    grad = ((y - predY).T@X)/m\n",
    "    newTheta = theta + lr*grad.T\n",
    "    return newTheta"
   ]
  },
  {
   "cell_type": "code",
   "execution_count": 10,
   "metadata": {},
   "outputs": [],
   "source": [
    "def logLikelihood(X, y, theta = np.array([[0], [0], [0]])):\n",
    "    m = y.shape[0]\n",
    "    sum = 0\n",
    "    for ele in range(m):\n",
    "        probY = sigmoidFunc(X[ele], theta)\n",
    "        if y[ele][0] == 1:\n",
    "            sum += np.log(probY)\n",
    "        else:\n",
    "            sum += np.log(1-probY)\n",
    "    return sum[0]"
   ]
  },
  {
   "cell_type": "code",
   "execution_count": 11,
   "metadata": {},
   "outputs": [
    {
     "data": {
      "text/plain": [
       "-69.31471805599459"
      ]
     },
     "execution_count": 11,
     "metadata": {},
     "output_type": "execute_result"
    }
   ],
   "source": [
    "logLikelihood(q3_x, q3_y)"
   ]
  },
  {
   "cell_type": "code",
   "execution_count": 12,
   "metadata": {},
   "outputs": [],
   "source": [
    "def logisticRegression(X, y, lr, convergence, theta = np.array([[0], [0], [0]])):\n",
    "    lllist = []\n",
    "    ll = logLikelihood(X, y, theta)\n",
    "    lllist.append(ll)\n",
    "    while(True):\n",
    "        theta = logisticUpdatePara(X, y, lr, theta)\n",
    "        ll = logLikelihood(X, y, theta)        \n",
    "        lllist.append(ll)\n",
    "        if(lllist[-1] - lllist[-2] < convergence):\n",
    "            return theta, lllist\n"
   ]
  },
  {
   "cell_type": "code",
   "execution_count": 13,
   "metadata": {},
   "outputs": [
    {
     "data": {
      "text/plain": [
       "array([[ 0.01180591],\n",
       "       [ 1.75784934],\n",
       "       [-1.72822473]])"
      ]
     },
     "execution_count": 13,
     "metadata": {},
     "output_type": "execute_result"
    }
   ],
   "source": [
    "q3_theta, q3_ll = logisticRegression(q3_x, q3_y, 0.01, 0.0001)\n",
    "q3_theta"
   ]
  },
  {
   "cell_type": "code",
   "execution_count": 14,
   "metadata": {},
   "outputs": [
    {
     "data": {
      "text/plain": [
       "-22.983746569541456"
      ]
     },
     "execution_count": 14,
     "metadata": {},
     "output_type": "execute_result"
    }
   ],
   "source": [
    "logLikelihood(q3_x, q3_y, q3_theta)"
   ]
  },
  {
   "cell_type": "code",
   "execution_count": 27,
   "metadata": {},
   "outputs": [
    {
     "data": {
      "text/plain": [
       "[<matplotlib.lines.Line2D at 0x7fe43aab8a00>]"
      ]
     },
     "execution_count": 27,
     "metadata": {},
     "output_type": "execute_result"
    },
    {
     "data": {
      "image/png": "[encoded data removed]",
      "text/plain": [
       "<Figure size 432x288 with 1 Axes>"
      ]
     },
     "metadata": {
      "needs_background": "light"
     },
     "output_type": "display_data"
    }
   ],
   "source": [
    "x1_0 = []\n",
    "x1_1 = []\n",
    "x2_0 = []\n",
    "x2_1 = []\n",
    "for ele in range(q3_y.shape[0]):\n",
    "    if q3_y[ele] == 0:\n",
    "        x1_0.append(q3_x[ele][1])\n",
    "        x2_0.append(q3_x[ele][2])\n",
    "    else:\n",
    "        x1_1.append(q3_x[ele][1])\n",
    "        x2_1.append(q3_x[ele][2])\n",
    "x1 = np.array([ele[1] for ele in q3_x])\n",
    "x2 = -(q3_theta[0][0] + q3_theta[1][0]*np.array(x1))/q3_theta[2][0]\n",
    "plt.scatter(x1_0, x2_0, color='red')\n",
    "plt.scatter(x1_1, x2_1, color='blue')\n",
    "plt.plot(x1, x2, color='green')\n",
    "\n"
   ]
  },
  {
   "cell_type": "code",
   "execution_count": 28,
   "metadata": {},
   "outputs": [],
   "source": [
    "def gradient(X, y, theta = np.array([[0], [0], [0]])):   \n",
    "    x1 = [ele[1] for ele in X]\n",
    "    x2 = [ele[2] for ele in X]                                                      \n",
    "    sigmoid_probs = sigmoidFunc(X, theta)                                        \n",
    "    return np.array([[np.sum((y - sigmoid_probs) * x1),\n",
    "                     np.sum((y - sigmoid_probs) * x2),\n",
    "                     np.sum((y - sigmoid_probs) * 1)]]) "
   ]
  },
  {
   "cell_type": "code",
   "execution_count": 29,
   "metadata": {},
   "outputs": [],
   "source": [
    "def hessian(X, y, theta = np.array([[0], [0], [0]])):   \n",
    "    x1 = [ele[1] for ele in X]\n",
    "    x2 = [ele[2] for ele in X]                                                                \n",
    "    sigmoid_probs = sigmoidFunc(X, theta)                                        \n",
    "    d1 = np.sum((sigmoid_probs * (1 - sigmoid_probs)) * x1 * x1)\n",
    "    d2 = np.sum((sigmoid_probs * (1 - sigmoid_probs)) * x2 * x2)\n",
    "    d3 = np.sum((sigmoid_probs * (1 - sigmoid_probs)) * x1 * x2)\n",
    "    d4 = np.sum((sigmoid_probs * (1 - sigmoid_probs)) * x1 * 1)                  \n",
    "    d5 = np.sum((sigmoid_probs * (1 - sigmoid_probs)) * x2 * 1)\n",
    "    d6 = np.sum((sigmoid_probs * (1 - sigmoid_probs)) * 1 * 1)                  \n",
    "    H = np.array([[d1, d3, d4],[d3, d2, d5], [d4, d5, d6]])                                           \n",
    "    return H"
   ]
  },
  {
   "cell_type": "code",
   "execution_count": 30,
   "metadata": {},
   "outputs": [
    {
     "data": {
      "text/plain": [
       "array([[0.00000000e+00, 9.09494702e-13, 0.00000000e+00]])"
      ]
     },
     "execution_count": 30,
     "metadata": {},
     "output_type": "execute_result"
    }
   ],
   "source": [
    "gradient(q3_x, q3_y)"
   ]
  },
  {
   "cell_type": "code",
   "execution_count": 31,
   "metadata": {},
   "outputs": [
    {
     "data": {
      "text/plain": [
       "array([[5.76802916e+04, 4.99567217e+04, 1.15467925e+04],\n",
       "       [4.99567217e+04, 5.59514106e+04, 1.13071700e+04],\n",
       "       [1.15467925e+04, 1.13071700e+04, 2.50000000e+01]])"
      ]
     },
     "execution_count": 31,
     "metadata": {},
     "output_type": "execute_result"
    }
   ],
   "source": [
    "hessian(q3_x, q3_y)"
   ]
  },
  {
   "cell_type": "code",
   "execution_count": 32,
   "metadata": {},
   "outputs": [],
   "source": [
    "def classificationUsingNewton(X, y, theta = np.array([[0], [0], [0]])):\n",
    "    for _ in range(10):\n",
    "        g = gradient(X, y, theta)                                                      \n",
    "        hess = hessian(X, y, theta)                                                 \n",
    "        H_inv = np.linalg.inv(hess) \n",
    "        update = H_inv @ g.T\n",
    "        theta = theta - update\n",
    "        ll = logLikelihood(X, y, theta)\n",
    "    return theta"
   ]
  },
  {
   "cell_type": "code",
   "execution_count": 33,
   "metadata": {},
   "outputs": [
    {
     "data": {
      "text/plain": [
       "array([[-1.07814812e-17],\n",
       "       [ 1.16319893e-17],\n",
       "       [-2.77147160e-10]])"
      ]
     },
     "execution_count": 33,
     "metadata": {},
     "output_type": "execute_result"
    }
   ],
   "source": [
    "classificationUsingNewton(q3_x, q3_y)"
   ]
  },
  {
   "cell_type": "markdown",
   "metadata": {},
   "source": [
    "-------------------------------------------------------------------------------------------------------------------"
   ]
  },
  {
   "cell_type": "markdown",
   "metadata": {},
   "source": [
    "GAUSSIAN DISCRIMINANT ANALYSIS\n",
    "\n",
    "Implementing GDA for separating out salmons from Alaska and Canada. Each salmon is represented by two attributes x1 and x2 depicting growth ring diameters in \n",
    "    \n",
    "    1) fresh water, \n",
    "    \n",
    "    2) marine water, respectively. \n",
    "    \n",
    "File q4x.dat stores the two attribute values with one entry on each row. File q4y.dat contains the target values (y (i) ’s ∈ {Alaska, Canada}) on respective rows."
   ]
  },
  {
   "cell_type": "markdown",
   "metadata": {},
   "source": [
    "Implement GDA using the closed form equations. Assume that both the classes have the same co-variance matrix i.e. Σ 0 = Σ 1 = Σ. Report the values of the means, µ 0 and µ 1 , and the co-variance matrix Σ"
   ]
  },
  {
   "cell_type": "code",
   "execution_count": 3,
   "metadata": {},
   "outputs": [
    {
     "data": {
      "text/plain": [
       "(    X1   X2\n",
       " 0  108  368\n",
       " 1  131  355\n",
       " 2  105  469\n",
       " 3   86  506\n",
       " 4   99  402,\n",
       "         y\n",
       " 0  Alaska\n",
       " 1  Alaska\n",
       " 2  Alaska\n",
       " 3  Alaska\n",
       " 4  Alaska)"
      ]
     },
     "execution_count": 3,
     "metadata": {},
     "output_type": "execute_result"
    }
   ],
   "source": [
    "q4_X = pd.read_csv('./data/q4/q4x.dat', header=None, sep='  ', names=['X1', 'X2'], engine='python')\n",
    "q4_y = pd.read_csv('./data/q4/q4y.dat', header=None , names=['y'])\n",
    "q4_X.head(5), q4_y.head(5) "
   ]
  },
  {
   "cell_type": "markdown",
   "metadata": {},
   "source": [
    "Pre-processing"
   ]
  },
  {
   "cell_type": "code",
   "execution_count": 4,
   "metadata": {},
   "outputs": [],
   "source": [
    "q4_X = np.array(q4_X)\n",
    "q4_labels = list(np.unique(q4_y))\n",
    "q4_y['y'].replace(q4_labels, [0, 1], inplace=True)\n",
    "q4_y = np.array(q4_y)"
   ]
  },
  {
   "cell_type": "markdown",
   "metadata": {},
   "source": [
    "Parameters\n"
   ]
  },
  {
   "cell_type": "code",
   "execution_count": 5,
   "metadata": {},
   "outputs": [
    {
     "data": {
      "text/plain": [
       "(100, 2)"
      ]
     },
     "execution_count": 5,
     "metadata": {},
     "output_type": "execute_result"
    }
   ],
   "source": [
    "m = q4_y.shape[0]\n",
    "n = q4_X.shape[1]\n",
    "\n",
    "m, n"
   ]
  },
  {
   "cell_type": "code",
   "execution_count": 6,
   "metadata": {},
   "outputs": [],
   "source": [
    "q4_x0 = []\n",
    "q4_x1 = []\n",
    "for ele in range(m):\n",
    "    x = [int(x_i) for x_i in q4_X[ele]]\n",
    "    if q4_y[ele][0] == 0:\n",
    "        q4_x0.append(q4_X[ele])\n",
    "    else:\n",
    "        q4_x1.append(q4_X[ele])\n",
    "q4_x0 = np.array(q4_x0)\n",
    "q4_x1 = np.array(q4_x1)\n"
   ]
  },
  {
   "cell_type": "code",
   "execution_count": 7,
   "metadata": {},
   "outputs": [
    {
     "data": {
      "text/plain": [
       "<matplotlib.collections.PathCollection at 0x7f1fbafb4490>"
      ]
     },
     "execution_count": 7,
     "metadata": {},
     "output_type": "execute_result"
    },
    {
     "data": {
      "image/png": "[encoded data removed]",
      "text/plain": [
       "<Figure size 432x288 with 1 Axes>"
      ]
     },
     "metadata": {
      "needs_background": "light"
     },
     "output_type": "display_data"
    }
   ],
   "source": [
    "q4_x1_0 = []\n",
    "q4_x1_1 = []\n",
    "q4_x2_0 = []\n",
    "q4_x2_1 = []\n",
    "for ele in q4_x0:\n",
    "    q4_x1_0.append(ele[0])\n",
    "    q4_x2_0.append(ele[1])\n",
    "for ele in q4_x1:\n",
    "    q4_x1_1.append(ele[0])\n",
    "    q4_x2_1.append(ele[1])\n",
    "#x1 = np.array([ele[1] for ele in q3_x])\n",
    "#x2 = -(q3_theta[0][0] + q3_theta[1][0]*np.array(x1))/q3_theta[2][0]\n",
    "plt.scatter(q4_x1_0, q4_x2_0, color='red')\n",
    "plt.scatter(q4_x1_1, q4_x2_1, color='blue')\n",
    "#plt.plot(x1, x2, color='green')"
   ]
  },
  {
   "cell_type": "markdown",
   "metadata": {},
   "source": [
    "Calculating phi, by describing bernoulli distribution in y"
   ]
  },
  {
   "cell_type": "code",
   "execution_count": 8,
   "metadata": {},
   "outputs": [
    {
     "data": {
      "text/plain": [
       "0.5"
      ]
     },
     "execution_count": 8,
     "metadata": {},
     "output_type": "execute_result"
    }
   ],
   "source": [
    "numYis1 = q4_x1.shape[0]\n",
    "numYis0 = m - numYis1\n",
    "\n",
    "phi = numYis1/m\n",
    "phi"
   ]
  },
  {
   "cell_type": "markdown",
   "metadata": {},
   "source": [
    "Determining the mean:\n",
    "\n",
    "    miu - mean of whole dataset\n",
    "    miu_0 - mean of dataset having label 0\n",
    "    miu_1 - mean of dataset having label 1"
   ]
  },
  {
   "cell_type": "code",
   "execution_count": 9,
   "metadata": {},
   "outputs": [
    {
     "data": {
      "text/plain": [
       "(array([[117.92],\n",
       "        [398.14]]),\n",
       " array([[ 98.38],\n",
       "        [429.66]]),\n",
       " array([[137.46],\n",
       "        [366.62]]))"
      ]
     },
     "execution_count": 9,
     "metadata": {},
     "output_type": "execute_result"
    }
   ],
   "source": [
    "miu = sum(q4_X)/m\n",
    "miu_0 = sum(q4_x0)/numYis0\n",
    "miu_1 = sum(q4_x1)/numYis1\n",
    "miu = miu.reshape(2, 1)\n",
    "miu_0 = miu_0.reshape(2, 1)\n",
    "miu_1 = miu_1.reshape(2, 1)\n",
    "miu, miu_0, miu_1"
   ]
  },
  {
   "cell_type": "markdown",
   "metadata": {},
   "source": [
    "Detemining the variance:\n",
    "\n",
    "    sigma - Variance of whole dataset\n",
    "    sigma0 - Variance of dataset having label 0\n",
    "    sigma1 - Variance of dataset having label 1\n"
   ]
  },
  {
   "cell_type": "code",
   "execution_count": 10,
   "metadata": {},
   "outputs": [
    {
     "data": {
      "text/plain": [
       "(array([[ 669.2936, -642.6488],\n",
       "        [-642.6488, 2116.7604]]),\n",
       " array([[ 255.3956, -184.3308],\n",
       "        [-184.3308, 1371.1044]]),\n",
       " array([[319.5684, 130.8348],\n",
       "        [130.8348, 875.3956]]))"
      ]
     },
     "execution_count": 10,
     "metadata": {},
     "output_type": "execute_result"
    }
   ],
   "source": [
    "vpSum = np.array([[0.0 for _ in range(n)] for _ in range(n)])\n",
    "for ele in q4_X:\n",
    "    ele = ele.reshape(2, 1)\n",
    "    diff = ele - miu\n",
    "    vp = diff@diff.T\n",
    "    vpSum += vp\n",
    "sigma = vpSum/m\n",
    "\n",
    "\n",
    "vpSum0 = np.array([[0.0 for _ in range(n)] for _ in range(n)])\n",
    "for ele in q4_x0:\n",
    "    ele = ele.reshape(2, 1)\n",
    "    diff = ele - miu_0\n",
    "    vp = diff@diff.T\n",
    "    vpSum0 += vp\n",
    "sigma0 = vpSum0/numYis0\n",
    "\n",
    "vpSum1 = np.array([[0.0 for _ in range(n)] for _ in range(n)])\n",
    "for ele in q4_x1:\n",
    "    ele = ele.reshape(2, 1)\n",
    "    diff = ele - miu_1\n",
    "    vp = diff@diff.T\n",
    "    vpSum1 += vp\n",
    "sigma1 = vpSum1/numYis1\n",
    "\n",
    "sigma, sigma0, sigma1"
   ]
  },
  {
   "cell_type": "markdown",
   "metadata": {},
   "source": [
    "IF sigma1 = sigma2 = sigma(say)"
   ]
  },
  {
   "cell_type": "code",
   "execution_count": 11,
   "metadata": {},
   "outputs": [],
   "source": [
    "sigma_inv = np.linalg.inv(sigma)\n",
    "term0 = (miu_1 - miu_0).T@sigma_inv\n",
    "term1 = (miu_1.T@sigma_inv@miu_1 - miu_0.T@sigma_inv@miu_0)/2\n",
    "term2 = np.log((1-phi)/phi)\n",
    "prob_yis1List = []\n",
    "for index in range(m):\n",
    "    logA = -term0@q4_X[index] + term1 + term2\n",
    "    A = np.exp(logA)\n",
    "    prob_yis1 = 1/(1 + A)\n",
    "    prob_yis1List.append(prob_yis1)"
   ]
  },
  {
   "cell_type": "markdown",
   "metadata": {},
   "source": [
    "Plotting the decision boundary"
   ]
  },
  {
   "cell_type": "code",
   "execution_count": 12,
   "metadata": {},
   "outputs": [],
   "source": [
    "x1Val = np.array([ele for ele in range(50, 200)])\n",
    "x2Val = []\n",
    "for eleX in x1Val:\n",
    "    val = (term1 + term2 - term0[0][0]*eleX)/term0[0][1]\n",
    "    x2Val.append(val[0][0])\n",
    "x2Val = np.array(x2Val)"
   ]
  },
  {
   "cell_type": "code",
   "execution_count": 13,
   "metadata": {},
   "outputs": [
    {
     "data": {
      "text/plain": [
       "[<matplotlib.lines.Line2D at 0x7f1fb8eb2940>]"
      ]
     },
     "execution_count": 13,
     "metadata": {},
     "output_type": "execute_result"
    },
    {
     "data": {
      "image/png": "[encoded data removed]",
      "text/plain": [
       "<Figure size 432x288 with 1 Axes>"
      ]
     },
     "metadata": {
      "needs_background": "light"
     },
     "output_type": "display_data"
    }
   ],
   "source": [
    "plt.scatter(q4_x1_0, q4_x2_0, color='red')\n",
    "plt.scatter(q4_x1_1, q4_x2_1, color='blue')\n",
    "plt.plot(x1Val, x2Val, color='green')"
   ]
  },
  {
   "cell_type": "markdown",
   "metadata": {},
   "source": [
    "Prediction error on training Data"
   ]
  },
  {
   "cell_type": "code",
   "execution_count": 14,
   "metadata": {},
   "outputs": [
    {
     "data": {
      "text/plain": [
       "0.07"
      ]
     },
     "execution_count": 14,
     "metadata": {},
     "output_type": "execute_result"
    }
   ],
   "source": [
    "q4predY = []\n",
    "for prob in prob_yis1List:\n",
    "    if prob > 0.5:\n",
    "        q4predY.append(1)\n",
    "    else:\n",
    "        q4predY.append(0)\n",
    "q4predY = np.array(q4predY)\n",
    "q4RealY =  q4_y.reshape(m,)\n",
    "eachError = [np.abs(q4RealY[index] - q4predY[index]) for index in range(m)]\n",
    "errorPer = np.sum(eachError)/m\n",
    "errorPer"
   ]
  },
  {
   "cell_type": "markdown",
   "metadata": {},
   "source": [
    "Taking each of the target classes having its own covariance matrix"
   ]
  },
  {
   "cell_type": "code",
   "execution_count": 33,
   "metadata": {},
   "outputs": [
    {
     "data": {
      "text/plain": [
       "array([[ 1.24352364, -0.14704452],\n",
       "       [ 0.05361255,  0.77937947]])"
      ]
     },
     "execution_count": 33,
     "metadata": {},
     "output_type": "execute_result"
    }
   ],
   "source": [
    "a_mat = ((1-phi)/phi)*(np.sqrt(sigma1)@np.linalg.inv(np.sqrt(np.sqrt(sigma0**2))))\n",
    "a_mat"
   ]
  },
  {
   "cell_type": "code",
   "execution_count": 35,
   "metadata": {},
   "outputs": [
    {
     "data": {
      "text/plain": [
       "(316196.1870719999,\n",
       " array([[319.5684, 130.8348],\n",
       "        [130.8348, 875.3956]]))"
      ]
     },
     "execution_count": 35,
     "metadata": {},
     "output_type": "execute_result"
    }
   ],
   "source": [
    "np.linalg.det(sigma0), sigma1"
   ]
  },
  {
   "cell_type": "code",
   "execution_count": 36,
   "metadata": {},
   "outputs": [],
   "source": [
    "sigma0_inv = np.linalg.inv(sigma0)\n",
    "sigma1_inv = np.linalg.inv(sigma1)\n",
    "term0 = sigma1_inv - sigma0_inv\n",
    "term1 = 2*(miu_1.T@sigma1_inv - miu_0.T@sigma0_inv)\n",
    "term2 = miu_1.T@sigma1_inv@miu_1 - miu_0.T@sigma0_inv@miu_0\n",
    "term3 = np.log(((1-phi) /phi)*(np.sqrt(np.linalg.det(sigma1))/np.sqrt(np.linalg.det(sigma0))))\n",
    "\n",
    "prob_yis1Listquad = []\n",
    "for index in range(m):\n",
    "    logA = 1/2*(q4_X[index].T@term0@q4_X[index] - term1@q4_X[index] + term2) + term3\n",
    "    A = np.exp(logA)\n",
    "    prob_yis1 = 1/(1 + A)\n",
    "    prob_yis1Listquad.append(prob_yis1)"
   ]
  },
  {
   "cell_type": "code",
   "execution_count": 38,
   "metadata": {},
   "outputs": [
    {
     "data": {
      "text/plain": [
       "0.07"
      ]
     },
     "execution_count": 38,
     "metadata": {},
     "output_type": "execute_result"
    }
   ],
   "source": [
    "q4predYquad = []\n",
    "for prob in prob_yis1Listquad:\n",
    "    if prob > 0.5:\n",
    "        q4predYquad.append(1)\n",
    "    else:\n",
    "        q4predYquad.append(0)\n",
    "q4predYquad = np.array(q4predYquad)\n",
    "q4RealY =  q4_y.reshape(m,)\n",
    "eachError = [np.abs(q4RealY[index] - q4predYquad[index]) for index in range(m)]\n",
    "quaderrorPer = np.sum(eachError)/m\n",
    "quaderrorPer"
   ]
  },
  {
   "cell_type": "code",
   "execution_count": 62,
   "metadata": {},
   "outputs": [],
   "source": [
    "def getPolycoeff(x1):\n",
    "    A0 = term1[0][0]/2\n",
    "    A1 = term1[0][1]/2\n",
    "    a = term0[1][1]\n",
    "    b = x1*(term0[0][0] + term0[0][1]) + A1\n",
    "    c = (x1**2)*term0[0][0] + A0*x1 + term2[0][0]/2 + term3 \n",
    "    return a, b, c"
   ]
  },
  {
   "cell_type": "code",
   "execution_count": 73,
   "metadata": {},
   "outputs": [],
   "source": [
    "X1Valquad = []\n",
    "X2Valquad = []\n",
    "for index in range(50, 200):\n",
    "    a, b, c = getPolycoeff(index)\n",
    "    disPoly = b**2 - 4*a*c\n",
    "    if disPoly > 0:\n",
    "        X1Valquad.append(index)       \n",
    "        X2Valquad.append((-b + np.sqrt(disPoly))/(2*a))\n",
    "        X1Valquad.append(index)       \n",
    "        X2Valquad.append((-b - np.sqrt(disPoly))/(2*a))\n",
    "    elif disPoly == 0:\n",
    "        X1Valquad.append(index)       \n",
    "        X2Valquad.append((-b)/(2*a))"
   ]
  },
  {
   "cell_type": "code",
   "execution_count": 71,
   "metadata": {},
   "outputs": [],
   "source": [
    "X1Valquad = np.array(X1Valquad)\n",
    "X2Valquad = np.array(X2Valquad)"
   ]
  },
  {
   "cell_type": "code",
   "execution_count": 102,
   "metadata": {},
   "outputs": [],
   "source": [
    "q4_x0_pred = []\n",
    "q4_x1_pred = []\n",
    "for ele in range(m):\n",
    "    if prob_yis1Listquad[ele][0][0] > 0:\n",
    "        q4_x0_pred.append(q4_X[ele])\n",
    "    else:\n",
    "        q4_x1_pred.append(q4_X[ele])\n",
    "q4_x0_pred = np.array(q4_x0)\n",
    "q4_x1_pred = np.array(q4_x1)"
   ]
  },
  {
   "cell_type": "code",
   "execution_count": 103,
   "metadata": {},
   "outputs": [
    {
     "data": {
      "text/plain": [
       "<matplotlib.collections.PathCollection at 0x7f1fb87f9460>"
      ]
     },
     "execution_count": 103,
     "metadata": {},
     "output_type": "execute_result"
    },
    {
     "data": {
      "image/png": "[encoded data removed]",
      "text/plain": [
       "<Figure size 432x288 with 1 Axes>"
      ]
     },
     "metadata": {
      "needs_background": "light"
     },
     "output_type": "display_data"
    }
   ],
   "source": [
    "q4_x1_0_pred = []\n",
    "q4_x1_1_pred = []\n",
    "q4_x0_0_pred = []\n",
    "q4_x0_1_pred = []\n",
    "for ele in q4_x0_pred:\n",
    "    q4_x0_0_pred.append(ele[0])\n",
    "    q4_x1_0_pred.append(ele[1])\n",
    "for ele in q4_x1_pred:\n",
    "    q4_x0_1_pred.append(ele[0])\n",
    "    q4_x1_1_pred.append(ele[1])\n",
    "#x1 = np.array([ele[1] for ele in q3_x])\n",
    "#x2 = -(q3_theta[0][0] + q3_theta[1][0]*np.array(x1))/q3_theta[2][0]\n",
    "plt.scatter(q4_x0_0_pred, q4_x1_0_pred, color='red')\n",
    "plt.scatter(q4_x0_1_pred, q4_x1_1_pred, color='blue')"
   ]
  }
 ],
 "metadata": {
  "interpreter": {
   "hash": "916dbcbb3f70747c44a77c7bcd40155683ae19c65e1c03b4aa3499c5328201f1"
  },
  "kernelspec": {
   "display_name": "Python 3.8.10 64-bit",
   "language": "python",
   "name": "python3"
  },
  "language_info": {
   "codemirror_mode": {
    "name": "ipython",
    "version": 3
   },
   "file_extension": ".py",
   "mimetype": "text/x-python",
   "name": "python",
   "nbconvert_exporter": "python",
   "pygments_lexer": "ipython3",
   "version": "3.8.10"
  },
  "orig_nbformat": 4
 },
 "nbformat": 4,
 "nbformat_minor": 2
}
